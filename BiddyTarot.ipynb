{
  "nbformat": 4,
  "nbformat_minor": 0,
  "metadata": {
    "colab": {
      "name": "BiddyTarot.ipynb",
      "provenance": [],
      "authorship_tag": "ABX9TyPXxFONyZ7PIA+eImr2ssgX",
      "include_colab_link": true
    },
    "kernelspec": {
      "name": "python3",
      "display_name": "Python 3"
    },
    "language_info": {
      "name": "python"
    }
  },
  "cells": [
    {
      "cell_type": "markdown",
      "metadata": {
        "id": "view-in-github",
        "colab_type": "text"
      },
      "source": [
        "<a href=\"https://colab.research.google.com/github/scharnk/madam_marie/blob/main/BiddyTarot.ipynb\" target=\"_parent\"><img src=\"https://colab.research.google.com/assets/colab-badge.svg\" alt=\"Open In Colab\"/></a>"
      ]
    },
    {
      "cell_type": "code",
      "metadata": {
        "id": "9fanNZNsphT2"
      },
      "source": [
        "import seaborn as sns\n",
        "sns.set()\n",
        "\n",
        "import numpy as np\n",
        "import pandas as pd\n",
        "import matplotlib.pyplot as plt\n",
        "\n",
        "import requests\n",
        "# import requests_cache\n",
        "import dill\n",
        "from bs4 import BeautifulSoup\n",
        "from datetime import datetime\n",
        "from retrying import retry\n",
        "import re\n",
        "import spacy\n",
        "import itertools  # itertools.combinations may be useful\n",
        "import networkx as nx"
      ],
      "execution_count": 1,
      "outputs": []
    },
    {
      "cell_type": "code",
      "metadata": {
        "id": "ZYN4UKFY7RLX"
      },
      "source": [
        "url_list = ['https://www.biddytarot.com/tarot-card-meanings/major-arcana/', \n",
        "            'https://www.biddytarot.com/tarot-card-meanings/minor-arcana/suit-of-cups/',\n",
        "            'https://www.biddytarot.com/tarot-card-meanings/minor-arcana/suit-of-swords/',\n",
        "            'https://www.biddytarot.com/tarot-card-meanings/minor-arcana/suit-of-pentacles/',\n",
        "            'https://www.biddytarot.com/tarot-card-meanings/minor-arcana/suit-of-wands/']"
      ],
      "execution_count": 2,
      "outputs": []
    },
    {
      "cell_type": "code",
      "metadata": {
        "id": "_zKkJbQTQymI"
      },
      "source": [
        "url_major_arcana = [\n",
        "                    'https://www.biddytarot.com/tarot-card-meanings/major-arcana/fool/',\n",
        "                    'https://www.biddytarot.com/tarot-card-meanings/major-arcana/magician/',\n",
        "                    'https://www.biddytarot.com/tarot-card-meanings/major-arcana/high-priestess/',\n",
        "                    'https://www.biddytarot.com/tarot-card-meanings/major-arcana/empress/',\n",
        "                    'https://www.biddytarot.com/tarot-card-meanings/major-arcana/emperor/',\n",
        "                    'https://www.biddytarot.com/tarot-card-meanings/major-arcana/hierophant/',\n",
        "                    'https://www.biddytarot.com/tarot-card-meanings/major-arcana/lovers/',\n",
        "                    'https://www.biddytarot.com/tarot-card-meanings/major-arcana/chariot/',\n",
        "                    'https://www.biddytarot.com/tarot-card-meanings/major-arcana/strength/',\n",
        "                    'https://www.biddytarot.com/tarot-card-meanings/major-arcana/hermit/',\n",
        "                    'https://www.biddytarot.com/tarot-card-meanings/major-arcana/wheel-of-fortune/',\n",
        "                    'https://www.biddytarot.com/tarot-card-meanings/major-arcana/justice/',\n",
        "                    'https://www.biddytarot.com/tarot-card-meanings/major-arcana/hanged-man/',\n",
        "                    'https://www.biddytarot.com/tarot-card-meanings/major-arcana/death/',\n",
        "                    'https://www.biddytarot.com/tarot-card-meanings/major-arcana/temperance/',\n",
        "                    'https://www.biddytarot.com/tarot-card-meanings/major-arcana/devil/',\n",
        "                    'https://www.biddytarot.com/tarot-card-meanings/major-arcana/tower/',\n",
        "                    'https://www.biddytarot.com/tarot-card-meanings/major-arcana/star/',\n",
        "                    'https://www.biddytarot.com/tarot-card-meanings/major-arcana/moon/',\n",
        "                    'https://www.biddytarot.com/tarot-card-meanings/major-arcana/sun/',\n",
        "                    'https://www.biddytarot.com/tarot-card-meanings/major-arcana/judgement/',\n",
        "                    'https://www.biddytarot.com/tarot-card-meanings/major-arcana/world/'\n",
        "]"
      ],
      "execution_count": 3,
      "outputs": []
    },
    {
      "cell_type": "code",
      "metadata": {
        "id": "ODkuNPj0oZI-"
      },
      "source": [
        "card_list = [\n",
        "             \"Fool\",\n",
        "             \"The Magician\",\n",
        "             \"High Priestess\",\n",
        "             \"The Empress\",\n",
        "             \"The Emperor\",\n",
        "             \"Hierophant\",\n",
        "             \"Lovers\",\n",
        "             \"Chariot\",\n",
        "             \"Strength\",\n",
        "             \"Hermit\",\n",
        "             \"Wheel of Fortune\",\n",
        "             \"Justice\",\n",
        "             \"Hanged Man\",\n",
        "             \"Death\",\n",
        "             \"Temperance\",\n",
        "             \"Devil\",\n",
        "             \"Tower\",\n",
        "             \"Star\",\n",
        "             \"Moon\",\n",
        "             \"Sun\",\n",
        "             \"Judgement\",\n",
        "             \"World\"\n",
        "             ]"
      ],
      "execution_count": 68,
      "outputs": []
    },
    {
      "cell_type": "code",
      "metadata": {
        "id": "0yfElGO2p97n"
      },
      "source": [
        "#run through url list to get keywords for each card upright and reversed\n",
        "\n",
        "\n",
        "\n",
        "#run through url_major_arcana to get full card meanings for upright and reversed\n",
        "\n",
        "\n",
        "\n",
        "#can figure out how to get general card descriptions later on... should be similar to card meanings"
      ],
      "execution_count": null,
      "outputs": []
    },
    {
      "cell_type": "code",
      "metadata": {
        "id": "xWx1DMoMpqsY"
      },
      "source": [
        "page = requests.get('https://www.biddytarot.com/tarot-card-meanings/') # Use requests.get to download the page."
      ],
      "execution_count": null,
      "outputs": []
    },
    {
      "cell_type": "code",
      "metadata": {
        "id": "owmnWmFmp6as"
      },
      "source": [
        "soup = BeautifulSoup(page.text, \"html.parser\")"
      ],
      "execution_count": null,
      "outputs": []
    },
    {
      "cell_type": "code",
      "metadata": {
        "id": "JAK53AVCyoJG"
      },
      "source": [
        "# url_base = 'https://www.biddytarot.com/'\n",
        "# url_end = ['/tarot-card-meanings/major-arcana/', '/tarot-card-meanings/minor-arcana/suit-of-cups/', '/tarot-card-meanings/minor-arcana/suit-of-swords/', '/tarot-card-meanings/minor-arcana/suit-of-pentacles/', '/tarot-card-meanings/minor-arcana/suit-of-wands/']"
      ],
      "execution_count": null,
      "outputs": []
    },
    {
      "cell_type": "code",
      "metadata": {
        "id": "ST0tGr_43DMt"
      },
      "source": [
        "# soup.prettify"
      ],
      "execution_count": null,
      "outputs": []
    },
    {
      "cell_type": "code",
      "metadata": {
        "id": "KFlM_PH6QUE5"
      },
      "source": [
        "page = requests.get(url_list[0]) # Use requests.get to download the page.\n",
        "soup = BeautifulSoup(page.text, \"html.parser\")"
      ],
      "execution_count": null,
      "outputs": []
    },
    {
      "cell_type": "code",
      "metadata": {
        "id": "kX6qwgPaukaP"
      },
      "source": [
        "# for link in soup.find_all('a'):\n",
        "#     print(link.get('href'))"
      ],
      "execution_count": null,
      "outputs": []
    },
    {
      "cell_type": "code",
      "metadata": {
        "id": "5sZ727YfrF1w"
      },
      "source": [
        "# def get_links(response):\n",
        "#     soup = BeautifulSoup(response.text, \"lxml\")\n",
        "#     links = soup.select('div[a]')\n",
        "#     pairs = []\n",
        "#     for i in range(len(links)):\n",
        "#         pair = get_link_date(links[i])\n",
        "#         pairs.append(pair)\n",
        "#     return pairs # A list of URL, date pairs\n",
        "#     return links\n",
        "    # for li in div:\n",
        "    # all_li = li.find_all('li')\n",
        "    # for link in all_li.find_all('a'):\n",
        "    #     print(link.get('href'))"
      ],
      "execution_count": null,
      "outputs": []
    },
    {
      "cell_type": "code",
      "metadata": {
        "id": "6O6QosvA7Yhw"
      },
      "source": [
        "fool = requests.get('https://www.biddytarot.com/tarot-card-meanings/major-arcana/fool/')\n",
        "soup_fool = BeautifulSoup(fool.text,\"lxml\")"
      ],
      "execution_count": 4,
      "outputs": []
    },
    {
      "cell_type": "code",
      "metadata": {
        "id": "_EfYauniOsNI"
      },
      "source": [
        "text_p = []\n",
        "p = soup_fool.find_all(id = [\"upright\", \"reversed\"])\n",
        "# text_p = [text_p.append(i.getText()) for i in p]\n",
        "for i in p:\n",
        "    text_p.append(i.getText())"
      ],
      "execution_count": 32,
      "outputs": []
    },
    {
      "cell_type": "code",
      "metadata": {
        "id": "NIULuUJSjOT_"
      },
      "source": [
        "p = soup_fool.find_all(id = [\"upright\", \"reversed\"])"
      ],
      "execution_count": 24,
      "outputs": []
    },
    {
      "cell_type": "code",
      "metadata": {
        "id": "l1IsX9Ngi-cx",
        "outputId": "1c234ba1-fa29-4372-8d50-7dbc72c1883e",
        "colab": {
          "base_uri": "https://localhost:8080/"
        }
      },
      "source": [
        "text_p"
      ],
      "execution_count": 33,
      "outputs": [
        {
          "output_type": "execute_result",
          "data": {
            "text/plain": [
              "['Upright FoolThe Fool is a card of new beginnings, opportunity and potential. Just like the young man, you are at the outset of your journey, standing at the cliff‘s edge, and about to take your first step into the unknown. Even though you don’t know exactly where you are going, you are being called to commit yourself and follow your heart, no matter how crazy this leap of faith might seem to you. Now is a time when you need to trust where the Universe is taking you.As you undertake this new journey, the Fool encourages you to have an open, curious mind and a sense of excitement. Throw caution to the wind and be ready to embrace the unknown, leaving behind any fear, worry or anxiety about what may or may not happen. This is about new experiences, personal growth, development, and adventure.The time is NOW! Take that leap of faith, even if you do not feel 100% ready or equipped for what is coming (who knows what it could be?!). Seriously, what are you waiting for? Do you think you need to have everything mapped out before you can begin? No way! Not with the Fool. He ventures out on his journey with just his essential belongings – and now he invites you to do the same. You don’t need to wait for someone to give you the green light or hold off until you have all the skills, tools and resources you think you might need. You are ready! If you’ve been watching for a sign, this is it!This is a time of great potential and opportunity for you right now. The world is your oyster, and anything can happen. Use your creative mind with a dash of spontaneity to make the most of this magical time and bring forth your new ideas in powerful ways.The Fool is your invitation to relax, play, and have fun. Treat life like one big experiment and feel yourself in the flow of whatever comes your way. This card asks you to embrace your beautiful, carefree spirit, allowing yourself to connect to the energy that surrounds you and flows through you. Tap into your fullest potential by stepping into a place of wonderment, curiosity and intrigue. Live life as though you were a child once again. Laugh more, dance, and let your heart go free.This is an excellent card to meditate on if you are struggling with dread, worry or self-doubt in your life. The Fool is your guide, as someone who is daring and carefree. He is the embodiment of who you really are – your free spirit, your inner child, and your playful soul. Any time you experience fear, remember the essence of the Fool as he encourages you to acknowledge that fear and do it anyway! You never know what the future holds, but like the Fool, you must step into the unknown, trusting that the Universe will catch you and escort you along the way. Take a chance and see what happens.',\n",
              " 'Reversed Fool The Fool reversed suggests that you have conceived of a new project but aren’t ready to ‘birth’ it into the world just yet. You may worry that you are not fit or that you don’t have all the tools, skills and resources you need to make this project a success. Or perhaps you have a sense that the timing isn’t right. Something is holding you back, and you are preventing yourself from moving forward. You may choose to keep this new opportunity to yourself for now, or you might be ‘parking’ it until a better time.You may fear the unknown, wondering, ‘What am I getting myself into?’ As a result, you have come to a standstill, worried about taking any action where you don’t know the outcome. This often boils down to the need to control everything. Balance this out with knowing that the Universe has your back and you can take this step forward, even if you are unsure of exactly what will happen next.On the flipside, the reversed Fool can show that you are taking too many risks and acting recklessly. In your attempt to live ‘in the moment’ and be spontaneous and adventurous, you may do so in total disregard of the consequences of your actions and engaging in activities that put both yourself and others at risk. Look at the bigger picture and consider how you can keep the free spirit of the Fool without harming others.In light of the playful and fun energy of the upright Fool, the reversal suggests you are exploring this spirit on a more personal and quiet level. For example, instead of letting down your hair and dancing up on stage, you are dancing in your bedroom like no-one is watching. Look at how you can bring more play into your daily life, even if you start out by doing it in private. ']"
            ]
          },
          "metadata": {
            "tags": []
          },
          "execution_count": 33
        }
      ]
    },
    {
      "cell_type": "code",
      "metadata": {
        "id": "j4r_u_Umgl0f"
      },
      "source": [
        "soup_fool.find_all('p')"
      ],
      "execution_count": null,
      "outputs": []
    },
    {
      "cell_type": "code",
      "metadata": {
        "id": "NPgYFrcEfr5q"
      },
      "source": [
        "a = soup_fool.find(id=[\"upright\",\"reversed\"])"
      ],
      "execution_count": 18,
      "outputs": []
    },
    {
      "cell_type": "code",
      "metadata": {
        "id": "JnTV51727YZ6"
      },
      "source": [
        "major_page = requests.get('https://www.biddytarot.com/tarot-card-meanings/major-arcana/')"
      ],
      "execution_count": 36,
      "outputs": []
    },
    {
      "cell_type": "code",
      "metadata": {
        "id": "IznAV2hc7YRw"
      },
      "source": [
        "soup_major = BeautifulSoup(major_page.text, \"lxml\")"
      ],
      "execution_count": 37,
      "outputs": []
    },
    {
      "cell_type": "code",
      "metadata": {
        "id": "BOzhyVnw7YIX"
      },
      "source": [
        "items = soup_major.find_all('div', {'class' : 'card_item'})"
      ],
      "execution_count": 56,
      "outputs": []
    },
    {
      "cell_type": "code",
      "metadata": {
        "id": "1HTFoqaBlIOA"
      },
      "source": [
        "keywords = []\n",
        "for i in items:\n",
        "  keywords.append(i.getText())"
      ],
      "execution_count": 59,
      "outputs": []
    },
    {
      "cell_type": "code",
      "metadata": {
        "id": "albkzwUwm548",
        "outputId": "dbca319d-1f7b-4506-b46f-d7b72d1dd7b6",
        "colab": {
          "base_uri": "https://localhost:8080/"
        }
      },
      "source": [
        "keywords\n"
      ],
      "execution_count": 60,
      "outputs": [
        {
          "output_type": "execute_result",
          "data": {
            "text/plain": [
              "['    UprightBeginnings, innocence, spontaneity, a free spiritReversedHolding back, recklessness, risk-takingFool   ',\n",
              " '    UprightManifestation, resourcefulness, power, inspired actionReversedManipulation, poor planning, untapped talentsThe Magician   ',\n",
              " '    UprightIntuition, sacred knowledge, divine feminine, the subconscious mindReversedSecrets, disconnected from intuition, withdrawal and silenceHigh Priestess   ',\n",
              " '    UprightFemininity, beauty, nature, nurturing, abundanceReversedCreative block, dependence on othersThe Empress   ',\n",
              " '    UprightAuthority, establishment, structure, a father figureReversedDomination, excessive control, lack of discipline, inflexibilityThe Emperor   ',\n",
              " '    UprightSpiritual wisdom, religious beliefs, conformity, tradition,institutionsReversedPersonal beliefs, freedom, challenging the status quoHierophant   ',\n",
              " '    UprightLove, harmony, relationships, values alignment, choicesReversedSelf-love, disharmony, imbalance, misalignment of valuesLovers   ',\n",
              " '    UprightControl, willpower, success, action, determinationReversedSelf-discipline, opposition, lack of directionChariot   ',\n",
              " '    UprightStrength, courage, persuasion, influence, compassionReversedInner strength, self-doubt, low energy, raw emotionStrength   ',\n",
              " '    UprightSoul-searching, introspection, being alone, inner guidanceReversedIsolation, loneliness, withdrawalHermit   ',\n",
              " '    UprightGood luck, karma, life cycles, destiny, a turning pointReversedBad luck, resistance to change, breaking cyclesWheel of Fortune   ',\n",
              " '    UprightJustice, fairness, truth, cause and effect, lawReversedUnfairness, lack of accountability, dishonestyJustice   ',\n",
              " '    UprightPause, surrender, letting go, new perspectivesReversedDelays, resistance, stalling, indecisionHanged Man   ',\n",
              " '    UprightEndings, change, transformation, transitionReversedResistance to change, personal transformation, inner purgingDeath   ',\n",
              " '    UprightBalance, moderation, patience, purposeReversedImbalance, excess, self-healing, re-alignmentTemperance   ',\n",
              " '    UprightShadow self, attachment, addiction, restriction, sexualityReversedReleasing limiting beliefs, exploring dark thoughts, detachmentDevil   ',\n",
              " '    UprightSudden change, upheaval, chaos, revelation, awakeningReversedPersonal transformation, fear of change, averting disasterTower   ',\n",
              " '    UprightHope, faith, purpose, renewal, spiritualityReversedLack of faith, despair, self-trust, disconnectionStar   ',\n",
              " '    UprightIllusion, fear, anxiety, subconscious, intuitionReversedRelease of fear, repressed emotion, inner confusionMoon   ',\n",
              " '    UprightPositivity, fun, warmth, success, vitalityReversedInner child, feeling down, overly optimisticSun   ',\n",
              " '    UprightJudgement, rebirth, inner calling, absolutionReversedSelf-doubt, inner critic, ignoring the callJudgement   ',\n",
              " '    UprightCompletion, integration, accomplishment, travelReversedSeeking personal closure, short-cuts, delaysWorld   ']"
            ]
          },
          "metadata": {
            "tags": []
          },
          "execution_count": 60
        }
      ]
    },
    {
      "cell_type": "code",
      "metadata": {
        "id": "pk2WC5n1nQJC"
      },
      "source": [
        "keywords_test = [i.split('Reversed') for i in keywords] "
      ],
      "execution_count": 65,
      "outputs": []
    },
    {
      "cell_type": "code",
      "metadata": {
        "id": "mugIDudaoQvC",
        "outputId": "a914145f-717d-4c15-d20a-3b23d281cca3",
        "colab": {
          "base_uri": "https://localhost:8080/"
        }
      },
      "source": [
        "keywords_test"
      ],
      "execution_count": 66,
      "outputs": [
        {
          "output_type": "execute_result",
          "data": {
            "text/plain": [
              "[['    UprightBeginnings, innocence, spontaneity, a free spirit',\n",
              "  'Holding back, recklessness, risk-takingFool   '],\n",
              " ['    UprightManifestation, resourcefulness, power, inspired action',\n",
              "  'Manipulation, poor planning, untapped talentsThe Magician   '],\n",
              " ['    UprightIntuition, sacred knowledge, divine feminine, the subconscious mind',\n",
              "  'Secrets, disconnected from intuition, withdrawal and silenceHigh Priestess   '],\n",
              " ['    UprightFemininity, beauty, nature, nurturing, abundance',\n",
              "  'Creative block, dependence on othersThe Empress   '],\n",
              " ['    UprightAuthority, establishment, structure, a father figure',\n",
              "  'Domination, excessive control, lack of discipline, inflexibilityThe Emperor   '],\n",
              " ['    UprightSpiritual wisdom, religious beliefs, conformity, tradition,institutions',\n",
              "  'Personal beliefs, freedom, challenging the status quoHierophant   '],\n",
              " ['    UprightLove, harmony, relationships, values alignment, choices',\n",
              "  'Self-love, disharmony, imbalance, misalignment of valuesLovers   '],\n",
              " ['    UprightControl, willpower, success, action, determination',\n",
              "  'Self-discipline, opposition, lack of directionChariot   '],\n",
              " ['    UprightStrength, courage, persuasion, influence, compassion',\n",
              "  'Inner strength, self-doubt, low energy, raw emotionStrength   '],\n",
              " ['    UprightSoul-searching, introspection, being alone, inner guidance',\n",
              "  'Isolation, loneliness, withdrawalHermit   '],\n",
              " ['    UprightGood luck, karma, life cycles, destiny, a turning point',\n",
              "  'Bad luck, resistance to change, breaking cyclesWheel of Fortune   '],\n",
              " ['    UprightJustice, fairness, truth, cause and effect, law',\n",
              "  'Unfairness, lack of accountability, dishonestyJustice   '],\n",
              " ['    UprightPause, surrender, letting go, new perspectives',\n",
              "  'Delays, resistance, stalling, indecisionHanged Man   '],\n",
              " ['    UprightEndings, change, transformation, transition',\n",
              "  'Resistance to change, personal transformation, inner purgingDeath   '],\n",
              " ['    UprightBalance, moderation, patience, purpose',\n",
              "  'Imbalance, excess, self-healing, re-alignmentTemperance   '],\n",
              " ['    UprightShadow self, attachment, addiction, restriction, sexuality',\n",
              "  'Releasing limiting beliefs, exploring dark thoughts, detachmentDevil   '],\n",
              " ['    UprightSudden change, upheaval, chaos, revelation, awakening',\n",
              "  'Personal transformation, fear of change, averting disasterTower   '],\n",
              " ['    UprightHope, faith, purpose, renewal, spirituality',\n",
              "  'Lack of faith, despair, self-trust, disconnectionStar   '],\n",
              " ['    UprightIllusion, fear, anxiety, subconscious, intuition',\n",
              "  'Release of fear, repressed emotion, inner confusionMoon   '],\n",
              " ['    UprightPositivity, fun, warmth, success, vitality',\n",
              "  'Inner child, feeling down, overly optimisticSun   '],\n",
              " ['    UprightJudgement, rebirth, inner calling, absolution',\n",
              "  'Self-doubt, inner critic, ignoring the callJudgement   '],\n",
              " ['    UprightCompletion, integration, accomplishment, travel',\n",
              "  'Seeking personal closure, short-cuts, delaysWorld   ']]"
            ]
          },
          "metadata": {
            "tags": []
          },
          "execution_count": 66
        }
      ]
    },
    {
      "cell_type": "code",
      "metadata": {
        "id": "lHcZnXKjnaoD",
        "outputId": "5bf78027-56ee-4d6b-a6c8-d8597adefcc3",
        "colab": {
          "base_uri": "https://localhost:8080/"
        }
      },
      "source": [
        "keywords3"
      ],
      "execution_count": 64,
      "outputs": [
        {
          "output_type": "execute_result",
          "data": {
            "text/plain": [
              "['Holding back, recklessness, risk-takingFool   ',\n",
              " 'Manipulation, poor planning, untapped talentsThe Magician   ',\n",
              " 'Secrets, disconnected from intuition, withdrawal and silenceHigh Priestess   ',\n",
              " 'Creative block, dependence on othersThe Empress   ',\n",
              " 'Domination, excessive control, lack of discipline, inflexibilityThe Emperor   ',\n",
              " 'Personal beliefs, freedom, challenging the status quoHierophant   ',\n",
              " 'Self-love, disharmony, imbalance, misalignment of valuesLovers   ',\n",
              " 'Self-discipline, opposition, lack of directionChariot   ',\n",
              " 'Inner strength, self-doubt, low energy, raw emotionStrength   ',\n",
              " 'Isolation, loneliness, withdrawalHermit   ',\n",
              " 'Bad luck, resistance to change, breaking cyclesWheel of Fortune   ',\n",
              " 'Unfairness, lack of accountability, dishonestyJustice   ',\n",
              " 'Delays, resistance, stalling, indecisionHanged Man   ',\n",
              " 'Resistance to change, personal transformation, inner purgingDeath   ',\n",
              " 'Imbalance, excess, self-healing, re-alignmentTemperance   ',\n",
              " 'Releasing limiting beliefs, exploring dark thoughts, detachmentDevil   ',\n",
              " 'Personal transformation, fear of change, averting disasterTower   ',\n",
              " 'Lack of faith, despair, self-trust, disconnectionStar   ',\n",
              " 'Release of fear, repressed emotion, inner confusionMoon   ',\n",
              " 'Inner child, feeling down, overly optimisticSun   ',\n",
              " 'Self-doubt, inner critic, ignoring the callJudgement   ',\n",
              " 'Seeking personal closure, short-cuts, delaysWorld   ']"
            ]
          },
          "metadata": {
            "tags": []
          },
          "execution_count": 64
        }
      ]
    },
    {
      "cell_type": "code",
      "metadata": {
        "id": "YYjvmn0sUjV5"
      },
      "source": [
        "print(items[0].getText())"
      ],
      "execution_count": null,
      "outputs": []
    }
  ]
}