{
  "nbformat": 4,
  "nbformat_minor": 0,
  "metadata": {
    "colab": {
      "name": "BiddyTarot.ipynb",
      "provenance": [],
      "authorship_tag": "ABX9TyPeevxGvpaPFP1k/R/6XqnV",
      "include_colab_link": true
    },
    "kernelspec": {
      "name": "python3",
      "display_name": "Python 3"
    },
    "language_info": {
      "name": "python"
    }
  },
  "cells": [
    {
      "cell_type": "markdown",
      "metadata": {
        "id": "view-in-github",
        "colab_type": "text"
      },
      "source": [
        "<a href=\"https://colab.research.google.com/github/scharnk/madam_marie/blob/main/BiddyTarot.ipynb\" target=\"_parent\"><img src=\"https://colab.research.google.com/assets/colab-badge.svg\" alt=\"Open In Colab\"/></a>"
      ]
    },
    {
      "cell_type": "code",
      "metadata": {
        "id": "9fanNZNsphT2"
      },
      "source": [
        "import seaborn as sns\n",
        "sns.set()\n",
        "\n",
        "import numpy as np\n",
        "import pandas as pd\n",
        "import matplotlib.pyplot as plt\n",
        "\n",
        "import requests\n",
        "# import requests_cache\n",
        "import dill\n",
        "from bs4 import BeautifulSoup\n",
        "from datetime import datetime\n",
        "from retrying import retry\n",
        "import re\n",
        "import spacy\n",
        "import itertools  # itertools.combinations may be useful\n",
        "import networkx as nx"
      ],
      "execution_count": 2,
      "outputs": []
    },
    {
      "cell_type": "code",
      "metadata": {
        "id": "ZYN4UKFY7RLX"
      },
      "source": [
        "url_list = ['https://www.biddytarot.com/tarot-card-meanings/major-arcana/', \n",
        "            'https://www.biddytarot.com/tarot-card-meanings/minor-arcana/suit-of-cups/',\n",
        "            'https://www.biddytarot.com/tarot-card-meanings/minor-arcana/suit-of-swords/',\n",
        "            'https://www.biddytarot.com/tarot-card-meanings/minor-arcana/suit-of-pentacles/',\n",
        "            'https://www.biddytarot.com/tarot-card-meanings/minor-arcana/suit-of-wands/']"
      ],
      "execution_count": 3,
      "outputs": []
    },
    {
      "cell_type": "code",
      "metadata": {
        "id": "_zKkJbQTQymI"
      },
      "source": [
        "url_major_arcana = [\n",
        "                    'https://www.biddytarot.com/tarot-card-meanings/major-arcana/fool/',\n",
        "                    'https://www.biddytarot.com/tarot-card-meanings/major-arcana/magician/',\n",
        "                    'https://www.biddytarot.com/tarot-card-meanings/major-arcana/high-priestess/',\n",
        "                    'https://www.biddytarot.com/tarot-card-meanings/major-arcana/empress/',\n",
        "                    'https://www.biddytarot.com/tarot-card-meanings/major-arcana/emperor/',\n",
        "                    'https://www.biddytarot.com/tarot-card-meanings/major-arcana/hierophant/',\n",
        "                    'https://www.biddytarot.com/tarot-card-meanings/major-arcana/lovers/',\n",
        "                    'https://www.biddytarot.com/tarot-card-meanings/major-arcana/chariot/',\n",
        "                    'https://www.biddytarot.com/tarot-card-meanings/major-arcana/strength/',\n",
        "                    'https://www.biddytarot.com/tarot-card-meanings/major-arcana/hermit/',\n",
        "                    'https://www.biddytarot.com/tarot-card-meanings/major-arcana/wheel-of-fortune/',\n",
        "                    'https://www.biddytarot.com/tarot-card-meanings/major-arcana/justice/',\n",
        "                    'https://www.biddytarot.com/tarot-card-meanings/major-arcana/hanged-man/',\n",
        "                    'https://www.biddytarot.com/tarot-card-meanings/major-arcana/death/',\n",
        "                    'https://www.biddytarot.com/tarot-card-meanings/major-arcana/temperance/',\n",
        "                    'https://www.biddytarot.com/tarot-card-meanings/major-arcana/devil/',\n",
        "                    'https://www.biddytarot.com/tarot-card-meanings/major-arcana/tower/',\n",
        "                    'https://www.biddytarot.com/tarot-card-meanings/major-arcana/star/',\n",
        "                    'https://www.biddytarot.com/tarot-card-meanings/major-arcana/moon/',\n",
        "                    'https://www.biddytarot.com/tarot-card-meanings/major-arcana/sun/',\n",
        "                    'https://www.biddytarot.com/tarot-card-meanings/major-arcana/judgement/',\n",
        "                    'https://www.biddytarot.com/tarot-card-meanings/major-arcana/world/'\n",
        "]"
      ],
      "execution_count": 44,
      "outputs": []
    },
    {
      "cell_type": "code",
      "metadata": {
        "id": "3PpJDfD6SCsb"
      },
      "source": [
        "url_minor_arcana = [\n",
        "                    'https://www.biddytarot.com/tarot-card-meanings/minor-arcana/suit-of-cups/ace-of-cups/',\n",
        "                    'https://www.biddytarot.com/tarot-card-meanings/minor-arcana/suit-of-cups/two-of-cups/',\n",
        "                    'https://www.biddytarot.com/tarot-card-meanings/minor-arcana/suit-of-cups/three-of-cups/',\n",
        "                    'https://www.biddytarot.com/tarot-card-meanings/minor-arcana/suit-of-cups/four-of-cups/',\n",
        "                    'https://www.biddytarot.com/tarot-card-meanings/minor-arcana/suit-of-cups/five-of-cups/',\n",
        "                    'https://www.biddytarot.com/tarot-card-meanings/minor-arcana/suit-of-cups/six-of-cups/',\n",
        "                    'https://www.biddytarot.com/tarot-card-meanings/minor-arcana/suit-of-cups/seven-of-cups/',\n",
        "                    'https://www.biddytarot.com/tarot-card-meanings/minor-arcana/suit-of-cups/eight-of-cups/',\n",
        "                    'https://www.biddytarot.com/tarot-card-meanings/minor-arcana/suit-of-cups/nine-of-cups/',\n",
        "                    'https://www.biddytarot.com/tarot-card-meanings/minor-arcana/suit-of-cups/ten-of-cups/',\n",
        "                    'https://www.biddytarot.com/tarot-card-meanings/minor-arcana/suit-of-cups/page-of-cups/',\n",
        "                    'https://www.biddytarot.com/tarot-card-meanings/minor-arcana/suit-of-cups/knight-of-cups/',\n",
        "                    'https://www.biddytarot.com/tarot-card-meanings/minor-arcana/suit-of-cups/queen-of-cups/',\n",
        "                    'https://www.biddytarot.com/tarot-card-meanings/minor-arcana/suit-of-cups/king-of-cups/',\n",
        "                    'https://www.biddytarot.com/tarot-card-meanings/minor-arcana/suit-of-swords/ace-of-swords/',\n",
        "                    'https://www.biddytarot.com/tarot-card-meanings/minor-arcana/suit-of-swords/two-of-swords/',\n",
        "                    'https://www.biddytarot.com/tarot-card-meanings/minor-arcana/suit-of-swords/three-of-swords/',\n",
        "                    'https://www.biddytarot.com/tarot-card-meanings/minor-arcana/suit-of-swords/four-of-swords/',\n",
        "                    'https://www.biddytarot.com/tarot-card-meanings/minor-arcana/suit-of-swords/five-of-swords/',\n",
        "                    'https://www.biddytarot.com/tarot-card-meanings/minor-arcana/suit-of-swords/six-of-swords/',\n",
        "                    'https://www.biddytarot.com/tarot-card-meanings/minor-arcana/suit-of-swords/seven-of-swords/',\n",
        "                    'https://www.biddytarot.com/tarot-card-meanings/minor-arcana/suit-of-swords/eight-of-swords/',\n",
        "                    'https://www.biddytarot.com/tarot-card-meanings/minor-arcana/suit-of-swords/nine-of-swords/',\n",
        "                    'https://www.biddytarot.com/tarot-card-meanings/minor-arcana/suit-of-swords/ten-of-swords/',\n",
        "                    'https://www.biddytarot.com/tarot-card-meanings/minor-arcana/suit-of-swords/page-of-swords/',\n",
        "                    'https://www.biddytarot.com/tarot-card-meanings/minor-arcana/suit-of-swords/knight-of-swords/',\n",
        "                    'https://www.biddytarot.com/tarot-card-meanings/minor-arcana/suit-of-swords/queen-of-swords/',\n",
        "                    'https://www.biddytarot.com/tarot-card-meanings/minor-arcana/suit-of-swords/king-of-swords/',\n",
        "                    'https://www.biddytarot.com/tarot-card-meanings/minor-arcana/suit-of-pentacles/ace-of-pentacles/',\n",
        "                    'https://www.biddytarot.com/tarot-card-meanings/minor-arcana/suit-of-pentacles/two-of-pentacles/',\n",
        "                    'https://www.biddytarot.com/tarot-card-meanings/minor-arcana/suit-of-pentacles/three-of-pentacles/',\n",
        "                    'https://www.biddytarot.com/tarot-card-meanings/minor-arcana/suit-of-pentacles/four-of-pentacles/',\n",
        "                    'https://www.biddytarot.com/tarot-card-meanings/minor-arcana/suit-of-pentacles/five-of-pentacles/',\n",
        "                    'https://www.biddytarot.com/tarot-card-meanings/minor-arcana/suit-of-pentacles/six-of-pentacles/',\n",
        "                    'https://www.biddytarot.com/tarot-card-meanings/minor-arcana/suit-of-pentacles/seven-of-pentacles/',\n",
        "                    'https://www.biddytarot.com/tarot-card-meanings/minor-arcana/suit-of-pentacles/eight-of-pentacles/',\n",
        "                    'https://www.biddytarot.com/tarot-card-meanings/minor-arcana/suit-of-pentacles/nine-of-pentacles/',\n",
        "                    'https://www.biddytarot.com/tarot-card-meanings/minor-arcana/suit-of-pentacles/ten-of-pentacles/',\n",
        "                    'https://www.biddytarot.com/tarot-card-meanings/minor-arcana/suit-of-pentacles/page-of-pentacles/',\n",
        "                    'https://www.biddytarot.com/tarot-card-meanings/minor-arcana/suit-of-pentacles/knight-of-pentacles/',\n",
        "                    'https://www.biddytarot.com/tarot-card-meanings/minor-arcana/suit-of-pentacles/queen-of-pentacles/',\n",
        "                    'https://www.biddytarot.com/tarot-card-meanings/minor-arcana/suit-of-pentacles/king-of-pentacles/',\n",
        "                    'https://www.biddytarot.com/tarot-card-meanings/minor-arcana/suit-of-wands/ace-of-wands/',\n",
        "                    'https://www.biddytarot.com/tarot-card-meanings/minor-arcana/suit-of-wands/two-of-wands/',\n",
        "                    'https://www.biddytarot.com/tarot-card-meanings/minor-arcana/suit-of-wands/three-of-wands/',\n",
        "                    'https://www.biddytarot.com/tarot-card-meanings/minor-arcana/suit-of-wands/four-of-wands/',\n",
        "                    'https://www.biddytarot.com/tarot-card-meanings/minor-arcana/suit-of-wands/five-of-wands/',\n",
        "                    'https://www.biddytarot.com/tarot-card-meanings/minor-arcana/suit-of-wands/six-of-wands/',\n",
        "                    'https://www.biddytarot.com/tarot-card-meanings/minor-arcana/suit-of-wands/seven-of-wands/',\n",
        "                    'https://www.biddytarot.com/tarot-card-meanings/minor-arcana/suit-of-wands/eight-of-wands/',\n",
        "                    'https://www.biddytarot.com/tarot-card-meanings/minor-arcana/suit-of-wands/nine-of-wands/',\n",
        "                    'https://www.biddytarot.com/tarot-card-meanings/minor-arcana/suit-of-wands/ten-of-wands/',\n",
        "                    'https://www.biddytarot.com/tarot-card-meanings/minor-arcana/suit-of-wands/page-of-wands/',\n",
        "                    'https://www.biddytarot.com/tarot-card-meanings/minor-arcana/suit-of-wands/knight-of-wands/',\n",
        "                    'https://www.biddytarot.com/tarot-card-meanings/minor-arcana/suit-of-wands/queen-of-wands/',\n",
        "                    'https://www.biddytarot.com/tarot-card-meanings/minor-arcana/suit-of-wands/king-of-wands/'\n",
        "]"
      ],
      "execution_count": 45,
      "outputs": []
    },
    {
      "cell_type": "code",
      "metadata": {
        "id": "ODkuNPj0oZI-"
      },
      "source": [
        "card_list = [\n",
        "             \"Fool\",\n",
        "             \"The Magician\",\n",
        "             \"High Priestess\",\n",
        "             \"The Empress\",\n",
        "             \"The Emperor\",\n",
        "             \"Hierophant\",\n",
        "             \"Lovers\",\n",
        "             \"Chariot\",\n",
        "             \"Strength\",\n",
        "             \"Hermit\",\n",
        "             \"Wheel of Fortune\",\n",
        "             \"Justice\",\n",
        "             \"Hanged Man\",\n",
        "             \"Death\",\n",
        "             \"Temperance\",\n",
        "             \"Devil\",\n",
        "             \"Tower\",\n",
        "             \"Star\",\n",
        "             \"Moon\",\n",
        "             \"Sun\",\n",
        "             \"Judgement\",\n",
        "             \"World\"\n",
        "             ]"
      ],
      "execution_count": 6,
      "outputs": []
    },
    {
      "cell_type": "code",
      "metadata": {
        "id": "GDDTOkb4QDM_"
      },
      "source": [
        "for i, v in enumerate(url_major_arcana):\n",
        "    print(i)"
      ],
      "execution_count": null,
      "outputs": []
    },
    {
      "cell_type": "code",
      "metadata": {
        "id": "0yfElGO2p97n"
      },
      "source": [
        "#run through url_major_arcana to get full card meanings for upright and reversed\n",
        "\n",
        "major_meanings = []\n",
        "\n",
        "for idx, url in enumerate(url_major_arcana):\n",
        "    card = requests.get(url_major_arcana[idx])\n",
        "    soup = BeautifulSoup(card.text, \"lxml\")\n",
        "    p = soup.find_all(id = [\"upright\", \"reversed\"])\n",
        "    text_p = []\n",
        "    for i in p:\n",
        "        text_p.append(i.getText())\n",
        "    major_meanings.append(text_p)\n",
        "\n",
        "#run through url_minor_arcana to get full card meanings for upright and reversed\n",
        "\n",
        "minor_meanings_upright = []\n",
        "minor_meanings_reversed = []\n",
        "\n",
        "for idx, url in enumerate(url_minor_arcana):\n",
        "    card = requests.get(url_minor_arcana[idx])\n",
        "    soup = BeautifulSoup(card.text, \"lxml\")\n",
        "    p = soup.find_all('div', {'class':'col span_12'})\n",
        "    q = soup.find_all('div', {'class':'col span_8'})\n",
        "    text_p = []\n",
        "    text_q = []\n",
        "    for i in p:\n",
        "        # p.find('class'='col span_12')\n",
        "        text_p.append(i.getText())\n",
        "    minor_meanings_upright.append(text_p[-1])\n",
        "    for i in q:\n",
        "        text_q.append(i.getText())\n",
        "    minor_meanings_reversed.append(text_q[-1])\n",
        "\n",
        "\n",
        "#run through url list to get keywords for each card upright and reversed\n",
        "\n",
        "\n",
        "#can figure out how to get general card descriptions later on... should be similar to card meanings\n",
        "\n",
        "\n"
      ],
      "execution_count": 41,
      "outputs": []
    },
    {
      "cell_type": "code",
      "metadata": {
        "id": "cUM7H6bNfRJY"
      },
      "source": [
        "import pickle"
      ],
      "execution_count": 52,
      "outputs": []
    },
    {
      "cell_type": "code",
      "metadata": {
        "id": "vEI8xkj3eJWh"
      },
      "source": [
        "# Save meanings so you don't have to re-scrape biddytarot.com\n",
        "\n",
        "with open('major_meanings.pkl', 'wb') as f:\n",
        "     pickle.dump(major_meanings, f)\n",
        "\n",
        "with open('minor_meanings_upright.pkl', 'wb') as f:\n",
        "     pickle.dump(minor_meanings_upright, f)\n",
        "\n",
        "with open('minor_meanings_reversed.pkl', 'wb') as f:\n",
        "     pickle.dump(minor_meanings_reversed, f)"
      ],
      "execution_count": 53,
      "outputs": []
    },
    {
      "cell_type": "code",
      "metadata": {
        "id": "NY1q2UOZeKSz"
      },
      "source": [
        "# Read the meanings from the dill/pickle files above\n",
        "\n",
        "with open('major_meanings.pkl', 'rb') as f:\n",
        "     major_meanings = pickle.load(f)\n",
        "\n",
        "with open('minor_meanings_upright.pkl', 'rb') as f:\n",
        "     minor_meanings_upright = pickle.load(f)\n",
        "\n",
        "with open('minor_meanings_reversed.pkl', 'rb') as f:\n",
        "     minor_meanings_reversed = pickle.load(f)"
      ],
      "execution_count": 54,
      "outputs": []
    },
    {
      "cell_type": "code",
      "metadata": {
        "id": "FI4EwicoZ8dW",
        "outputId": "0806da16-f9d9-4bd0-a99f-094c22c0d903",
        "colab": {
          "base_uri": "https://localhost:8080/"
        }
      },
      "source": [
        ""
      ],
      "execution_count": 29,
      "outputs": [
        {
          "output_type": "execute_result",
          "data": {
            "text/plain": [
              "['Upright HierophantThe Hierophant card represents an established set of spiritual values and beliefs and is often correlated with religion and other formal doctrines. Before you can discover your own belief systems and make your own choices (as associated with the next card, the Lovers), the Hierophant encourages you to learn the fundamental principles from a trusted source.Work with a teacher, mentor, or guide to teach you about spiritual values and beliefs in a structured way. He may be an authority or a kind and generous mentor who nurtures your spiritual awareness and helps you access the Divine by understanding the traditions and core principles. You may also undertake a period of formal study as you delve into a subject that has been widely explored and documented.If you have already mastered a particular field of study, you may be taking on the role of teacher and mentor to others. In this position, you honour and acknowledge your responsibility to share your knowledge in a structured way, one that respects the age-old traditions.The Hierophant‘s arrival suggests you are following convention and staying within the bounds of a ‘tried and tested’ model. You are not yet willing to go out on a limb or offer any new and innovative ideas. Instead, you adhere to the key principles and rules that you know will lead to a successful result.The Hierophant may call you to honour family traditions or sacred rituals that sit neglected. You are being asked to commit to spiritual practice in its most wholesome form – no customisation, no adaptation, no bending the rules. If you have been lacking ritual and tradition, create a regular practice such as daily prayer or saying grace before a meal. Consider exploring your spiritual or religious heritage.The Hierophant Tarot card often speaks to group membership or being part of an institution. You may enjoy a deep sense of comfort being surrounded by people who have well-established belief systems and explicit values. Finding them may be as significant as exploring a new church or religious group, or as simple as joining a gym or online Tarot community. This card is about identifying with others and a way of thinking that will prompt further learning.',\n",
              " 'Reversed Hierophant In its most positive form, the reversed Hierophant reminds you that you are your own teacher. All the wisdom you seek comes from within – not from some external source or power. You are being guided to follow your own path and adopt your own spiritual belief systems rather than blindly following others’. It may feel unsettling at first as you make your own way, but over time, you will learn to trust yourself and tap into your inner knowledge. Others may question your motivations to go against tradition, but you know deep within that now is the time.With the reversed Hierophant, you no longer need external approval to succeed. You are ready to go it alone and do it your way, even if that means going against convention. Give yourself permission to trust your inner guidance system as you create your own path forward.The Hierophant reversed is also about challenging the status quo. You see alternative ways of viewing the world and are ready to test the very ideas and concepts you were taught were the ‘truth’. You no longer accept the rigid structures, tradition and dogma surrounding you; instead, you seek out opportunities to rebel and reclaim your personal power. If you feel restricted or constrained and have lost your sense of freedom and flexibility, now is the time to make your own rules.The reversed Hierophant encourages you to examine ‘the way we do things around here’ and ask yourself whether it aligns with your values. You may have been running on autopilot so far and following the crowd, but now you see that changes need to be made. Taken further, the Hierophant reversed is like a rebellious teenager who begins to question society and take part in anti-institutional activities. There may be a run-in with authorities or conflict with a parent or authoritative figure. ']"
            ]
          },
          "metadata": {
            "tags": []
          },
          "execution_count": 29
        }
      ]
    },
    {
      "cell_type": "code",
      "metadata": {
        "id": "9FErmbseYleo"
      },
      "source": [
        "# minor_meanings = []\n",
        "# text_p = []\n"
      ],
      "execution_count": 46,
      "outputs": []
    },
    {
      "cell_type": "code",
      "metadata": {
        "id": "5ZvcWx04ZLZ9",
        "outputId": "08411908-5944-4594-a9cc-5c984ffe6abd",
        "colab": {
          "base_uri": "https://localhost:8080/"
        }
      },
      "source": [
        "len(minor_meanings_upright)"
      ],
      "execution_count": 39,
      "outputs": [
        {
          "output_type": "execute_result",
          "data": {
            "text/plain": [
              "56"
            ]
          },
          "metadata": {
            "tags": []
          },
          "execution_count": 39
        }
      ]
    },
    {
      "cell_type": "code",
      "metadata": {
        "id": "n8gSrgGxYjZM"
      },
      "source": [
        "minor_meanings_upright"
      ],
      "execution_count": null,
      "outputs": []
    },
    {
      "cell_type": "code",
      "metadata": {
        "id": "SgPLH9dGYOSt",
        "outputId": "09579bd2-a47c-4159-9102-8f452bcf94ca",
        "colab": {
          "base_uri": "https://localhost:8080/"
        }
      },
      "source": [
        "len(minor_meanings_reversed)"
      ],
      "execution_count": 49,
      "outputs": [
        {
          "output_type": "execute_result",
          "data": {
            "text/plain": [
              "56"
            ]
          },
          "metadata": {
            "tags": []
          },
          "execution_count": 49
        }
      ]
    },
    {
      "cell_type": "code",
      "metadata": {
        "id": "JcTjXp0vQWxp",
        "outputId": "a9f5f095-755c-41e9-db7a-12890ca70a21",
        "colab": {
          "base_uri": "https://localhost:8080/"
        }
      },
      "source": [
        "# major_meanings[3]"
      ],
      "execution_count": 15,
      "outputs": [
        {
          "output_type": "execute_result",
          "data": {
            "text/plain": [
              "['Upright The EmpressThe Empress signifies a strong connection with our femininity. Femininity translates in many ways – elegance, sensuality, fertility, creative expression, nurturing – and is necessary for creating balance in both men and women. The Empress calls on you to connect with your feminine energy. Create beauty in your life. Connect with your senses through taste, touch, sound, smell and sight. Draw on these senses to experience pleasure and deep fulfilment. Treat yourself to a day spa, learn massage, enjoy a fine restaurant or spend more time with your partner. Discover different approaches to expressing yourself creatively, be it through painting, music, drama or other art forms. This may be the perfect chance to take up a new hobby that enables you to access this part of yourself.The Empress signifies abundance. You are surrounded by life’s pleasures and luxuries and have everything you need to live a comfortable lifestyle. You are in a period of growth, in which all you have dreamed of is now coming to fruition. When the Empress appears in your Tarot readings, take a moment to reflect on the bounty that surrounds you and offer gratitude for all you have created so you can continue to build on this energy and create even more abundance in your life.As the Mother Earth archetype, the Empress urges you to venture out into nature to ground your energy and be in flow with the earth. Take a trip to your favourite natural setting, be it a forest, beach, mountain or lake, and sit for a couple of minutes, hours or even days to breathe in the energy that surrounds you while marvelling in the beauty of your surroundings. Allow yourself the time and the space to enter a different frame of mind and receive the grounding spirit of nature into your heart and consciousness. When you do this, you can reach higher planes of consciousness.When you are in tune with the energy of the Empress, you will naturally take on her mothering nature. You feel a strong urge to nurture and care for others, from a place of loving compassion and support. You see it as a gift and an honour to tend to others, and in doing so you, too, receive benefit. In a more literal sense, you may step into the role of ‘mother’, perhaps as the mother of a newborn, caretaker of other people’s children, or spending more quality time with your kids.The Empress can also suggest pregnancy or birth. This may be an actual pregnancy or childbirth, or a metaphorical ‘birth’ of a new idea or project. Bring your creative ideas into being by nurturing them and supporting their growth. Allow those designs and their manifestation to flow through you, acting with compassion and love.',\n",
              " 'Reversed The Empress Reversed, the Empress encourages you to make self-love and self-care a priority. Now is the time to bring your loving energy and focus to yourself, especially if you have been giving away your personal power by placing too much emphasis on another person’s emotional or material needs, thus neglecting your own. Book a girls’ weekend, go for a walk on your own or start a creative project that’s just for you. It is essential that you fill your cup and care for yourself so you can then take care of others without resentment.You may also crave a stronger connection with nature and Mother Earth. Now is the perfect occasion to spend even just a few hours in a natural setting such as a beach, park or garden. Breathe in the radiant energy as you’re surrounded by nature’s beauty and take time to notice the little things: an ant racing along on the ground, new leaves budding on the trees, or the rich purples and greens of the flowers and plants.The Empress reversed can suggest that you are feeling a creative block, especially in ‘birthing’ a new idea or expressing yourself creatively. You may worry whether it will be a success or if your work is appealing to others. For now, don’t bother about what others think. The important thing is that you are allowing your creative energy to flow, even if it means keeping your newest creations private to you only (and even if they look like a three-year-old created them!).The reversed Empress may call your attention to issues around body image. Are you your biggest critic when it comes to how you look and the shape of your body? Learn to love your body again and give thanks for the lovely curves, lumps and bumps. Rediscover your beauty, inside and out.In your relationships, you may take the ‘mothering’ role too far, becoming overprotective, co-dependent and controlling. If this resonates, it is time to shift your focus from the mother-child relationship to an adult-to-adult relationship by creating independence, trust and loving compassion. ']"
            ]
          },
          "metadata": {
            "tags": []
          },
          "execution_count": 15
        }
      ]
    },
    {
      "cell_type": "code",
      "metadata": {
        "id": "xWx1DMoMpqsY"
      },
      "source": [
        "page = requests.get('https://www.biddytarot.com/tarot-card-meanings/') # Use requests.get to download the page."
      ],
      "execution_count": null,
      "outputs": []
    },
    {
      "cell_type": "code",
      "metadata": {
        "id": "owmnWmFmp6as"
      },
      "source": [
        "soup = BeautifulSoup(page.text, \"html.parser\")"
      ],
      "execution_count": null,
      "outputs": []
    },
    {
      "cell_type": "code",
      "metadata": {
        "id": "JAK53AVCyoJG"
      },
      "source": [
        "# url_base = 'https://www.biddytarot.com/'\n",
        "# url_end = ['/tarot-card-meanings/major-arcana/', '/tarot-card-meanings/minor-arcana/suit-of-cups/', '/tarot-card-meanings/minor-arcana/suit-of-swords/', '/tarot-card-meanings/minor-arcana/suit-of-pentacles/', '/tarot-card-meanings/minor-arcana/suit-of-wands/']"
      ],
      "execution_count": null,
      "outputs": []
    },
    {
      "cell_type": "code",
      "metadata": {
        "id": "ST0tGr_43DMt"
      },
      "source": [
        "# soup.prettify"
      ],
      "execution_count": null,
      "outputs": []
    },
    {
      "cell_type": "code",
      "metadata": {
        "id": "KFlM_PH6QUE5"
      },
      "source": [
        "page = requests.get(url_list[0]) # Use requests.get to download the page.\n",
        "soup = BeautifulSoup(page.text, \"html.parser\")"
      ],
      "execution_count": null,
      "outputs": []
    },
    {
      "cell_type": "code",
      "metadata": {
        "id": "kX6qwgPaukaP"
      },
      "source": [
        "# for link in soup.find_all('a'):\n",
        "#     print(link.get('href'))"
      ],
      "execution_count": null,
      "outputs": []
    },
    {
      "cell_type": "code",
      "metadata": {
        "id": "5sZ727YfrF1w"
      },
      "source": [
        "# def get_links(response):\n",
        "#     soup = BeautifulSoup(response.text, \"lxml\")\n",
        "#     links = soup.select('div[a]')\n",
        "#     pairs = []\n",
        "#     for i in range(len(links)):\n",
        "#         pair = get_link_date(links[i])\n",
        "#         pairs.append(pair)\n",
        "#     return pairs # A list of URL, date pairs\n",
        "#     return links\n",
        "    # for li in div:\n",
        "    # all_li = li.find_all('li')\n",
        "    # for link in all_li.find_all('a'):\n",
        "    #     print(link.get('href'))"
      ],
      "execution_count": null,
      "outputs": []
    },
    {
      "cell_type": "code",
      "metadata": {
        "id": "6O6QosvA7Yhw"
      },
      "source": [
        "cups = requests.get('https://www.biddytarot.com/tarot-card-meanings/minor-arcana/suit-of-cups/')\n",
        "soup_cups = BeautifulSoup(cups.text,\"lxml\")\n",
        "a = soup_cups.find_all('a')\n",
        "for link in a:\n",
        "    print(link.get('href'))"
      ],
      "execution_count": null,
      "outputs": []
    },
    {
      "cell_type": "code",
      "metadata": {
        "id": "pmSNPeJPRiZy"
      },
      "source": [
        "swords = requests.get('https://www.biddytarot.com/tarot-card-meanings/minor-arcana/suit-of-swords/')\n",
        "soup_swords = BeautifulSoup(swords.text,\"lxml\")\n",
        "a = soup_swords.find_all('a')\n",
        "for link in a:\n",
        "    print(link.get('href'))"
      ],
      "execution_count": null,
      "outputs": []
    },
    {
      "cell_type": "code",
      "metadata": {
        "id": "FrzShLr-Tjzu"
      },
      "source": [
        "pentacles = requests.get('https://www.biddytarot.com/tarot-card-meanings/minor-arcana/suit-of-pentacles/')\n",
        "soup_pentacles = BeautifulSoup(pentacles.text,\"lxml\")\n",
        "a = soup_pentacles.find_all('a')\n",
        "for link in a:\n",
        "    print(link.get('href'))"
      ],
      "execution_count": null,
      "outputs": []
    },
    {
      "cell_type": "code",
      "metadata": {
        "id": "o7CC5ssKTzFW",
        "outputId": "44be51f7-0d63-4670-fdcf-01af4426eec3",
        "colab": {
          "base_uri": "https://localhost:8080/"
        }
      },
      "source": [
        "wands = requests.get('https://www.biddytarot.com/tarot-card-meanings/minor-arcana/suit-of-wands/')\n",
        "soup_wands = BeautifulSoup(wands.text,\"lxml\")\n",
        "a = soup_wands.find_all('a')\n",
        "for link in a:\n",
        "    print(link.get('href'))"
      ],
      "execution_count": 37,
      "outputs": [
        {
          "output_type": "stream",
          "text": [
            "#ajax-content-wrap\n",
            "https://biddytarot.com/tarot-guides/tarot-card-answers/\n",
            "#\n",
            "https://www.biddytarot.com\n",
            "#searchbox\n",
            "#sidewidgetarea\n",
            "/btc-free-training/\n",
            "https://community.biddytarot.com/free-tarot-readings/\n",
            "/learn-tarot\n",
            "/learn-tarot\n",
            "/tarot-card-meanings\n",
            "/tarot-101/\n",
            "/community\n",
            "/community\n",
            "http://community.biddytarot.com/login-page/\n",
            "/blog\n",
            "/category/podcast\n",
            "/shop\n",
            "/business\n",
            "/about\n",
            "/about\n",
            "https://www.biddytarot.com/careers/\n",
            "/contact-faq\n",
            "https://www.biddytarot.com/diversity/\n",
            "/login\n",
            "#searchbox\n",
            "/tarot-card-meanings/\n",
            "/tarot-card-meanings/minor-arcana/\n",
            "https://biddytarot.com/tarot-guides/tarot-card-answers/\n",
            "https://biddytarot.com/tarot-guides/tarot-card-answers/\n",
            "https://biddytarot.com/tarot-guides/tarot-card-answers/\n",
            "https://biddytarot.com/tarot-guides/tarot-card-answers/\n",
            "https://www.biddytarot.com/archetype-quiz/\n",
            "https://www.biddytarot.com/tarot-card-meanings/minor-arcana/suit-of-wands/ace-of-wands/\n",
            "https://www.biddytarot.com/tarot-card-meanings/minor-arcana/suit-of-wands/two-of-wands/\n",
            "https://www.biddytarot.com/tarot-card-meanings/minor-arcana/suit-of-wands/three-of-wands/\n",
            "https://www.biddytarot.com/tarot-card-meanings/minor-arcana/suit-of-wands/four-of-wands/\n",
            "https://www.biddytarot.com/tarot-card-meanings/minor-arcana/suit-of-wands/five-of-wands/\n",
            "https://www.biddytarot.com/tarot-card-meanings/minor-arcana/suit-of-wands/six-of-wands/\n",
            "https://www.biddytarot.com/tarot-card-meanings/minor-arcana/suit-of-wands/seven-of-wands/\n",
            "https://www.biddytarot.com/tarot-card-meanings/minor-arcana/suit-of-wands/eight-of-wands/\n",
            "https://www.biddytarot.com/tarot-card-meanings/minor-arcana/suit-of-wands/nine-of-wands/\n",
            "https://www.biddytarot.com/tarot-card-meanings/minor-arcana/suit-of-wands/ten-of-wands/\n",
            "https://www.biddytarot.com/tarot-card-meanings/minor-arcana/suit-of-wands/page-of-wands/\n",
            "https://www.biddytarot.com/tarot-card-meanings/minor-arcana/suit-of-wands/knight-of-wands/\n",
            "https://www.biddytarot.com/tarot-card-meanings/minor-arcana/suit-of-wands/queen-of-wands/\n",
            "https://www.biddytarot.com/tarot-card-meanings/minor-arcana/suit-of-wands/king-of-wands/\n",
            "https://community.biddytarot.com/free-tarot-readings/\n",
            "/contact-faq/\n",
            "/tarot-guides/ultimate-guide-to-tarot-card-meanings/\n",
            "/tarot-guides/intuitive-tarot/\n",
            "http://community.biddytarot.com/join/\n",
            "/work-with-me\n",
            "/tarot-101/\n",
            "/courses/master-the-tarot-card-meanings\n",
            "/courses/read-tarot-with-confidence/\n",
            "/courses/certification-program/\n",
            "https://www.biddytarot.com/courses/blueprint-for-attracting-clients/\n",
            "/courses/grow-your-tarot-business-online/\n",
            "/learn-tarot\n",
            "/tarot-card-meanings/\n",
            "/blog\n",
            "/category/podcast\n",
            "https://community.biddytarot.com/free-tarot-readings/\n",
            "https://www.biddytarot.com/certified-tarot-readers/\n",
            "/about\n",
            "https://www.biddytarot.com/careers/\n",
            "https://support.biddytarot.com/hc/en-us\n",
            "/one-girl\n",
            "https://www.biddytarot.com/diversity/\n",
            "https://www.facebook.com/biddytarot\n",
            "https://www.pinterest.com/biddytarot\n",
            "https://www.instagram.com/biddytarot\n",
            "https://www.youtube.com/user/biddytarot\n",
            "https://www.biddytarot.com/privacy-policy/\n",
            "https://www.everydaytarot.com/#deck\n",
            "#\n",
            "/btc-free-training/\n",
            "https://community.biddytarot.com/free-tarot-readings/\n",
            "/learn-tarot\n",
            "/learn-tarot\n",
            "/tarot-card-meanings\n",
            "/tarot-101/\n",
            "/community\n",
            "/community\n",
            "http://community.biddytarot.com/login-page/\n",
            "/blog\n",
            "/category/podcast\n",
            "/shop\n",
            "/business\n",
            "/about\n",
            "/about\n",
            "https://www.biddytarot.com/careers/\n",
            "/contact-faq\n",
            "https://www.biddytarot.com/diversity/\n",
            "/login\n",
            "https://biddytarot.com/tarot-guides/tarot-card-answers/\n",
            "None\n",
            "/\n",
            "/tarot-card-meanings\n",
            "https://support.biddytarot.com/hc/en-us\n"
          ],
          "name": "stdout"
        }
      ]
    },
    {
      "cell_type": "code",
      "metadata": {
        "id": "_EfYauniOsNI"
      },
      "source": [
        "text_p = []\n",
        "p = soup_fool.find_all(id = [\"upright\", \"reversed\"])\n",
        "# text_p = [text_p.append(i.getText()) for i in p]\n",
        "for i in p:\n",
        "    text_p.append(i.getText())"
      ],
      "execution_count": 32,
      "outputs": []
    },
    {
      "cell_type": "code",
      "metadata": {
        "id": "NIULuUJSjOT_"
      },
      "source": [
        "p = soup_fool.find_all(id = [\"upright\", \"reversed\"])"
      ],
      "execution_count": 24,
      "outputs": []
    },
    {
      "cell_type": "code",
      "metadata": {
        "colab": {
          "base_uri": "https://localhost:8080/"
        },
        "id": "l1IsX9Ngi-cx",
        "outputId": "1c234ba1-fa29-4372-8d50-7dbc72c1883e"
      },
      "source": [
        "text_p"
      ],
      "execution_count": 33,
      "outputs": [
        {
          "output_type": "execute_result",
          "data": {
            "text/plain": [
              "['Upright FoolThe Fool is a card of new beginnings, opportunity and potential. Just like the young man, you are at the outset of your journey, standing at the cliff‘s edge, and about to take your first step into the unknown. Even though you don’t know exactly where you are going, you are being called to commit yourself and follow your heart, no matter how crazy this leap of faith might seem to you. Now is a time when you need to trust where the Universe is taking you.As you undertake this new journey, the Fool encourages you to have an open, curious mind and a sense of excitement. Throw caution to the wind and be ready to embrace the unknown, leaving behind any fear, worry or anxiety about what may or may not happen. This is about new experiences, personal growth, development, and adventure.The time is NOW! Take that leap of faith, even if you do not feel 100% ready or equipped for what is coming (who knows what it could be?!). Seriously, what are you waiting for? Do you think you need to have everything mapped out before you can begin? No way! Not with the Fool. He ventures out on his journey with just his essential belongings – and now he invites you to do the same. You don’t need to wait for someone to give you the green light or hold off until you have all the skills, tools and resources you think you might need. You are ready! If you’ve been watching for a sign, this is it!This is a time of great potential and opportunity for you right now. The world is your oyster, and anything can happen. Use your creative mind with a dash of spontaneity to make the most of this magical time and bring forth your new ideas in powerful ways.The Fool is your invitation to relax, play, and have fun. Treat life like one big experiment and feel yourself in the flow of whatever comes your way. This card asks you to embrace your beautiful, carefree spirit, allowing yourself to connect to the energy that surrounds you and flows through you. Tap into your fullest potential by stepping into a place of wonderment, curiosity and intrigue. Live life as though you were a child once again. Laugh more, dance, and let your heart go free.This is an excellent card to meditate on if you are struggling with dread, worry or self-doubt in your life. The Fool is your guide, as someone who is daring and carefree. He is the embodiment of who you really are – your free spirit, your inner child, and your playful soul. Any time you experience fear, remember the essence of the Fool as he encourages you to acknowledge that fear and do it anyway! You never know what the future holds, but like the Fool, you must step into the unknown, trusting that the Universe will catch you and escort you along the way. Take a chance and see what happens.',\n",
              " 'Reversed Fool The Fool reversed suggests that you have conceived of a new project but aren’t ready to ‘birth’ it into the world just yet. You may worry that you are not fit or that you don’t have all the tools, skills and resources you need to make this project a success. Or perhaps you have a sense that the timing isn’t right. Something is holding you back, and you are preventing yourself from moving forward. You may choose to keep this new opportunity to yourself for now, or you might be ‘parking’ it until a better time.You may fear the unknown, wondering, ‘What am I getting myself into?’ As a result, you have come to a standstill, worried about taking any action where you don’t know the outcome. This often boils down to the need to control everything. Balance this out with knowing that the Universe has your back and you can take this step forward, even if you are unsure of exactly what will happen next.On the flipside, the reversed Fool can show that you are taking too many risks and acting recklessly. In your attempt to live ‘in the moment’ and be spontaneous and adventurous, you may do so in total disregard of the consequences of your actions and engaging in activities that put both yourself and others at risk. Look at the bigger picture and consider how you can keep the free spirit of the Fool without harming others.In light of the playful and fun energy of the upright Fool, the reversal suggests you are exploring this spirit on a more personal and quiet level. For example, instead of letting down your hair and dancing up on stage, you are dancing in your bedroom like no-one is watching. Look at how you can bring more play into your daily life, even if you start out by doing it in private. ']"
            ]
          },
          "metadata": {
            "tags": []
          },
          "execution_count": 33
        }
      ]
    },
    {
      "cell_type": "code",
      "metadata": {
        "id": "j4r_u_Umgl0f"
      },
      "source": [
        "soup_fool.find_all('p')"
      ],
      "execution_count": null,
      "outputs": []
    },
    {
      "cell_type": "code",
      "metadata": {
        "id": "NPgYFrcEfr5q"
      },
      "source": [
        "a = soup_fool.find(id=[\"upright\",\"reversed\"])"
      ],
      "execution_count": 18,
      "outputs": []
    },
    {
      "cell_type": "code",
      "metadata": {
        "id": "JnTV51727YZ6"
      },
      "source": [
        "major_page = requests.get('https://www.biddytarot.com/tarot-card-meanings/major-arcana/')"
      ],
      "execution_count": 36,
      "outputs": []
    },
    {
      "cell_type": "code",
      "metadata": {
        "id": "IznAV2hc7YRw"
      },
      "source": [
        "soup_major = BeautifulSoup(major_page.text, \"lxml\")"
      ],
      "execution_count": 37,
      "outputs": []
    },
    {
      "cell_type": "code",
      "metadata": {
        "id": "BOzhyVnw7YIX"
      },
      "source": [
        "items = soup_major.find_all('div', {'class' : 'card_item'})"
      ],
      "execution_count": 56,
      "outputs": []
    },
    {
      "cell_type": "code",
      "metadata": {
        "id": "1HTFoqaBlIOA"
      },
      "source": [
        "keywords = []\n",
        "for i in items:\n",
        "  keywords.append(i.getText())"
      ],
      "execution_count": 59,
      "outputs": []
    },
    {
      "cell_type": "code",
      "metadata": {
        "colab": {
          "base_uri": "https://localhost:8080/"
        },
        "id": "albkzwUwm548",
        "outputId": "dbca319d-1f7b-4506-b46f-d7b72d1dd7b6"
      },
      "source": [
        "keywords\n"
      ],
      "execution_count": 60,
      "outputs": [
        {
          "output_type": "execute_result",
          "data": {
            "text/plain": [
              "['    UprightBeginnings, innocence, spontaneity, a free spiritReversedHolding back, recklessness, risk-takingFool   ',\n",
              " '    UprightManifestation, resourcefulness, power, inspired actionReversedManipulation, poor planning, untapped talentsThe Magician   ',\n",
              " '    UprightIntuition, sacred knowledge, divine feminine, the subconscious mindReversedSecrets, disconnected from intuition, withdrawal and silenceHigh Priestess   ',\n",
              " '    UprightFemininity, beauty, nature, nurturing, abundanceReversedCreative block, dependence on othersThe Empress   ',\n",
              " '    UprightAuthority, establishment, structure, a father figureReversedDomination, excessive control, lack of discipline, inflexibilityThe Emperor   ',\n",
              " '    UprightSpiritual wisdom, religious beliefs, conformity, tradition,institutionsReversedPersonal beliefs, freedom, challenging the status quoHierophant   ',\n",
              " '    UprightLove, harmony, relationships, values alignment, choicesReversedSelf-love, disharmony, imbalance, misalignment of valuesLovers   ',\n",
              " '    UprightControl, willpower, success, action, determinationReversedSelf-discipline, opposition, lack of directionChariot   ',\n",
              " '    UprightStrength, courage, persuasion, influence, compassionReversedInner strength, self-doubt, low energy, raw emotionStrength   ',\n",
              " '    UprightSoul-searching, introspection, being alone, inner guidanceReversedIsolation, loneliness, withdrawalHermit   ',\n",
              " '    UprightGood luck, karma, life cycles, destiny, a turning pointReversedBad luck, resistance to change, breaking cyclesWheel of Fortune   ',\n",
              " '    UprightJustice, fairness, truth, cause and effect, lawReversedUnfairness, lack of accountability, dishonestyJustice   ',\n",
              " '    UprightPause, surrender, letting go, new perspectivesReversedDelays, resistance, stalling, indecisionHanged Man   ',\n",
              " '    UprightEndings, change, transformation, transitionReversedResistance to change, personal transformation, inner purgingDeath   ',\n",
              " '    UprightBalance, moderation, patience, purposeReversedImbalance, excess, self-healing, re-alignmentTemperance   ',\n",
              " '    UprightShadow self, attachment, addiction, restriction, sexualityReversedReleasing limiting beliefs, exploring dark thoughts, detachmentDevil   ',\n",
              " '    UprightSudden change, upheaval, chaos, revelation, awakeningReversedPersonal transformation, fear of change, averting disasterTower   ',\n",
              " '    UprightHope, faith, purpose, renewal, spiritualityReversedLack of faith, despair, self-trust, disconnectionStar   ',\n",
              " '    UprightIllusion, fear, anxiety, subconscious, intuitionReversedRelease of fear, repressed emotion, inner confusionMoon   ',\n",
              " '    UprightPositivity, fun, warmth, success, vitalityReversedInner child, feeling down, overly optimisticSun   ',\n",
              " '    UprightJudgement, rebirth, inner calling, absolutionReversedSelf-doubt, inner critic, ignoring the callJudgement   ',\n",
              " '    UprightCompletion, integration, accomplishment, travelReversedSeeking personal closure, short-cuts, delaysWorld   ']"
            ]
          },
          "metadata": {
            "tags": []
          },
          "execution_count": 60
        }
      ]
    },
    {
      "cell_type": "code",
      "metadata": {
        "id": "pk2WC5n1nQJC"
      },
      "source": [
        "keywords_test = [i.split('Reversed') for i in keywords] "
      ],
      "execution_count": 65,
      "outputs": []
    },
    {
      "cell_type": "code",
      "metadata": {
        "colab": {
          "base_uri": "https://localhost:8080/"
        },
        "id": "mugIDudaoQvC",
        "outputId": "a914145f-717d-4c15-d20a-3b23d281cca3"
      },
      "source": [
        "keywords_test"
      ],
      "execution_count": 66,
      "outputs": [
        {
          "output_type": "execute_result",
          "data": {
            "text/plain": [
              "[['    UprightBeginnings, innocence, spontaneity, a free spirit',\n",
              "  'Holding back, recklessness, risk-takingFool   '],\n",
              " ['    UprightManifestation, resourcefulness, power, inspired action',\n",
              "  'Manipulation, poor planning, untapped talentsThe Magician   '],\n",
              " ['    UprightIntuition, sacred knowledge, divine feminine, the subconscious mind',\n",
              "  'Secrets, disconnected from intuition, withdrawal and silenceHigh Priestess   '],\n",
              " ['    UprightFemininity, beauty, nature, nurturing, abundance',\n",
              "  'Creative block, dependence on othersThe Empress   '],\n",
              " ['    UprightAuthority, establishment, structure, a father figure',\n",
              "  'Domination, excessive control, lack of discipline, inflexibilityThe Emperor   '],\n",
              " ['    UprightSpiritual wisdom, religious beliefs, conformity, tradition,institutions',\n",
              "  'Personal beliefs, freedom, challenging the status quoHierophant   '],\n",
              " ['    UprightLove, harmony, relationships, values alignment, choices',\n",
              "  'Self-love, disharmony, imbalance, misalignment of valuesLovers   '],\n",
              " ['    UprightControl, willpower, success, action, determination',\n",
              "  'Self-discipline, opposition, lack of directionChariot   '],\n",
              " ['    UprightStrength, courage, persuasion, influence, compassion',\n",
              "  'Inner strength, self-doubt, low energy, raw emotionStrength   '],\n",
              " ['    UprightSoul-searching, introspection, being alone, inner guidance',\n",
              "  'Isolation, loneliness, withdrawalHermit   '],\n",
              " ['    UprightGood luck, karma, life cycles, destiny, a turning point',\n",
              "  'Bad luck, resistance to change, breaking cyclesWheel of Fortune   '],\n",
              " ['    UprightJustice, fairness, truth, cause and effect, law',\n",
              "  'Unfairness, lack of accountability, dishonestyJustice   '],\n",
              " ['    UprightPause, surrender, letting go, new perspectives',\n",
              "  'Delays, resistance, stalling, indecisionHanged Man   '],\n",
              " ['    UprightEndings, change, transformation, transition',\n",
              "  'Resistance to change, personal transformation, inner purgingDeath   '],\n",
              " ['    UprightBalance, moderation, patience, purpose',\n",
              "  'Imbalance, excess, self-healing, re-alignmentTemperance   '],\n",
              " ['    UprightShadow self, attachment, addiction, restriction, sexuality',\n",
              "  'Releasing limiting beliefs, exploring dark thoughts, detachmentDevil   '],\n",
              " ['    UprightSudden change, upheaval, chaos, revelation, awakening',\n",
              "  'Personal transformation, fear of change, averting disasterTower   '],\n",
              " ['    UprightHope, faith, purpose, renewal, spirituality',\n",
              "  'Lack of faith, despair, self-trust, disconnectionStar   '],\n",
              " ['    UprightIllusion, fear, anxiety, subconscious, intuition',\n",
              "  'Release of fear, repressed emotion, inner confusionMoon   '],\n",
              " ['    UprightPositivity, fun, warmth, success, vitality',\n",
              "  'Inner child, feeling down, overly optimisticSun   '],\n",
              " ['    UprightJudgement, rebirth, inner calling, absolution',\n",
              "  'Self-doubt, inner critic, ignoring the callJudgement   '],\n",
              " ['    UprightCompletion, integration, accomplishment, travel',\n",
              "  'Seeking personal closure, short-cuts, delaysWorld   ']]"
            ]
          },
          "metadata": {
            "tags": []
          },
          "execution_count": 66
        }
      ]
    },
    {
      "cell_type": "code",
      "metadata": {
        "colab": {
          "base_uri": "https://localhost:8080/"
        },
        "id": "lHcZnXKjnaoD",
        "outputId": "5bf78027-56ee-4d6b-a6c8-d8597adefcc3"
      },
      "source": [
        "keywords3"
      ],
      "execution_count": 64,
      "outputs": [
        {
          "output_type": "execute_result",
          "data": {
            "text/plain": [
              "['Holding back, recklessness, risk-takingFool   ',\n",
              " 'Manipulation, poor planning, untapped talentsThe Magician   ',\n",
              " 'Secrets, disconnected from intuition, withdrawal and silenceHigh Priestess   ',\n",
              " 'Creative block, dependence on othersThe Empress   ',\n",
              " 'Domination, excessive control, lack of discipline, inflexibilityThe Emperor   ',\n",
              " 'Personal beliefs, freedom, challenging the status quoHierophant   ',\n",
              " 'Self-love, disharmony, imbalance, misalignment of valuesLovers   ',\n",
              " 'Self-discipline, opposition, lack of directionChariot   ',\n",
              " 'Inner strength, self-doubt, low energy, raw emotionStrength   ',\n",
              " 'Isolation, loneliness, withdrawalHermit   ',\n",
              " 'Bad luck, resistance to change, breaking cyclesWheel of Fortune   ',\n",
              " 'Unfairness, lack of accountability, dishonestyJustice   ',\n",
              " 'Delays, resistance, stalling, indecisionHanged Man   ',\n",
              " 'Resistance to change, personal transformation, inner purgingDeath   ',\n",
              " 'Imbalance, excess, self-healing, re-alignmentTemperance   ',\n",
              " 'Releasing limiting beliefs, exploring dark thoughts, detachmentDevil   ',\n",
              " 'Personal transformation, fear of change, averting disasterTower   ',\n",
              " 'Lack of faith, despair, self-trust, disconnectionStar   ',\n",
              " 'Release of fear, repressed emotion, inner confusionMoon   ',\n",
              " 'Inner child, feeling down, overly optimisticSun   ',\n",
              " 'Self-doubt, inner critic, ignoring the callJudgement   ',\n",
              " 'Seeking personal closure, short-cuts, delaysWorld   ']"
            ]
          },
          "metadata": {
            "tags": []
          },
          "execution_count": 64
        }
      ]
    },
    {
      "cell_type": "code",
      "metadata": {
        "id": "YYjvmn0sUjV5"
      },
      "source": [
        "print(items[0].getText())"
      ],
      "execution_count": null,
      "outputs": []
    }
  ]
}