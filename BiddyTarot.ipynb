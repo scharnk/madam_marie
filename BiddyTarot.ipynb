{
  "nbformat": 4,
  "nbformat_minor": 0,
  "metadata": {
    "colab": {
      "name": "BiddyTarot.ipynb",
      "provenance": [],
      "authorship_tag": "ABX9TyMVFtLZr5p3icXE3NT+jRke",
      "include_colab_link": true
    },
    "kernelspec": {
      "name": "python3",
      "display_name": "Python 3"
    },
    "language_info": {
      "name": "python"
    }
  },
  "cells": [
    {
      "cell_type": "markdown",
      "metadata": {
        "id": "view-in-github",
        "colab_type": "text"
      },
      "source": [
        "<a href=\"https://colab.research.google.com/github/scharnk/madam_marie/blob/main/BiddyTarot.ipynb\" target=\"_parent\"><img src=\"https://colab.research.google.com/assets/colab-badge.svg\" alt=\"Open In Colab\"/></a>"
      ]
    },
    {
      "cell_type": "code",
      "source": [
        "pip install retrying"
      ],
      "metadata": {
        "colab": {
          "base_uri": "https://localhost:8080/"
        },
        "id": "2RANKWmMJaxR",
        "outputId": "762116f2-260c-43c5-b67a-d153b93d009f"
      },
      "execution_count": 1,
      "outputs": [
        {
          "output_type": "stream",
          "name": "stdout",
          "text": [
            "Collecting retrying\n",
            "  Downloading retrying-1.3.3.tar.gz (10 kB)\n",
            "Requirement already satisfied: six>=1.7.0 in /usr/local/lib/python3.7/dist-packages (from retrying) (1.15.0)\n",
            "Building wheels for collected packages: retrying\n",
            "  Building wheel for retrying (setup.py) ... \u001b[?25l\u001b[?25hdone\n",
            "  Created wheel for retrying: filename=retrying-1.3.3-py3-none-any.whl size=11447 sha256=a82191969ac8b7aba1fef60e9ffa799b4a9d6bbe4257a2a6e2960337e58148a3\n",
            "  Stored in directory: /root/.cache/pip/wheels/f9/8d/8d/f6af3f7f9eea3553bc2fe6d53e4b287dad18b06a861ac56ddf\n",
            "Successfully built retrying\n",
            "Installing collected packages: retrying\n",
            "Successfully installed retrying-1.3.3\n"
          ]
        }
      ]
    },
    {
      "cell_type": "code",
      "metadata": {
        "id": "9fanNZNsphT2"
      },
      "source": [
        "import seaborn as sns\n",
        "sns.set()\n",
        "\n",
        "import numpy as np\n",
        "import pandas as pd\n",
        "import matplotlib.pyplot as plt\n",
        "\n",
        "import requests\n",
        "# import requests_cache\n",
        "import dill\n",
        "from bs4 import BeautifulSoup\n",
        "from datetime import datetime\n",
        "from retrying import retry\n",
        "import re\n",
        "import spacy\n",
        "import itertools  # itertools.combinations may be useful\n",
        "import networkx as nx"
      ],
      "execution_count": 2,
      "outputs": []
    },
    {
      "cell_type": "code",
      "metadata": {
        "id": "ZYN4UKFY7RLX"
      },
      "source": [
        "url_list = ['https://www.biddytarot.com/tarot-card-meanings/major-arcana/', \n",
        "            'https://www.biddytarot.com/tarot-card-meanings/minor-arcana/suit-of-cups/',\n",
        "            'https://www.biddytarot.com/tarot-card-meanings/minor-arcana/suit-of-swords/',\n",
        "            'https://www.biddytarot.com/tarot-card-meanings/minor-arcana/suit-of-pentacles/',\n",
        "            'https://www.biddytarot.com/tarot-card-meanings/minor-arcana/suit-of-wands/']"
      ],
      "execution_count": 3,
      "outputs": []
    },
    {
      "cell_type": "code",
      "metadata": {
        "id": "_zKkJbQTQymI"
      },
      "source": [
        "url_major_arcana = [\n",
        "                    'https://www.biddytarot.com/tarot-card-meanings/major-arcana/fool/',\n",
        "                    'https://www.biddytarot.com/tarot-card-meanings/major-arcana/magician/',\n",
        "                    'https://www.biddytarot.com/tarot-card-meanings/major-arcana/high-priestess/',\n",
        "                    'https://www.biddytarot.com/tarot-card-meanings/major-arcana/empress/',\n",
        "                    'https://www.biddytarot.com/tarot-card-meanings/major-arcana/emperor/',\n",
        "                    'https://www.biddytarot.com/tarot-card-meanings/major-arcana/hierophant/',\n",
        "                    'https://www.biddytarot.com/tarot-card-meanings/major-arcana/lovers/',\n",
        "                    'https://www.biddytarot.com/tarot-card-meanings/major-arcana/chariot/',\n",
        "                    'https://www.biddytarot.com/tarot-card-meanings/major-arcana/strength/',\n",
        "                    'https://www.biddytarot.com/tarot-card-meanings/major-arcana/hermit/',\n",
        "                    'https://www.biddytarot.com/tarot-card-meanings/major-arcana/wheel-of-fortune/',\n",
        "                    'https://www.biddytarot.com/tarot-card-meanings/major-arcana/justice/',\n",
        "                    'https://www.biddytarot.com/tarot-card-meanings/major-arcana/hanged-man/',\n",
        "                    'https://www.biddytarot.com/tarot-card-meanings/major-arcana/death/',\n",
        "                    'https://www.biddytarot.com/tarot-card-meanings/major-arcana/temperance/',\n",
        "                    'https://www.biddytarot.com/tarot-card-meanings/major-arcana/devil/',\n",
        "                    'https://www.biddytarot.com/tarot-card-meanings/major-arcana/tower/',\n",
        "                    'https://www.biddytarot.com/tarot-card-meanings/major-arcana/star/',\n",
        "                    'https://www.biddytarot.com/tarot-card-meanings/major-arcana/moon/',\n",
        "                    'https://www.biddytarot.com/tarot-card-meanings/major-arcana/sun/',\n",
        "                    'https://www.biddytarot.com/tarot-card-meanings/major-arcana/judgement/',\n",
        "                    'https://www.biddytarot.com/tarot-card-meanings/major-arcana/world/'\n",
        "]"
      ],
      "execution_count": 4,
      "outputs": []
    },
    {
      "cell_type": "code",
      "metadata": {
        "id": "3PpJDfD6SCsb"
      },
      "source": [
        "url_minor_arcana = [\n",
        "                    'https://www.biddytarot.com/tarot-card-meanings/minor-arcana/suit-of-cups/ace-of-cups/',\n",
        "                    'https://www.biddytarot.com/tarot-card-meanings/minor-arcana/suit-of-cups/two-of-cups/',\n",
        "                    'https://www.biddytarot.com/tarot-card-meanings/minor-arcana/suit-of-cups/three-of-cups/',\n",
        "                    'https://www.biddytarot.com/tarot-card-meanings/minor-arcana/suit-of-cups/four-of-cups/',\n",
        "                    'https://www.biddytarot.com/tarot-card-meanings/minor-arcana/suit-of-cups/five-of-cups/',\n",
        "                    'https://www.biddytarot.com/tarot-card-meanings/minor-arcana/suit-of-cups/six-of-cups/',\n",
        "                    'https://www.biddytarot.com/tarot-card-meanings/minor-arcana/suit-of-cups/seven-of-cups/',\n",
        "                    'https://www.biddytarot.com/tarot-card-meanings/minor-arcana/suit-of-cups/eight-of-cups/',\n",
        "                    'https://www.biddytarot.com/tarot-card-meanings/minor-arcana/suit-of-cups/nine-of-cups/',\n",
        "                    'https://www.biddytarot.com/tarot-card-meanings/minor-arcana/suit-of-cups/ten-of-cups/',\n",
        "                    'https://www.biddytarot.com/tarot-card-meanings/minor-arcana/suit-of-cups/page-of-cups/',\n",
        "                    'https://www.biddytarot.com/tarot-card-meanings/minor-arcana/suit-of-cups/knight-of-cups/',\n",
        "                    'https://www.biddytarot.com/tarot-card-meanings/minor-arcana/suit-of-cups/queen-of-cups/',\n",
        "                    'https://www.biddytarot.com/tarot-card-meanings/minor-arcana/suit-of-cups/king-of-cups/',\n",
        "                    'https://www.biddytarot.com/tarot-card-meanings/minor-arcana/suit-of-swords/ace-of-swords/',\n",
        "                    'https://www.biddytarot.com/tarot-card-meanings/minor-arcana/suit-of-swords/two-of-swords/',\n",
        "                    'https://www.biddytarot.com/tarot-card-meanings/minor-arcana/suit-of-swords/three-of-swords/',\n",
        "                    'https://www.biddytarot.com/tarot-card-meanings/minor-arcana/suit-of-swords/four-of-swords/',\n",
        "                    'https://www.biddytarot.com/tarot-card-meanings/minor-arcana/suit-of-swords/five-of-swords/',\n",
        "                    'https://www.biddytarot.com/tarot-card-meanings/minor-arcana/suit-of-swords/six-of-swords/',\n",
        "                    'https://www.biddytarot.com/tarot-card-meanings/minor-arcana/suit-of-swords/seven-of-swords/',\n",
        "                    'https://www.biddytarot.com/tarot-card-meanings/minor-arcana/suit-of-swords/eight-of-swords/',\n",
        "                    'https://www.biddytarot.com/tarot-card-meanings/minor-arcana/suit-of-swords/nine-of-swords/',\n",
        "                    'https://www.biddytarot.com/tarot-card-meanings/minor-arcana/suit-of-swords/ten-of-swords/',\n",
        "                    'https://www.biddytarot.com/tarot-card-meanings/minor-arcana/suit-of-swords/page-of-swords/',\n",
        "                    'https://www.biddytarot.com/tarot-card-meanings/minor-arcana/suit-of-swords/knight-of-swords/',\n",
        "                    'https://www.biddytarot.com/tarot-card-meanings/minor-arcana/suit-of-swords/queen-of-swords/',\n",
        "                    'https://www.biddytarot.com/tarot-card-meanings/minor-arcana/suit-of-swords/king-of-swords/',\n",
        "                    'https://www.biddytarot.com/tarot-card-meanings/minor-arcana/suit-of-pentacles/ace-of-pentacles/',\n",
        "                    'https://www.biddytarot.com/tarot-card-meanings/minor-arcana/suit-of-pentacles/two-of-pentacles/',\n",
        "                    'https://www.biddytarot.com/tarot-card-meanings/minor-arcana/suit-of-pentacles/three-of-pentacles/',\n",
        "                    'https://www.biddytarot.com/tarot-card-meanings/minor-arcana/suit-of-pentacles/four-of-pentacles/',\n",
        "                    'https://www.biddytarot.com/tarot-card-meanings/minor-arcana/suit-of-pentacles/five-of-pentacles/',\n",
        "                    'https://www.biddytarot.com/tarot-card-meanings/minor-arcana/suit-of-pentacles/six-of-pentacles/',\n",
        "                    'https://www.biddytarot.com/tarot-card-meanings/minor-arcana/suit-of-pentacles/seven-of-pentacles/',\n",
        "                    'https://www.biddytarot.com/tarot-card-meanings/minor-arcana/suit-of-pentacles/eight-of-pentacles/',\n",
        "                    'https://www.biddytarot.com/tarot-card-meanings/minor-arcana/suit-of-pentacles/nine-of-pentacles/',\n",
        "                    'https://www.biddytarot.com/tarot-card-meanings/minor-arcana/suit-of-pentacles/ten-of-pentacles/',\n",
        "                    'https://www.biddytarot.com/tarot-card-meanings/minor-arcana/suit-of-pentacles/page-of-pentacles/',\n",
        "                    'https://www.biddytarot.com/tarot-card-meanings/minor-arcana/suit-of-pentacles/knight-of-pentacles/',\n",
        "                    'https://www.biddytarot.com/tarot-card-meanings/minor-arcana/suit-of-pentacles/queen-of-pentacles/',\n",
        "                    'https://www.biddytarot.com/tarot-card-meanings/minor-arcana/suit-of-pentacles/king-of-pentacles/',\n",
        "                    'https://www.biddytarot.com/tarot-card-meanings/minor-arcana/suit-of-wands/ace-of-wands/',\n",
        "                    'https://www.biddytarot.com/tarot-card-meanings/minor-arcana/suit-of-wands/two-of-wands/',\n",
        "                    'https://www.biddytarot.com/tarot-card-meanings/minor-arcana/suit-of-wands/three-of-wands/',\n",
        "                    'https://www.biddytarot.com/tarot-card-meanings/minor-arcana/suit-of-wands/four-of-wands/',\n",
        "                    'https://www.biddytarot.com/tarot-card-meanings/minor-arcana/suit-of-wands/five-of-wands/',\n",
        "                    'https://www.biddytarot.com/tarot-card-meanings/minor-arcana/suit-of-wands/six-of-wands/',\n",
        "                    'https://www.biddytarot.com/tarot-card-meanings/minor-arcana/suit-of-wands/seven-of-wands/',\n",
        "                    'https://www.biddytarot.com/tarot-card-meanings/minor-arcana/suit-of-wands/eight-of-wands/',\n",
        "                    'https://www.biddytarot.com/tarot-card-meanings/minor-arcana/suit-of-wands/nine-of-wands/',\n",
        "                    'https://www.biddytarot.com/tarot-card-meanings/minor-arcana/suit-of-wands/ten-of-wands/',\n",
        "                    'https://www.biddytarot.com/tarot-card-meanings/minor-arcana/suit-of-wands/page-of-wands/',\n",
        "                    'https://www.biddytarot.com/tarot-card-meanings/minor-arcana/suit-of-wands/knight-of-wands/',\n",
        "                    'https://www.biddytarot.com/tarot-card-meanings/minor-arcana/suit-of-wands/queen-of-wands/',\n",
        "                    'https://www.biddytarot.com/tarot-card-meanings/minor-arcana/suit-of-wands/king-of-wands/'\n",
        "]"
      ],
      "execution_count": 5,
      "outputs": []
    },
    {
      "cell_type": "code",
      "metadata": {
        "id": "ODkuNPj0oZI-"
      },
      "source": [
        "card_list = [\n",
        "             \"Fool\",\n",
        "             \"The Magician\",\n",
        "             \"High Priestess\",\n",
        "             \"The Empress\",\n",
        "             \"The Emperor\",\n",
        "             \"Hierophant\",\n",
        "             \"Lovers\",\n",
        "             \"Chariot\",\n",
        "             \"Strength\",\n",
        "             \"Hermit\",\n",
        "             \"Wheel of Fortune\",\n",
        "             \"Justice\",\n",
        "             \"Hanged Man\",\n",
        "             \"Death\",\n",
        "             \"Temperance\",\n",
        "             \"Devil\",\n",
        "             \"Tower\",\n",
        "             \"Star\",\n",
        "             \"Moon\",\n",
        "             \"Sun\",\n",
        "             \"Judgement\",\n",
        "             \"World\"\n",
        "             ]"
      ],
      "execution_count": 6,
      "outputs": []
    },
    {
      "cell_type": "code",
      "metadata": {
        "id": "GDDTOkb4QDM_",
        "colab": {
          "base_uri": "https://localhost:8080/"
        },
        "outputId": "397f82ce-c51e-4b3f-ad30-49f92c04cf2e"
      },
      "source": [
        "for i, v in enumerate(url_major_arcana):\n",
        "    print(i)"
      ],
      "execution_count": 8,
      "outputs": [
        {
          "output_type": "stream",
          "name": "stdout",
          "text": [
            "0\n",
            "1\n",
            "2\n",
            "3\n",
            "4\n",
            "5\n",
            "6\n",
            "7\n",
            "8\n",
            "9\n",
            "10\n",
            "11\n",
            "12\n",
            "13\n",
            "14\n",
            "15\n",
            "16\n",
            "17\n",
            "18\n",
            "19\n",
            "20\n",
            "21\n"
          ]
        }
      ]
    },
    {
      "cell_type": "code",
      "metadata": {
        "id": "0yfElGO2p97n"
      },
      "source": [
        "#run through url_major_arcana to get full card meanings for upright and reversed\n",
        "\n",
        "major_meanings = []\n",
        "\n",
        "for idx, url in enumerate(url_major_arcana):\n",
        "    card = requests.get(url_major_arcana[idx])\n",
        "    soup = BeautifulSoup(card.text, \"lxml\")\n",
        "    p = soup.find_all(id = [\"upright\", \"reversed\"])\n",
        "    text_p = []\n",
        "    for i in p:\n",
        "        text_p.append(i.getText())\n",
        "    major_meanings.append(text_p)\n",
        "\n",
        "#run through url_minor_arcana to get full card meanings for upright and reversed\n",
        "\n",
        "minor_meanings_upright = []\n",
        "minor_meanings_reversed = []\n",
        "\n",
        "for idx, url in enumerate(url_minor_arcana):\n",
        "    card = requests.get(url_minor_arcana[idx])\n",
        "    soup = BeautifulSoup(card.text, \"lxml\")\n",
        "    p = soup.find_all('div', {'class':'col span_12'})\n",
        "    q = soup.find_all('div', {'class':'col span_8'})\n",
        "    text_p = []\n",
        "    text_q = []\n",
        "    for i in p:\n",
        "        # p.find('class'='col span_12')\n",
        "        text_p.append(i.getText())\n",
        "    minor_meanings_upright.append(text_p[-1])\n",
        "    for i in q:\n",
        "        text_q.append(i.getText())\n",
        "    minor_meanings_reversed.append(text_q[-1])\n",
        "\n",
        "\n",
        "#run through url list to get keywords for each card upright and reversed\n",
        "\n",
        "\n",
        "#can figure out how to get general card descriptions later on... should be similar to card meanings\n",
        "\n",
        "\n"
      ],
      "execution_count": 7,
      "outputs": []
    },
    {
      "cell_type": "code",
      "metadata": {
        "id": "cUM7H6bNfRJY"
      },
      "source": [
        "import pickle"
      ],
      "execution_count": 10,
      "outputs": []
    },
    {
      "cell_type": "code",
      "metadata": {
        "id": "vEI8xkj3eJWh"
      },
      "source": [
        "# Save meanings so you don't have to re-scrape biddytarot.com\n",
        "\n",
        "with open('major_meanings.pkl', 'wb') as f:\n",
        "     pickle.dump(major_meanings, f)\n",
        "\n",
        "with open('minor_meanings_upright.pkl', 'wb') as f:\n",
        "     pickle.dump(minor_meanings_upright, f)\n",
        "\n",
        "with open('minor_meanings_reversed.pkl', 'wb') as f:\n",
        "     pickle.dump(minor_meanings_reversed, f)"
      ],
      "execution_count": null,
      "outputs": []
    },
    {
      "cell_type": "code",
      "metadata": {
        "id": "NY1q2UOZeKSz"
      },
      "source": [
        "# Read the meanings from the dill/pickle files above\n",
        "\n",
        "with open('major_meanings.pkl', 'rb') as f:\n",
        "     major_meanings = pickle.load(f)\n",
        "\n",
        "with open('minor_meanings_upright.pkl', 'rb') as f:\n",
        "     minor_meanings_upright = pickle.load(f)\n",
        "\n",
        "with open('minor_meanings_reversed.pkl', 'rb') as f:\n",
        "     minor_meanings_reversed = pickle.load(f)"
      ],
      "execution_count": null,
      "outputs": []
    },
    {
      "cell_type": "code",
      "metadata": {
        "id": "FI4EwicoZ8dW"
      },
      "source": [
        ""
      ],
      "execution_count": null,
      "outputs": []
    },
    {
      "cell_type": "code",
      "metadata": {
        "id": "9FErmbseYleo"
      },
      "source": [
        "# minor_meanings = []\n",
        "# text_p = []\n"
      ],
      "execution_count": null,
      "outputs": []
    },
    {
      "cell_type": "code",
      "metadata": {
        "id": "5ZvcWx04ZLZ9"
      },
      "source": [
        "len(minor_meanings_upright)"
      ],
      "execution_count": null,
      "outputs": []
    },
    {
      "cell_type": "code",
      "metadata": {
        "id": "n8gSrgGxYjZM"
      },
      "source": [
        "minor_meanings_upright"
      ],
      "execution_count": null,
      "outputs": []
    },
    {
      "cell_type": "code",
      "metadata": {
        "id": "SgPLH9dGYOSt"
      },
      "source": [
        "len(minor_meanings_reversed)"
      ],
      "execution_count": null,
      "outputs": []
    },
    {
      "cell_type": "code",
      "metadata": {
        "id": "JcTjXp0vQWxp"
      },
      "source": [
        "# major_meanings[3]"
      ],
      "execution_count": null,
      "outputs": []
    },
    {
      "cell_type": "code",
      "metadata": {
        "id": "xWx1DMoMpqsY"
      },
      "source": [
        "page = requests.get('https://www.biddytarot.com/tarot-card-meanings/') # Use requests.get to download the page."
      ],
      "execution_count": 11,
      "outputs": []
    },
    {
      "cell_type": "code",
      "metadata": {
        "id": "owmnWmFmp6as"
      },
      "source": [
        "soup = BeautifulSoup(page.text, \"html.parser\")"
      ],
      "execution_count": 12,
      "outputs": []
    },
    {
      "cell_type": "code",
      "metadata": {
        "id": "JAK53AVCyoJG"
      },
      "source": [
        "# url_base = 'https://www.biddytarot.com/'\n",
        "# url_end = ['/tarot-card-meanings/major-arcana/', '/tarot-card-meanings/minor-arcana/suit-of-cups/', '/tarot-card-meanings/minor-arcana/suit-of-swords/', '/tarot-card-meanings/minor-arcana/suit-of-pentacles/', '/tarot-card-meanings/minor-arcana/suit-of-wands/']"
      ],
      "execution_count": null,
      "outputs": []
    },
    {
      "cell_type": "code",
      "metadata": {
        "id": "ST0tGr_43DMt"
      },
      "source": [
        "# soup.prettify"
      ],
      "execution_count": null,
      "outputs": []
    },
    {
      "cell_type": "code",
      "metadata": {
        "id": "KFlM_PH6QUE5"
      },
      "source": [
        "page = requests.get(url_list[0]) # Use requests.get to download the page.\n",
        "soup = BeautifulSoup(page.text, \"html.parser\")"
      ],
      "execution_count": 8,
      "outputs": []
    },
    {
      "cell_type": "code",
      "metadata": {
        "id": "kX6qwgPaukaP"
      },
      "source": [
        "# for link in soup.find_all('a'):\n",
        "#     print(link.get('href'))"
      ],
      "execution_count": null,
      "outputs": []
    },
    {
      "cell_type": "code",
      "metadata": {
        "id": "5sZ727YfrF1w"
      },
      "source": [
        "# def get_links(response):\n",
        "#     soup = BeautifulSoup(response.text, \"lxml\")\n",
        "#     links = soup.select('div[a]')\n",
        "#     pairs = []\n",
        "#     for i in range(len(links)):\n",
        "#         pair = get_link_date(links[i])\n",
        "#         pairs.append(pair)\n",
        "#     return pairs # A list of URL, date pairs\n",
        "#     return links\n",
        "    # for li in div:\n",
        "    # all_li = li.find_all('li')\n",
        "    # for link in all_li.find_all('a'):\n",
        "    #     print(link.get('href'))"
      ],
      "execution_count": null,
      "outputs": []
    },
    {
      "cell_type": "code",
      "metadata": {
        "id": "6O6QosvA7Yhw"
      },
      "source": [
        "# cups = requests.get('https://www.biddytarot.com/tarot-card-meanings/minor-arcana/suit-of-cups/')\n",
        "# soup_cups = BeautifulSoup(cups.text,\"lxml\")\n",
        "# a = soup_cups.find_all('a')\n",
        "# for link in a:\n",
        "#     print(link.get('href'))"
      ],
      "execution_count": null,
      "outputs": []
    },
    {
      "cell_type": "code",
      "metadata": {
        "id": "pmSNPeJPRiZy"
      },
      "source": [
        "# swords = requests.get('https://www.biddytarot.com/tarot-card-meanings/minor-arcana/suit-of-swords/')\n",
        "# soup_swords = BeautifulSoup(swords.text,\"lxml\")\n",
        "# a = soup_swords.find_all('a')\n",
        "# for link in a:\n",
        "#     print(link.get('href'))"
      ],
      "execution_count": null,
      "outputs": []
    },
    {
      "cell_type": "code",
      "metadata": {
        "id": "FrzShLr-Tjzu"
      },
      "source": [
        "# pentacles = requests.get('https://www.biddytarot.com/tarot-card-meanings/minor-arcana/suit-of-pentacles/')\n",
        "# soup_pentacles = BeautifulSoup(pentacles.text,\"lxml\")\n",
        "# a = soup_pentacles.find_all('a')\n",
        "# for link in a:\n",
        "#     print(link.get('href'))"
      ],
      "execution_count": null,
      "outputs": []
    },
    {
      "cell_type": "code",
      "metadata": {
        "id": "o7CC5ssKTzFW"
      },
      "source": [
        "# wands = requests.get('https://www.biddytarot.com/tarot-card-meanings/minor-arcana/suit-of-wands/')\n",
        "# soup_wands = BeautifulSoup(wands.text,\"lxml\")\n",
        "# a = soup_wands.find_all('a')\n",
        "# for link in a:\n",
        "#     print(link.get('href'))"
      ],
      "execution_count": null,
      "outputs": []
    },
    {
      "cell_type": "code",
      "source": [
        "# page = requests.get(url_list[0]) # Use requests.get to download the page.\n",
        "\n",
        "# url_list = ['https://www.biddytarot.com/tarot-card-meanings/major-arcana/', \n",
        "#             'https://www.biddytarot.com/tarot-card-meanings/minor-arcana/suit-of-cups/',\n",
        "#             'https://www.biddytarot.com/tarot-card-meanings/minor-arcana/suit-of-swords/',\n",
        "#             'https://www.biddytarot.com/tarot-card-meanings/minor-arcana/suit-of-pentacles/',\n",
        "#             'https://www.biddytarot.com/tarot-card-meanings/minor-arcana/suit-of-wands/']\n",
        "\n",
        "# soup = BeautifulSoup(page.text, \"html.parser\")\n",
        "\n",
        "# maj = requests.get('https://www.biddytarot.com/tarot-card-meanings/major-arcana/')\n",
        "\n",
        "# for i,v in enumerate(url_major_arcana):\n",
        "#     # print(url_major_arcana[i])\n",
        "#     maj = requests.get({}.format(url_major_arcana[i]))\n",
        "#     soup_maj = BeautifulSoup(maj.text,\"lxml\")\n",
        "#     divtag = soup_maj.find_all(\"div\", {\"class\":\"div.col.span_12\"})\n",
        "\n",
        "\n",
        "# single instance\n",
        "# for i,v in enumerate(url_major_arcana):\n",
        "    # print(url_major_arcana[i])\n",
        "maj = requests.get(\"{}\".format(url_major_arcana[0]))\n",
        "soup_maj = BeautifulSoup(maj.text,\"lxml\")\n",
        "divtag = soup_maj.find_all(\"div\", {\"class\":\"col span_12\"})\n",
        "divtagrev = soup_maj.find_all(\"div\", {\"class\":\"col span_8\"})\n",
        "divtagdesc = soup_maj.find_all(\"h3\", {\"class\":\"center lightpurple upper fs24 bold padbod15\"})\n",
        "\n",
        "meaning_upright = divtag[2].getText().replace(\"Upright\",\"Upright: \")\n",
        "meaning_reversed = divtagrev[1].getText().replace(\"Reversed\",\"Reversed: \", 1)\n",
        "\n",
        "meaning_desc = divtagrev[0].getText()\n",
        "desc = meaning_desc.find(\"Description\")\n",
        "card_desc = meaning_desc[desc:].replace(\"Description\", \"Description: \")\n",
        "# description = <h3 class=\"center lightpurple upper fs24 bold padbot15\">The Magician Description</h3>\n",
        "print(meaning_reversed)\n",
        "\n",
        "######## divtag[2] includes UPRIGHT meaning ############\n",
        "######## divtagrev[0] includes UPRIGHT keywords, REVERSED keywords, and DESCRIPTION ############\n",
        "######## don't need UPRIGHT keywords, or REVERSED keywords -- taken from major_arcana page ############\n",
        "######## divtagrev[1] includes REVERSED meaning ############\n",
        "\n",
        "######## could build upright meanings up in one array, and reversed in another ########\n",
        "######## then create dictionary with cards and items as upright, reversed, and description? ########\n",
        "\n",
        "\n",
        "\n",
        "    # a = soup_maj.find_all('a')\n",
        "    # for link in a:\n",
        "    #     print(link.get('href'))\n",
        "\n",
        "# text_p = []\n",
        "# p = soup_maj.find_all('p')\n",
        "# # text_p = [text_p.append(i.getText()) for i in p]\n",
        "# text_p = []\n",
        "# for i in p:\n",
        "#     text_p.append(i.getText())\n",
        "# print(len(text_p))\n",
        "\n",
        "\n",
        "###############################################################################\n",
        "# soup = BeautifulSoup(html)\n",
        "# divTag = soup.find_all(\"div\", {\"class\": \"tablebox\"})\n",
        "\n",
        "# for tag in divTag:\n",
        "#     tdTags = tag.find_all(\"td\", {\"class\": \"align-right\"})\n",
        "#     for tag in tdTags:\n",
        "#         print tag.text"
      ],
      "metadata": {
        "colab": {
          "base_uri": "https://localhost:8080/"
        },
        "id": "aee4e-z2UBkS",
        "outputId": "b35e056a-9933-4c9d-809c-6f29baa21749"
      },
      "execution_count": 43,
      "outputs": [
        {
          "output_type": "stream",
          "name": "stdout",
          "text": [
            "The Fool Reversed:  The Fool Reversed suggests that you have conceived of a new project but aren’t ready to ‘birth’ it into the world just yet. You may worry that you are not fit or that you don’t have all the tools, skills and resources you need to make this project a success. Or perhaps you have a sense that the timing isn’t right. Something is holding you back, and you are preventing yourself from moving forward. You may choose to keep this new opportunity to yourself for now, or you might be ‘parking’ it until a better time.You may fear the unknown, wondering, ‘What am I getting myself into?’ As a result, you have come to a standstill, worried about taking any action where you don’t know the outcome. This often boils down to the need to control everything. Balance this out with knowing that the Universe has your back and you can take this step forward, even if you are unsure of exactly what will happen next.On the flipside, The Fool Reversed can show that you are taking too many risks and acting recklessly. In your attempt to live ‘in the moment’ and be spontaneous and adventurous, you may do so in total disregard of the consequences of your actions and engaging in activities that put both yourself and others at risk. Look at the bigger picture and consider how you can keep the free spirit of The Fool without harming others.In light of the playful and fun energy of The Fool Upright, the reversal suggests you are exploring this spirit on a more personal and quiet level. For example, instead of letting down your hair and dancing up on stage, you are dancing in your bedroom like no-one is watching. Look at how you can bring more play into your daily life, even if you start out by doing it in private.\n"
          ]
        }
      ]
    },
    {
      "cell_type": "code",
      "metadata": {
        "id": "_EfYauniOsNI"
      },
      "source": [
        "# text_p = []\n",
        "# p = soup_maj.find_all(id = [\"upright\", \"reversed\"])\n",
        "# text_p = [text_p.append(i.getText()) for i in p]\n",
        "# for i in p:\n",
        "    # text_p.append(i.getText())"
      ],
      "execution_count": 33,
      "outputs": []
    },
    {
      "cell_type": "code",
      "metadata": {
        "id": "NIULuUJSjOT_"
      },
      "source": [
        "p = soup_maj.find_all(id = [\"upright\", \"reversed\"])"
      ],
      "execution_count": 34,
      "outputs": []
    },
    {
      "cell_type": "code",
      "metadata": {
        "colab": {
          "base_uri": "https://localhost:8080/"
        },
        "id": "l1IsX9Ngi-cx",
        "outputId": "5833e825-05ec-4ecc-ccc8-923eddff79a2"
      },
      "source": [
        "text_p"
      ],
      "execution_count": 35,
      "outputs": [
        {
          "output_type": "execute_result",
          "data": {
            "text/plain": [
              "[]"
            ]
          },
          "metadata": {},
          "execution_count": 35
        }
      ]
    },
    {
      "cell_type": "code",
      "metadata": {
        "id": "j4r_u_Umgl0f",
        "colab": {
          "base_uri": "https://localhost:8080/"
        },
        "outputId": "5551d967-294d-40e9-918f-ff5939cc1acd"
      },
      "source": [
        "text_p = []\n",
        "p = soup_maj.find_all('p')\n",
        "# text_p = [text_p.append(i.getText()) for i in p]\n",
        "text_p = []\n",
        "for i in p:\n",
        "    text_p.append(i.getText())\n",
        "print(len(text_p))"
      ],
      "execution_count": 13,
      "outputs": [
        {
          "output_type": "stream",
          "name": "stdout",
          "text": [
            "57\n"
          ]
        }
      ]
    },
    {
      "cell_type": "code",
      "source": [
        "a = soup.find_all('p')"
      ],
      "metadata": {
        "id": "Xo-oMc4AZ8ZT"
      },
      "execution_count": 46,
      "outputs": []
    },
    {
      "cell_type": "code",
      "metadata": {
        "id": "NPgYFrcEfr5q"
      },
      "source": [
        "# a = soup_maj.find(id=[\"upright\",\"reversed\"])"
      ],
      "execution_count": null,
      "outputs": []
    },
    {
      "cell_type": "code",
      "source": [
        "print(p)"
      ],
      "metadata": {
        "colab": {
          "base_uri": "https://localhost:8080/"
        },
        "id": "Z0T-v8P3ZjUg",
        "outputId": "93948d48-1bf6-4ac9-bf61-3b78221dfec8"
      },
      "execution_count": 50,
      "outputs": [
        {
          "output_type": "stream",
          "name": "stdout",
          "text": [
            "[<p class=\"center bold padbot0 purple\">The Easy Way to Interpret The Cards</p>, <p>The Major Arcana Tarot cards represent the life lessons, karmic influences and the big archetypal themes that are influencing your life and your soul's journey to enlightenment. The Major Arcana card meanings are deep and complex –in beautiful ways! Theses Tarot cards truly represent the structure of human consciousness and hold the keys to life lessons passed down through the ages.</p>, <p>Also known as the Trump Cards, the Major Arcana cards include 21 numbered cards and 1 unnumbered card (the Fool). The Fool is the main character of the Major Arcana and makes his journey through each of the cards, meeting new teachers and learning new life lessons along the way, and eventually reaching the completion of his journey with the World card. This is known as the Fool's Journey and is a helpful way of understanding the story line of the Major Arcana Tarot card meanings.</p>, <p>When you see a Major Arcana card in a Tarot reading, you are being called to reflect on the life lessons and themes that are currently being experienced at this time. A Major Arcana card will often set the scene for the entire Tarot reading, with the other cards relating back to that core Major Arcana meaning.</p>, <p>When a Tarot reading is predominantly made up of Major Arcana cards, you are experiencing life-changing events that will have long-term effects. There are important lessons that you must pay attention to in order to progress further in your spiritual and personal quest.</p>, <p>If many of the Major Arcana Tarot cards are reversed, however, it may be a sign that you are not paying enough attention to these important life lessons and you need to first master the lesson before being able to move forward.</p>, <p style=\"text-align: center;\">Free Training</p>, <p style=\"text-align: center;\">Give Accurate Tarot Readings Every Time</p>, <p style=\"text-align: center;\">A Proven System to Unlock Your Intuition</p>, <p>Beginnings, innocence, spontaneity, a free spirit</p>, <p>Holding back, recklessness, risk-taking</p>, <p>Manifestation, resourcefulness, power, inspired action</p>, <p>Manipulation, poor planning, untapped talents</p>, <p>Intuition, sacred knowledge, divine feminine, the subconscious mind</p>, <p>Secrets, disconnected from intuition, withdrawal and silence</p>, <p>Femininity, beauty, nature, nurturing, abundance</p>, <p>Creative block, dependence on others</p>, <p>Authority, establishment, structure, a father figure</p>, <p>Domination, excessive control, lack of discipline, inflexibility</p>, <p>Spiritual wisdom, religious beliefs, conformity, tradition,institutions</p>, <p>Personal beliefs, freedom, challenging the status quo</p>, <p>Love, harmony, relationships, values alignment, choices</p>, <p>Self-love, disharmony, imbalance, misalignment of values</p>, <p>Control, willpower, success, action, determination</p>, <p>Self-discipline, opposition, lack of direction</p>, <p>Strength, courage, persuasion, influence, compassion</p>, <p>Inner strength, self-doubt, low energy, raw emotion</p>, <p>Soul-searching, introspection, being alone, inner guidance</p>, <p>Isolation, loneliness, withdrawal</p>, <p>Good luck, karma, life cycles, destiny, a turning point</p>, <p>Bad luck, resistance to change, breaking cycles</p>, <p>Justice, fairness, truth, cause and effect, law</p>, <p>Unfairness, lack of accountability, dishonesty</p>, <p>Pause, surrender, letting go, new perspectives</p>, <p>Delays, resistance, stalling, indecision</p>, <p>Endings, change, transformation, transition</p>, <p>Resistance to change, personal transformation, inner purging</p>, <p>Balance, moderation, patience, purpose</p>, <p>Imbalance, excess, self-healing, re-alignment</p>, <p>Shadow self, attachment, addiction, restriction, sexuality</p>, <p>Releasing limiting beliefs, exploring dark thoughts, detachment</p>, <p>Sudden change, upheaval, chaos, revelation, awakening</p>, <p>Personal transformation, fear of change, averting disaster</p>, <p>Hope, faith, purpose, renewal, spirituality</p>, <p>Lack of faith, despair, self-trust, disconnection</p>, <p>Illusion, fear, anxiety, subconscious, intuition</p>, <p>Release of fear, repressed emotion, inner confusion</p>, <p>Positivity, fun, warmth, success, vitality</p>, <p>Inner child, feeling down, overly optimistic</p>, <p>Judgement, rebirth, inner calling, absolution</p>, <p>Self-doubt, inner critic, ignoring the call</p>, <p>Completion, integration, accomplishment, travel</p>, <p>Seeking personal closure, short-cuts, delays</p>, <p><a href=\"https://www.biddytarot.com/privacy-policy/\">Privacy and Terms</a>.  © 2022 Biddy Tarot. All Rights Reserved. All prices in USD. <br/>Tarot card images courtesy of the <a href=\"https://www.everydaytarot.com/#deck\">Everyday Tarot</a>, The Wild Unknown and Lumina Tarot.</p>, <p class=\"center bold white\">Give Accurate Tarot Readings Every Time</p>, <p></p>, <p></p>]\n"
          ]
        }
      ]
    },
    {
      "cell_type": "code",
      "source": [
        "# from BeautifulSoup import BeautifulSoup\n",
        "\n",
        "VALID_TAGS = ['div', 'p']\n",
        "\n",
        "soup_div_p = BeautifulSoup(maj.text,\"lxml\")\n",
        "# soup_maj = BeautifulSoup(maj.text,\"lxml\")\n",
        "for tag in soup_div_p.find_all('div/div/p'):\n",
        "    if tag.name not in VALID_TAGS:\n",
        "        tag.replace_with(tag.renderContents())\n",
        "\n",
        "print(soup_div_p.renderContents())\n",
        "# R"
      ],
      "metadata": {
        "colab": {
          "base_uri": "https://localhost:8080/"
        },
        "id": "SJCMHb6Zc_8c",
        "outputId": "4d2366cc-5c15-433a-deb2-e964fd3b5023"
      },
      "execution_count": 57,
      "outputs": [
        {
          "output_type": "stream",
          "name": "stdout",
          "text": [
            "b'<!DOCTYPE html>\\n<html class=\"no-js\" lang=\"en-US\"><head><meta charset=\"utf-8\"/><meta content=\"width=device-width, initial-scale=1, maximum-scale=1, user-scalable=0\" name=\"viewport\"/><link href=\"https://www.biddytarot.com/wp-content/uploads/BT-BiddyTarotLogo-@2x.png\" rel=\"shortcut icon\"/><meta content=\"index, follow, max-image-preview:large, max-snippet:-1, max-video-preview:-1\" name=\"robots\"/> <script data-cfasync=\"false\" type=\"text/javascript\">var _vwo_clicks = 10;</script>\\n<script data-cfasync=\"false\" type=\"text/javascript\">window._vwo_code = window._vwo_code || (function(){\\n    var account_id= 563498,\\n    settings_tolerance= 2000,\\n    library_tolerance= 2500,\\n    use_existing_jquery= false,\\n    is_spa=1,\\n    hide_element=\\'body\\',\\n    /* DO NOT EDIT BELOW THIS LINE */\\n    f=false,d=document,code={use_existing_jquery:function(){return use_existing_jquery;},library_tolerance:function(){return library_tolerance;},finish:function(){if(!f){f=true;var a=d.getElementById(\\'_vis_opt_path_hides\\');if(a)a.parentNode.removeChild(a);}},finished:function(){return f;},load:function(a){var b=d.createElement(\\'script\\');b.src=a;b.type=\\'text/javascript\\';b.innerText;b.onerror=function(){_vwo_code.finish();};d.getElementsByTagName(\\'head\\')[0].appendChild(b);},init:function(){\\n    window.settings_timer=setTimeout(\\'_vwo_code.finish()\\',settings_tolerance);var a=d.createElement(\\'style\\'),b=hide_element?hide_element+\\'{opacity:0 !important;filter:alpha(opacity=0) !important;background:none !important;}\\':\\'\\',h=d.getElementsByTagName(\\'head\\')[0];a.setAttribute(\\'id\\',\\'_vis_opt_path_hides\\');a.setAttribute(\\'type\\',\\'text/css\\');if(a.styleSheet)a.styleSheet.cssText=b;else a.appendChild(d.createTextNode(b));h.appendChild(a);this.load(\\'https://dev.visualwebsiteoptimizer.com/j.php?a=\\'+account_id+\\'&u=\\'+encodeURIComponent(d.URL)+\\'&f=\\'+(+is_spa)+\\'&r=\\'+Math.random());return settings_timer; }};window._vwo_settings_timer = code.init(); return code; }());</script> <title>Major Arcana Tarot Card Meanings | Biddy Tarot</title><meta content=\"Learn the Major Arcana Tarot card meanings with Biddy Tarot \\xe2\\x80\\x93 the #1 online Tarot resource. Discover what each Tarot card means, upright and reversed.\" name=\"description\"/><link href=\"https://www.biddytarot.com/tarot-card-meanings/major-arcana/\" rel=\"canonical\"/><meta content=\"en_US\" property=\"og:locale\"/><meta content=\"article\" property=\"og:type\"/><meta content=\"Major Arcana Tarot Card Meanings | Biddy Tarot\" property=\"og:title\"/><meta content=\"Learn the Major Arcana Tarot card meanings with Biddy Tarot \\xe2\\x80\\x93 the #1 online Tarot resource. Discover what each Tarot card means, upright and reversed.\" property=\"og:description\"/><meta content=\"https://www.biddytarot.com/tarot-card-meanings/major-arcana/\" property=\"og:url\"/><meta content=\"Biddy Tarot\" property=\"og:site_name\"/><meta content=\"https://www.facebook.com/BiddyTarot/\" property=\"article:publisher\"/><meta content=\"2021-11-29T20:04:53+00:00\" property=\"article:modified_time\"/><meta content=\"https://www.biddytarot.com/wp-content/uploads/2011/12/COTW_Major_Arcana_Judgement.jpg\" property=\"og:image\"/><meta content=\"960\" property=\"og:image:width\"/><meta content=\"961\" property=\"og:image:height\"/><meta content=\"image/jpeg\" property=\"og:image:type\"/><meta content=\"summary_large_image\" name=\"twitter:card\"/><meta content=\"@BiddyTarot\" name=\"twitter:site\"/><meta content=\"Est. reading time\" name=\"twitter:label1\"/><meta content=\"3 minutes\" name=\"twitter:data1\"/> <script class=\"yoast-schema-graph\" type=\"application/ld+json\">{\"@context\":\"https://schema.org\",\"@graph\":[{\"@type\":\"Organization\",\"@id\":\"https://www.biddytarot.com/#organization\",\"name\":\"Biddy Tarot\",\"url\":\"https://www.biddytarot.com/\",\"sameAs\":[\"https://www.facebook.com/BiddyTarot/\",\"https://www.instagram.com/BiddyTarot/\",\"https://www.youtube.com/user/biddytarot\",\"https://www.pinterest.com/BiddyTarot/\",\"https://twitter.com/BiddyTarot\"],\"logo\":{\"@type\":\"ImageObject\",\"@id\":\"https://www.biddytarot.com/#logo\",\"inLanguage\":\"en-US\",\"url\":\"https://www.biddytarot.com/wp-content/uploads/2018/01/logo-main.png\",\"contentUrl\":\"https://www.biddytarot.com/wp-content/uploads/2018/01/logo-main.png\",\"width\":700,\"height\":160,\"caption\":\"Biddy Tarot\"},\"image\":{\"@id\":\"https://www.biddytarot.com/#logo\"}},{\"@type\":\"WebSite\",\"@id\":\"https://www.biddytarot.com/#website\",\"url\":\"https://www.biddytarot.com/\",\"name\":\"Biddy Tarot\",\"description\":\"Learn to read Tarot from the heart, not the book\",\"publisher\":{\"@id\":\"https://www.biddytarot.com/#organization\"},\"potentialAction\":[{\"@type\":\"SearchAction\",\"target\":{\"@type\":\"EntryPoint\",\"urlTemplate\":\"https://www.biddytarot.com/?s={search_term_string}\"},\"query-input\":\"required name=search_term_string\"}],\"inLanguage\":\"en-US\"},{\"@type\":\"ImageObject\",\"@id\":\"https://www.biddytarot.com/tarot-card-meanings/major-arcana/#primaryimage\",\"inLanguage\":\"en-US\",\"url\":\"https://www.biddytarot.com/wp-content/uploads/2011/12/COTW_Major_Arcana_Judgement.jpg\",\"contentUrl\":\"https://www.biddytarot.com/wp-content/uploads/2011/12/COTW_Major_Arcana_Judgement.jpg\",\"width\":960,\"height\":961},{\"@type\":\"WebPage\",\"@id\":\"https://www.biddytarot.com/tarot-card-meanings/major-arcana/#webpage\",\"url\":\"https://www.biddytarot.com/tarot-card-meanings/major-arcana/\",\"name\":\"Major Arcana Tarot Card Meanings | Biddy Tarot\",\"isPartOf\":{\"@id\":\"https://www.biddytarot.com/#website\"},\"datePublished\":\"2011-12-15T21:26:01+00:00\",\"dateModified\":\"2021-11-29T20:04:53+00:00\",\"description\":\"Learn the Major Arcana Tarot card meanings with Biddy Tarot \\xe2\\x80\\x93 the #1 online Tarot resource. Discover what each Tarot card means, upright and reversed.\",\"breadcrumb\":{\"@id\":\"https://www.biddytarot.com/tarot-card-meanings/major-arcana/#breadcrumb\"},\"inLanguage\":\"en-US\",\"potentialAction\":[{\"@type\":\"ReadAction\",\"target\":[\"https://www.biddytarot.com/tarot-card-meanings/major-arcana/\"]}]},{\"@type\":\"BreadcrumbList\",\"@id\":\"https://www.biddytarot.com/tarot-card-meanings/major-arcana/#breadcrumb\",\"itemListElement\":[{\"@type\":\"ListItem\",\"position\":1,\"name\":\"Home\",\"item\":\"https://www.biddytarot.com/\"},{\"@type\":\"ListItem\",\"position\":2,\"name\":\"Tarot Card Meanings\",\"item\":\"https://www.biddytarot.com/tarot-card-meanings/\"},{\"@type\":\"ListItem\",\"position\":3,\"name\":\"Major Arcana Tarot Card Meanings\"}]}]}</script> <link href=\"//stackpath.bootstrapcdn.com\" rel=\"dns-prefetch\"/><link href=\"//fonts.googleapis.com\" rel=\"dns-prefetch\"/><link href=\"//s.w.org\" rel=\"dns-prefetch\"/><link href=\"https://www.biddytarot.com/feed/\" rel=\"alternate\" title=\"Biddy Tarot \\xc2\\xbb Feed\" type=\"application/rss+xml\"/><link href=\"https://www.biddytarot.com/comments/feed/\" rel=\"alternate\" title=\"Biddy Tarot \\xc2\\xbb Comments Feed\" type=\"application/rss+xml\"/><link as=\"font\" crossorigin=\"anonymous\" href=\"https://www.biddytarot.com/wp-content/themes/salient/css/fonts/icomoon.woff?v=1.2\" rel=\"preload\" type=\"font/woff\"/><script type=\"text/javascript\">window._wpemojiSettings = {\"baseUrl\":\"https:\\\\/\\\\/s.w.org\\\\/images\\\\/core\\\\/emoji\\\\/13.1.0\\\\/72x72\\\\/\",\"ext\":\".png\",\"svgUrl\":\"https:\\\\/\\\\/s.w.org\\\\/images\\\\/core\\\\/emoji\\\\/13.1.0\\\\/svg\\\\/\",\"svgExt\":\".svg\",\"source\":{\"concatemoji\":\"https:\\\\/\\\\/www.biddytarot.com\\\\/wp-includes\\\\/js\\\\/wp-emoji-release.min.js?ver=5.9\"}};\\n/*! This file is auto-generated */\\n!function(e,a,t){var n,r,o,i=a.createElement(\"canvas\"),p=i.getContext&&i.getContext(\"2d\");function s(e,t){var a=String.fromCharCode;p.clearRect(0,0,i.width,i.height),p.fillText(a.apply(this,e),0,0);e=i.toDataURL();return p.clearRect(0,0,i.width,i.height),p.fillText(a.apply(this,t),0,0),e===i.toDataURL()}function c(e){var t=a.createElement(\"script\");t.src=e,t.defer=t.type=\"text/javascript\",a.getElementsByTagName(\"head\")[0].appendChild(t)}for(o=Array(\"flag\",\"emoji\"),t.supports={everything:!0,everythingExceptFlag:!0},r=0;r<o.length;r++)t.supports[o[r]]=function(e){if(!p||!p.fillText)return!1;switch(p.textBaseline=\"top\",p.font=\"600 32px Arial\",e){case\"flag\":return s([127987,65039,8205,9895,65039],[127987,65039,8203,9895,65039])?!1:!s([55356,56826,55356,56819],[55356,56826,8203,55356,56819])&&!s([55356,57332,56128,56423,56128,56418,56128,56421,56128,56430,56128,56423,56128,56447],[55356,57332,8203,56128,56423,8203,56128,56418,8203,56128,56421,8203,56128,56430,8203,56128,56423,8203,56128,56447]);case\"emoji\":return!s([10084,65039,8205,55357,56613],[10084,65039,8203,55357,56613])}return!1}(o[r]),t.supports.everything=t.supports.everything&&t.supports[o[r]],\"flag\"!==o[r]&&(t.supports.everythingExceptFlag=t.supports.everythingExceptFlag&&t.supports[o[r]]);t.supports.everythingExceptFlag=t.supports.everythingExceptFlag&&!t.supports.flag,t.DOMReady=!1,t.readyCallback=function(){t.DOMReady=!0},t.supports.everything||(n=function(){t.readyCallback()},a.addEventListener?(a.addEventListener(\"DOMContentLoaded\",n,!1),e.addEventListener(\"load\",n,!1)):(e.attachEvent(\"onload\",n),a.attachEvent(\"onreadystatechange\",function(){\"complete\"===a.readyState&&t.readyCallback()})),(n=t.source||{}).concatemoji?c(n.concatemoji):n.wpemoji&&n.twemoji&&(c(n.twemoji),c(n.wpemoji)))}(window,document,window._wpemojiSettings);</script> <script id=\"biddy-ready\">window.advanced_ads_ready=function(e,a){a=a||\"complete\";var d=function(e){return\"interactive\"===a?\"loading\"!==e:\"complete\"===e};d(document.readyState)?e():document.addEventListener(\"readystatechange\",(function(a){d(a.target.readyState)&&e()}),{once:\"interactive\"===a})},window.advanced_ads_ready_queue=window.advanced_ads_ready_queue||[];</script> <style type=\"text/css\">img.wp-smiley,\\nimg.emoji {\\n\\tdisplay: inline !important;\\n\\tborder: none !important;\\n\\tbox-shadow: none !important;\\n\\theight: 1em !important;\\n\\twidth: 1em !important;\\n\\tmargin: 0 0.07em !important;\\n\\tvertical-align: -0.1em !important;\\n\\tbackground: none !important;\\n\\tpadding: 0 !important;\\n}</style><link href=\"https://stackpath.bootstrapcdn.com/font-awesome/4.7.0/css/font-awesome.min.css?ver=5.9\" id=\"fa-cdn-css\" media=\"all\" rel=\"stylesheet\" type=\"text/css\"/><link href=\"https://www.biddytarot.com/wp-content/themes/bt_18/css/BiddyTarotIcons/css/biddy.css?ver=1.5.3.4.0\" id=\"biddy-icons-css\" media=\"all\" rel=\"stylesheet\" type=\"text/css\"/><link href=\"https://www.biddytarot.com/wp-content/themes/bt_18/css/early.css?ver=1.5.3.4.0\" id=\"early-css\" media=\"all\" rel=\"stylesheet\" type=\"text/css\"/><link href=\"https://www.biddytarot.com/wp-includes/css/dist/block-library/style.min.css?ver=5.9\" id=\"wp-block-library-css\" media=\"all\" rel=\"stylesheet\" type=\"text/css\"/><style id=\"global-styles-inline-css\" type=\"text/css\">body{--wp--preset--color--black: #000000;--wp--preset--color--cyan-bluish-gray: #abb8c3;--wp--preset--color--white: #ffffff;--wp--preset--color--pale-pink: #f78da7;--wp--preset--color--vivid-red: #cf2e2e;--wp--preset--color--luminous-vivid-orange: #ff6900;--wp--preset--color--luminous-vivid-amber: #fcb900;--wp--preset--color--light-green-cyan: #7bdcb5;--wp--preset--color--vivid-green-cyan: #00d084;--wp--preset--color--pale-cyan-blue: #8ed1fc;--wp--preset--color--vivid-cyan-blue: #0693e3;--wp--preset--color--vivid-purple: #9b51e0;--wp--preset--gradient--vivid-cyan-blue-to-vivid-purple: linear-gradient(135deg,rgba(6,147,227,1) 0%,rgb(155,81,224) 100%);--wp--preset--gradient--light-green-cyan-to-vivid-green-cyan: linear-gradient(135deg,rgb(122,220,180) 0%,rgb(0,208,130) 100%);--wp--preset--gradient--luminous-vivid-amber-to-luminous-vivid-orange: linear-gradient(135deg,rgba(252,185,0,1) 0%,rgba(255,105,0,1) 100%);--wp--preset--gradient--luminous-vivid-orange-to-vivid-red: linear-gradient(135deg,rgba(255,105,0,1) 0%,rgb(207,46,46) 100%);--wp--preset--gradient--very-light-gray-to-cyan-bluish-gray: linear-gradient(135deg,rgb(238,238,238) 0%,rgb(169,184,195) 100%);--wp--preset--gradient--cool-to-warm-spectrum: linear-gradient(135deg,rgb(74,234,220) 0%,rgb(151,120,209) 20%,rgb(207,42,186) 40%,rgb(238,44,130) 60%,rgb(251,105,98) 80%,rgb(254,248,76) 100%);--wp--preset--gradient--blush-light-purple: linear-gradient(135deg,rgb(255,206,236) 0%,rgb(152,150,240) 100%);--wp--preset--gradient--blush-bordeaux: linear-gradient(135deg,rgb(254,205,165) 0%,rgb(254,45,45) 50%,rgb(107,0,62) 100%);--wp--preset--gradient--luminous-dusk: linear-gradient(135deg,rgb(255,203,112) 0%,rgb(199,81,192) 50%,rgb(65,88,208) 100%);--wp--preset--gradient--pale-ocean: linear-gradient(135deg,rgb(255,245,203) 0%,rgb(182,227,212) 50%,rgb(51,167,181) 100%);--wp--preset--gradient--electric-grass: linear-gradient(135deg,rgb(202,248,128) 0%,rgb(113,206,126) 100%);--wp--preset--gradient--midnight: linear-gradient(135deg,rgb(2,3,129) 0%,rgb(40,116,252) 100%);--wp--preset--duotone--dark-grayscale: url(\\'#wp-duotone-dark-grayscale\\');--wp--preset--duotone--grayscale: url(\\'#wp-duotone-grayscale\\');--wp--preset--duotone--purple-yellow: url(\\'#wp-duotone-purple-yellow\\');--wp--preset--duotone--blue-red: url(\\'#wp-duotone-blue-red\\');--wp--preset--duotone--midnight: url(\\'#wp-duotone-midnight\\');--wp--preset--duotone--magenta-yellow: url(\\'#wp-duotone-magenta-yellow\\');--wp--preset--duotone--purple-green: url(\\'#wp-duotone-purple-green\\');--wp--preset--duotone--blue-orange: url(\\'#wp-duotone-blue-orange\\');--wp--preset--font-size--small: 13px;--wp--preset--font-size--medium: 20px;--wp--preset--font-size--large: 36px;--wp--preset--font-size--x-large: 42px;}.has-black-color{color: var(--wp--preset--color--black) !important;}.has-cyan-bluish-gray-color{color: var(--wp--preset--color--cyan-bluish-gray) !important;}.has-white-color{color: var(--wp--preset--color--white) !important;}.has-pale-pink-color{color: var(--wp--preset--color--pale-pink) !important;}.has-vivid-red-color{color: var(--wp--preset--color--vivid-red) !important;}.has-luminous-vivid-orange-color{color: var(--wp--preset--color--luminous-vivid-orange) !important;}.has-luminous-vivid-amber-color{color: var(--wp--preset--color--luminous-vivid-amber) !important;}.has-light-green-cyan-color{color: var(--wp--preset--color--light-green-cyan) !important;}.has-vivid-green-cyan-color{color: var(--wp--preset--color--vivid-green-cyan) !important;}.has-pale-cyan-blue-color{color: var(--wp--preset--color--pale-cyan-blue) !important;}.has-vivid-cyan-blue-color{color: var(--wp--preset--color--vivid-cyan-blue) !important;}.has-vivid-purple-color{color: var(--wp--preset--color--vivid-purple) !important;}.has-black-background-color{background-color: var(--wp--preset--color--black) !important;}.has-cyan-bluish-gray-background-color{background-color: var(--wp--preset--color--cyan-bluish-gray) !important;}.has-white-background-color{background-color: var(--wp--preset--color--white) !important;}.has-pale-pink-background-color{background-color: var(--wp--preset--color--pale-pink) !important;}.has-vivid-red-background-color{background-color: var(--wp--preset--color--vivid-red) !important;}.has-luminous-vivid-orange-background-color{background-color: var(--wp--preset--color--luminous-vivid-orange) !important;}.has-luminous-vivid-amber-background-color{background-color: var(--wp--preset--color--luminous-vivid-amber) !important;}.has-light-green-cyan-background-color{background-color: var(--wp--preset--color--light-green-cyan) !important;}.has-vivid-green-cyan-background-color{background-color: var(--wp--preset--color--vivid-green-cyan) !important;}.has-pale-cyan-blue-background-color{background-color: var(--wp--preset--color--pale-cyan-blue) !important;}.has-vivid-cyan-blue-background-color{background-color: var(--wp--preset--color--vivid-cyan-blue) !important;}.has-vivid-purple-background-color{background-color: var(--wp--preset--color--vivid-purple) !important;}.has-black-border-color{border-color: var(--wp--preset--color--black) !important;}.has-cyan-bluish-gray-border-color{border-color: var(--wp--preset--color--cyan-bluish-gray) !important;}.has-white-border-color{border-color: var(--wp--preset--color--white) !important;}.has-pale-pink-border-color{border-color: var(--wp--preset--color--pale-pink) !important;}.has-vivid-red-border-color{border-color: var(--wp--preset--color--vivid-red) !important;}.has-luminous-vivid-orange-border-color{border-color: var(--wp--preset--color--luminous-vivid-orange) !important;}.has-luminous-vivid-amber-border-color{border-color: var(--wp--preset--color--luminous-vivid-amber) !important;}.has-light-green-cyan-border-color{border-color: var(--wp--preset--color--light-green-cyan) !important;}.has-vivid-green-cyan-border-color{border-color: var(--wp--preset--color--vivid-green-cyan) !important;}.has-pale-cyan-blue-border-color{border-color: var(--wp--preset--color--pale-cyan-blue) !important;}.has-vivid-cyan-blue-border-color{border-color: var(--wp--preset--color--vivid-cyan-blue) !important;}.has-vivid-purple-border-color{border-color: var(--wp--preset--color--vivid-purple) !important;}.has-vivid-cyan-blue-to-vivid-purple-gradient-background{background: var(--wp--preset--gradient--vivid-cyan-blue-to-vivid-purple) !important;}.has-light-green-cyan-to-vivid-green-cyan-gradient-background{background: var(--wp--preset--gradient--light-green-cyan-to-vivid-green-cyan) !important;}.has-luminous-vivid-amber-to-luminous-vivid-orange-gradient-background{background: var(--wp--preset--gradient--luminous-vivid-amber-to-luminous-vivid-orange) !important;}.has-luminous-vivid-orange-to-vivid-red-gradient-background{background: var(--wp--preset--gradient--luminous-vivid-orange-to-vivid-red) !important;}.has-very-light-gray-to-cyan-bluish-gray-gradient-background{background: var(--wp--preset--gradient--very-light-gray-to-cyan-bluish-gray) !important;}.has-cool-to-warm-spectrum-gradient-background{background: var(--wp--preset--gradient--cool-to-warm-spectrum) !important;}.has-blush-light-purple-gradient-background{background: var(--wp--preset--gradient--blush-light-purple) !important;}.has-blush-bordeaux-gradient-background{background: var(--wp--preset--gradient--blush-bordeaux) !important;}.has-luminous-dusk-gradient-background{background: var(--wp--preset--gradient--luminous-dusk) !important;}.has-pale-ocean-gradient-background{background: var(--wp--preset--gradient--pale-ocean) !important;}.has-electric-grass-gradient-background{background: var(--wp--preset--gradient--electric-grass) !important;}.has-midnight-gradient-background{background: var(--wp--preset--gradient--midnight) !important;}.has-small-font-size{font-size: var(--wp--preset--font-size--small) !important;}.has-medium-font-size{font-size: var(--wp--preset--font-size--medium) !important;}.has-large-font-size{font-size: var(--wp--preset--font-size--large) !important;}.has-x-large-font-size{font-size: var(--wp--preset--font-size--x-large) !important;}</style><link href=\"https://fonts.googleapis.com/css?family=Montserrat:300,500,600,700,800\" id=\"g_bt-fonts-css\" media=\"all\" rel=\"stylesheet\" type=\"text/css\"/><link href=\"https://www.biddytarot.com/wp-content/themes/bt_18/css/bt_16-styles.css?ver=1.5.3.4.0\" id=\"legacy-css\" media=\"all\" rel=\"stylesheet\" type=\"text/css\"/><link href=\"https://www.biddytarot.com/wp-content/themes/salient/css/build/grid-system.css?ver=14.0.3\" id=\"salient-grid-system-css\" media=\"all\" rel=\"stylesheet\" type=\"text/css\"/><link href=\"https://www.biddytarot.com/wp-content/themes/salient/css/build/style.css?ver=14.0.3\" id=\"main-styles-css\" media=\"all\" rel=\"stylesheet\" type=\"text/css\"/><style id=\"main-styles-inline-css\" type=\"text/css\">html body[data-header-resize=\"1\"] .container-wrap, html body[data-header-format=\"left-header\"][data-header-resize=\"0\"] .container-wrap, html body[data-header-resize=\"0\"] .container-wrap, body[data-header-format=\"left-header\"][data-header-resize=\"0\"] .container-wrap { padding-top: 0; } .main-content > .row > #breadcrumbs.yoast { padding: 20px 0; }</style><link href=\"https://www.biddytarot.com/wp-content/themes/salient/css/build/header/header-secondary-nav.css?ver=14.0.3\" id=\"nectar-header-secondary-nav-css\" media=\"all\" rel=\"stylesheet\" type=\"text/css\"/><link href=\"https://www.biddytarot.com/wp-content/themes/salient/css/build/responsive.css?ver=14.0.3\" id=\"responsive-css\" media=\"all\" rel=\"stylesheet\" type=\"text/css\"/><link href=\"https://www.biddytarot.com/wp-content/themes/salient/css/build/plugins/select2.css?ver=4.0.1\" id=\"select2-css\" media=\"all\" rel=\"stylesheet\" type=\"text/css\"/><link href=\"https://www.biddytarot.com/wp-content/themes/salient/css/build/skin-material.css?ver=14.0.3\" id=\"skin-material-css\" media=\"all\" rel=\"stylesheet\" type=\"text/css\"/><link href=\"https://www.biddytarot.com/wp-content/uploads/salient/menu-dynamic.css?ver=4937\" id=\"salient-wp-menu-dynamic-css\" media=\"all\" rel=\"stylesheet\" type=\"text/css\"/><link href=\"https://www.biddytarot.com/wp-content/plugins/js_composer_salient/assets/css/js_composer.min.css?ver=6.7\" id=\"js_composer_front-css\" media=\"all\" rel=\"stylesheet\" type=\"text/css\"/><link href=\"//www.biddytarot.com/wp-content/uploads/pum/pum-site-styles.css?generated=1643492273&amp;ver=1.16.4\" id=\"popup-maker-site-css\" media=\"all\" rel=\"stylesheet\" type=\"text/css\"/><link href=\"https://www.biddytarot.com/wp-content/plugins/salient-core/css/fallback/portfolio.css?ver=1.9.2\" id=\"nectar-portfolio-css\" media=\"all\" rel=\"stylesheet\" type=\"text/css\"/><link href=\"https://www.biddytarot.com/wp-content/themes/bt_18/css/styleguide.css?ver=1.5.3.4.0\" id=\"styleguide-css\" media=\"all\" rel=\"stylesheet\" type=\"text/css\"/><link href=\"https://www.biddytarot.com/wp-content/themes/salient/css/salient-dynamic-styles.css?ver=24861\" id=\"dynamic-css-css\" media=\"all\" rel=\"stylesheet\" type=\"text/css\"/><style id=\"dynamic-css-inline-css\" type=\"text/css\">@media only screen and (min-width:1000px){body #ajax-content-wrap.no-scroll{min-height:calc(100vh - 142px);height:calc(100vh - 142px)!important;}}@media only screen and (min-width:1000px){#page-header-wrap.fullscreen-header,#page-header-wrap.fullscreen-header #page-header-bg,html:not(.nectar-box-roll-loaded) .nectar-box-roll > #page-header-bg.fullscreen-header,.nectar_fullscreen_zoom_recent_projects,#nectar_fullscreen_rows:not(.afterLoaded) > div{height:calc(100vh - 141px);}.wpb_row.vc_row-o-full-height.top-level,.wpb_row.vc_row-o-full-height.top-level > .col.span_12{min-height:calc(100vh - 141px);}html:not(.nectar-box-roll-loaded) .nectar-box-roll > #page-header-bg.fullscreen-header{top:142px;}.nectar-slider-wrap[data-fullscreen=\"true\"]:not(.loaded),.nectar-slider-wrap[data-fullscreen=\"true\"]:not(.loaded) .swiper-container{height:calc(100vh - 140px)!important;}.admin-bar .nectar-slider-wrap[data-fullscreen=\"true\"]:not(.loaded),.admin-bar .nectar-slider-wrap[data-fullscreen=\"true\"]:not(.loaded) .swiper-container{height:calc(100vh - 140px - 32px)!important;}}@media only screen and (max-width:999px){.using-mobile-browser #nectar_fullscreen_rows:not(.afterLoaded):not([data-mobile-disable=\"on\"]) > div{height:calc(100vh - 136px);}.using-mobile-browser .wpb_row.vc_row-o-full-height.top-level,.using-mobile-browser .wpb_row.vc_row-o-full-height.top-level > .col.span_12,[data-permanent-transparent=\"1\"].using-mobile-browser .wpb_row.vc_row-o-full-height.top-level,[data-permanent-transparent=\"1\"].using-mobile-browser .wpb_row.vc_row-o-full-height.top-level > .col.span_12{min-height:calc(100vh - 136px);}html:not(.nectar-box-roll-loaded) .nectar-box-roll > #page-header-bg.fullscreen-header,.nectar_fullscreen_zoom_recent_projects,.nectar-slider-wrap[data-fullscreen=\"true\"]:not(.loaded),.nectar-slider-wrap[data-fullscreen=\"true\"]:not(.loaded) .swiper-container,#nectar_fullscreen_rows:not(.afterLoaded):not([data-mobile-disable=\"on\"]) > div{height:calc(100vh - 83px);}.wpb_row.vc_row-o-full-height.top-level,.wpb_row.vc_row-o-full-height.top-level > .col.span_12{min-height:calc(100vh - 83px);}body[data-transparent-header=\"false\"] #ajax-content-wrap.no-scroll{min-height:calc(100vh - 83px);height:calc(100vh - 83px);}}body #ajax-content-wrap .col[data-padding-pos=\"left\"] > .vc_column-inner,#ajax-content-wrap .col[data-padding-pos=\"left\"] > .n-sticky > .vc_column-inner{padding-right:0;padding-top:0;padding-bottom:0}.img-with-aniamtion-wrap[data-border-radius=\"none\"] .img-with-animation,.img-with-aniamtion-wrap[data-border-radius=\"none\"] .hover-wrap{border-radius:none;}.screen-reader-text,.nectar-skip-to-content:not(:focus){border:0;clip:rect(1px,1px,1px,1px);clip-path:inset(50%);height:1px;margin:-1px;overflow:hidden;padding:0;position:absolute!important;width:1px;word-wrap:normal!important;}\\n#spp-box-below-video {\\n    display: none!important;\\n}</style><link href=\"https://www.biddytarot.com/wp-content/themes/bt_18/style.css?ver=14.0.3\" id=\"salient-child-style-css\" media=\"all\" rel=\"stylesheet\" type=\"text/css\"/> <script id=\"jquery-core-js\" src=\"https://www.biddytarot.com/wp-includes/js/jquery/jquery.min.js?ver=3.6.0\" type=\"text/javascript\"></script> <script id=\"jquery-migrate-js\" src=\"https://www.biddytarot.com/wp-includes/js/jquery/jquery-migrate.min.js?ver=3.3.2\" type=\"text/javascript\"></script> <script id=\"itro-scripts-js\" src=\"https://www.biddytarot.com/wp-content/plugins/itro-popup/scripts/itro-scripts.js?ver=5.9\" type=\"text/javascript\"></script> <script id=\"advanced-ads-advanced-js-js-extra\" type=\"text/javascript\">/*  */\\nvar advads_options = {\"blog_id\":\"1\",\"privacy\":{\"enabled\":false,\"state\":\"not_needed\"}};\\n/*  */</script> <script id=\"advanced-ads-advanced-js-js\" src=\"https://www.biddytarot.com/wp-content/plugins/advanced-ads/public/assets/js/advanced.min.js?ver=1.31.0\" type=\"text/javascript\"></script> <script id=\"advanced_ads_pro/visitor_conditions-js-extra\" type=\"text/javascript\">/*  */\\nvar advanced_ads_pro_visitor_conditions = {\"referrer_cookie_name\":\"advanced_ads_pro_visitor_referrer\",\"referrer_exdays\":\"365\",\"page_impr_cookie_name\":\"advanced_ads_page_impressions\",\"page_impr_exdays\":\"3650\"};\\n/*  */</script> <script id=\"advanced_ads_pro/visitor_conditions-js\" src=\"https://www.biddytarot.com/wp-content/plugins/advanced-ads-pro/modules/advanced-visitor-conditions/inc/conditions.min.js?ver=2.15.0\" type=\"text/javascript\"></script> <link href=\"https://www.biddytarot.com/wp-json/\" rel=\"https://api.w.org/\"/><link href=\"https://www.biddytarot.com/wp-json/wp/v2/pages/2278\" rel=\"alternate\" type=\"application/json\"/><link href=\"https://www.biddytarot.com/xmlrpc.php?rsd\" rel=\"EditURI\" title=\"RSD\" type=\"application/rsd+xml\"/><link href=\"https://www.biddytarot.com/wp-includes/wlwmanifest.xml\" rel=\"wlwmanifest\" type=\"application/wlwmanifest+xml\"/><meta content=\"WordPress 5.9\" name=\"generator\"/><link href=\"https://www.biddytarot.com/?p=2278\" rel=\"shortlink\"/><link href=\"https://www.biddytarot.com/wp-json/oembed/1.0/embed?url=https%3A%2F%2Fwww.biddytarot.com%2Ftarot-card-meanings%2Fmajor-arcana%2F\" rel=\"alternate\" type=\"application/json+oembed\"/><link href=\"https://www.biddytarot.com/wp-json/oembed/1.0/embed?url=https%3A%2F%2Fwww.biddytarot.com%2Ftarot-card-meanings%2Fmajor-arcana%2F&amp;format=xml\" rel=\"alternate\" type=\"text/xml+oembed\"/> <script type=\"text/javascript\">var advadsCfpQueue = [];\\n\\t\\tvar advadsCfpAd = function( adID ){\\n\\t\\t\\tif ( \\'undefined\\' == typeof advadsProCfp ) { advadsCfpQueue.push( adID ) } else { advadsProCfp.addElement( adID ) }\\n\\t\\t};</script> <script type=\"text/javascript\">var root = document.getElementsByTagName( \"html\" )[0]; root.setAttribute( \"class\", \"js\" );</script> <style>.async-hide { opacity: 0 !important}</style> <script>(function(a,s,y,n,c,h,i,d,e){s.className+=\\' \\'+y;h.start=1*new Date;\\n\\th.end=i=function(){s.className=s.className.replace(RegExp(\\' ?\\'+y),\\'\\')};\\n\\t(a[n]=a[n]||[]).hide=h;setTimeout(function(){i();h.end=null},c);h.timeout=c;\\n\\t})(window,document.documentElement,\\'async-hide\\',\\'dataLayer\\',4000,\\n\\t{\\'GTM-PDXKHNW\\':true});</script> <script>(function(i,s,o,g,r,a,m){i[\\'GoogleAnalyticsObject\\']=r;i[r]=i[r]||function(){\\n\\t  (i[r].q=i[r].q||[]).push(arguments)},i[r].l=1*new Date();a=s.createElement(o),\\n\\t  m=s.getElementsByTagName(o)[0];a.async=1;a.src=g;m.parentNode.insertBefore(a,m)\\n\\t  })(window,document,\\'script\\',\\'https://www.google-analytics.com/analytics.js\\',\\'ga\\');\\n\\n\\t  ga(\\'create\\', \\'UA-12507634-1\\', \\'auto\\');\\n\\t  ga(\\'require\\', \\'GTM-PDXKHNW\\');\\n\\t  ga(\\'send\\', \\'pageview\\');</script> <script>(function(w,d,s,l,i){w[l]=w[l]||[];w[l].push({\\'gtm.start\\':\\n\\tnew Date().getTime(),event:\\'gtm.js\\'});var f=d.getElementsByTagName(s)[0],\\n\\tj=d.createElement(s),dl=l!=\\'dataLayer\\'?\\'&l=\\'+l:\\'\\';j.async=true;j.src=\\n\\t\\'https://www.googletagmanager.com/gtm.js?id=\\'+i+dl;f.parentNode.insertBefore(j,f);\\n\\t})(window,document,\\'script\\',\\'dataLayer\\',\\'GTM-MSM6DH2\\');</script> <script src=\"https://www.googleoptimize.com/optimize.js?id=GTM-PDXKHNW\"></script> <meta content=\"Powered by WPBakery Page Builder - drag and drop page builder for WordPress.\" name=\"generator\"/> <script type=\"text/javascript\">if ( typeof advadsGATracking === \\'undefined\\' ) {\\n\\t\\t\\t\\twindow.advadsGATracking = {\\n\\t\\t\\t\\t\\tdelayedAds: {},\\n\\t\\t\\t\\t\\tdeferedAds: {}\\n\\t\\t\\t\\t};\\n\\t\\t\\t}</script> <link href=\"https://www.biddytarot.com/wp-content/uploads/2015/11/cropped-icon-teal-copy-1-250x250.png\" rel=\"icon\" sizes=\"32x32\"/><link href=\"https://www.biddytarot.com/wp-content/uploads/2015/11/cropped-icon-teal-copy-1-250x250.png\" rel=\"icon\" sizes=\"192x192\"/><link href=\"https://www.biddytarot.com/wp-content/uploads/2015/11/cropped-icon-teal-copy-1-250x250.png\" rel=\"apple-touch-icon\"/><meta content=\"https://www.biddytarot.com/wp-content/uploads/2015/11/cropped-icon-teal-copy-1-480x480.png\" name=\"msapplication-TileImage\"/> <noscript><style>.wpb_animate_when_almost_visible { opacity: 1; }</style></noscript></head><body class=\"page-template-default page page-id-2278 page-parent page-child parent-pageid-2271 material wpb-js-composer js-comp-ver-6.7 vc_responsive\" data-aie=\"none\" data-ajax-transitions=\"false\" data-animated-anchors=\"true\" data-apte=\"standard\" data-bg-header=\"true\" data-body-border=\"off\" data-boxed-style=\"\" data-button-style=\"default\" data-cad=\"650\" data-cae=\"linear\" data-cart=\"false\" data-col-gap=\"default\" data-dropdown-style=\"minimal\" data-ext-padding=\"90\" data-ext-responsive=\"true\" data-fancy-form-rcs=\"1\" data-flex-cols=\"true\" data-footer-reveal=\"false\" data-footer-reveal-shadow=\"none\" data-force-header-trans-color=\"light\" data-form-style=\"default\" data-form-submit=\"regular\" data-full-width-header=\"true\" data-header-breakpoint=\"1320\" data-header-color=\"custom\" data-header-format=\"default\" data-header-inherit-rc=\"false\" data-header-resize=\"0\" data-header-search=\"true\" data-hhun=\"0\" data-is=\"minimal\" data-loading-animation=\"spin\" data-ls=\"fancybox\" data-m-animate=\"0\" data-megamenu-width=\"contained\" data-permanent-transparent=\"false\" data-remove-m-parallax=\"\" data-remove-m-video-bgs=\"\" data-responsive=\"1\" data-slide-out-widget-area=\"true\" data-slide-out-widget-area-style=\"slide-out-from-right\" data-smooth-scrolling=\"0\" data-transparent-header=\"false\" data-user-account-button=\"false\" data-user-set-ocm=\"off\"> <script type=\"text/javascript\">(function(window, document) {\\n\\n\\t\\t if(navigator.userAgent.match(/(Android|iPod|iPhone|iPad|BlackBerry|IEMobile|Opera Mini)/)) {\\n\\t\\t\\t document.body.className += \" using-mobile-browser mobile \";\\n\\t\\t }\\n\\n\\t\\t if( !(\"ontouchstart\" in window) ) {\\n\\n\\t\\t\\t var body = document.querySelector(\"body\");\\n\\t\\t\\t var winW = window.innerWidth;\\n\\t\\t\\t var bodyW = body.clientWidth;\\n\\n\\t\\t\\t if (winW > bodyW + 4) {\\n\\t\\t\\t\\t body.setAttribute(\"style\", \"--scroll-bar-w: \" + (winW - bodyW - 4) + \"px\");\\n\\t\\t\\t } else {\\n\\t\\t\\t\\t body.setAttribute(\"style\", \"--scroll-bar-w: 0px\");\\n\\t\\t\\t }\\n\\t\\t }\\n\\n\\t })(window, document);</script><a class=\"nectar-skip-to-content\" href=\"#ajax-content-wrap\">Skip to main content</a> <noscript><iframe height=\"0\" src=\"https://www.googletagmanager.com/ns.html?id=GTM-MSM6DH2\" style=\"display:none;visibility:hidden\" width=\"0\"></iframe></noscript><div class=\"ocm-effect-wrap\"><div class=\"ocm-effect-wrap-inner\"><div data-header-mobile-fixed=\"1\" data-secondary-header-display=\"full\" id=\"header-space\"></div><div data-box-shadow=\"small\" data-cart=\"false\" data-condense=\"false\" data-format=\"default\" data-full-width=\"true\" data-has-buttons=\"yes\" data-has-menu=\"true\" data-header-button_style=\"default\" data-header-resize=\"0\" data-lhe=\"default\" data-logo-height=\"60\" data-m-logo-height=\"60\" data-megamenu-rt=\"0\" data-mobile-fixed=\"1\" data-padding=\"20\" data-permanent-transparent=\"false\" data-ptnm=\"false\" data-remove-fixed=\"0\" data-shrink-num=\"40\" data-transparency-option=\"0\" data-user-set-bg=\"#ffffff\" data-using-logo=\"1\" data-using-pr-menu=\"false\" data-using-secondary=\"1\" id=\"header-outer\"><div class=\"biddy-target\" data-advadstrackbid=\"1\" data-advadstrackid=\"69240\" id=\"biddy-1129566949\"><div class=\"68849 opt-border-none\" id=\"bt-optin-bar\" style=\"\\nbackground-image: url(\\'https://www.biddytarot.com/wp-content/uploads/2021/09/TopBar01.jpg\\');\\n\"><div class=\"optin-bar-col col-4\"><h2 class=\"center bold darkgreen\">FREE TRAINING</h2></div><div class=\"optin-bar-col col-4\"><p class=\"center bold padbot0 purple\">The Easy Way to Interpret The Cards</p></div><div class=\"optin-bar-col col-4\"> <a class=\"center-col button purple-bg\" href=\"https://www.biddytarot.com/webinar-mtcm/\" target=\"_blank\">REGISTER NOW</a></div></div></div><div class=\"nectar\" id=\"search-outer\"><div id=\"search\"><div class=\"container\"><div id=\"search-box\"><div class=\"inner-wrap\"><div class=\"col span_12\"><form action=\"https://www.biddytarot.com/\" method=\"GET\" role=\"search\"> <input aria-label=\"Search\" id=\"s\" name=\"s\" placeholder=\"Search\" type=\"text\" value=\"\"/> <span>Hit enter to search or ESC to close</span></form></div></div></div><div id=\"close\"><a href=\"#\"><span class=\"screen-reader-text\">Close Search</span> <span class=\"close-wrap\"> <span class=\"close-line close-line1\"></span> <span class=\"close-line close-line2\"></span> </span> </a></div></div></div></div><header id=\"top\"><div class=\"container\"><div class=\"row\"><div class=\"col span_3\"> <a data-supplied-ml=\"false\" data-supplied-ml-starting=\"false\" data-supplied-ml-starting-dark=\"false\" href=\"https://www.biddytarot.com\" id=\"logo\"> <img alt=\"Biddy Tarot\" class=\"stnd skip-lazy default-logo dark-version\" height=\"160\" src=\"https://www.biddytarot.com/wp-content/uploads/2018/12/biddytarot-logotm.png\" srcset=\"https://www.biddytarot.com/wp-content/uploads/2018/12/biddytarot-logotm.png 1x, https://www.biddytarot.com/wp-content/uploads/2018/12/biddytarot-logotm.png 2x\" width=\"700\"/> </a></div><div class=\"col span_9 col_last\"><div class=\"nectar-mobile-only mobile-header\"><div class=\"inner\"></div></div> <a class=\"mobile-search\" href=\"#searchbox\"><span aria-hidden=\"true\" class=\"nectar-icon icon-salient-search\"></span><span class=\"screen-reader-text\">search</span></a><div class=\"slide-out-widget-area-toggle mobile-icon slide-out-from-right\" data-custom-color=\"false\" data-icon-animation=\"simple-transform\"><div> <a aria-expanded=\"false\" aria-label=\"Navigation Menu\" class=\"closed\" href=\"#sidewidgetarea\"> <span class=\"screen-reader-text\">Menu</span><span aria-hidden=\"true\"> <i class=\"lines-button x2\"> <i class=\"lines\"></i> </i> </span> </a></div></div><nav><ul class=\"sf-menu\"><li class=\"menu-item menu-item-type-custom menu-item-object-custom nectar-regular-menu-item menu-item-56478\" id=\"menu-item-56478\"><a href=\"https://www.biddytarot.com/freeresources\" rel=\"noopener\" target=\"_blank\"><span class=\"menu-title-text\">Free Training</span></a></li><li class=\"menu-item menu-item-type-custom menu-item-object-custom nectar-regular-menu-item menu-item-56514\" id=\"menu-item-56514\"><a href=\"https://community.biddytarot.com/free-tarot-readings/\"><span class=\"menu-title-text\">Free Readings</span></a></li><li class=\"menu-item menu-item-type-custom menu-item-object-custom menu-item-has-children nectar-regular-menu-item menu-item-56479\" id=\"menu-item-56479\"><a href=\"/learn-tarot\"><span class=\"menu-title-text\">Learn</span></a><ul class=\"sub-menu\"><li class=\"menu-item menu-item-type-custom menu-item-object-custom nectar-regular-menu-item menu-item-56488\" id=\"menu-item-56488\"><a href=\"/learn-tarot\"><span class=\"menu-title-text\">Start Here</span></a></li><li class=\"menu-item menu-item-type-custom menu-item-object-custom nectar-regular-menu-item menu-item-56489\" id=\"menu-item-56489\"><a href=\"/tarot-card-meanings\"><span class=\"menu-title-text\">Tarot Card Meanings</span></a></li><li class=\"menu-item menu-item-type-custom menu-item-object-custom nectar-regular-menu-item menu-item-56490\" id=\"menu-item-56490\"><a href=\"/tarot-101/\"><span class=\"menu-title-text\">Tarot 101</span></a></li><li class=\"menu-item menu-item-type-custom menu-item-object-custom nectar-regular-menu-item menu-item-68059\" id=\"menu-item-68059\"><a href=\"/shop/#guides\"><span class=\"menu-title-text\">Books &amp; Guides</span></a></li><li class=\"menu-item menu-item-type-custom menu-item-object-custom nectar-regular-menu-item menu-item-68058\" id=\"menu-item-68058\"><a href=\"/shop/#courses\"><span class=\"menu-title-text\">Courses</span></a></li><li class=\"menu-item menu-item-type-custom menu-item-object-custom menu-item-has-children nectar-regular-menu-item menu-item-56493\" id=\"menu-item-56493\"><a href=\"/community\"><span class=\"menu-title-text\">Community</span><span class=\"sf-sub-indicator\"><i aria-hidden=\"true\" class=\"fa fa-angle-right icon-in-menu\"></i></span></a><ul class=\"sub-menu\"><li class=\"menu-item menu-item-type-custom menu-item-object-custom nectar-regular-menu-item menu-item-56495\" id=\"menu-item-56495\"><a href=\"/community\"><span class=\"menu-title-text\">Join</span></a></li><li class=\"menu-item menu-item-type-custom menu-item-object-custom nectar-regular-menu-item menu-item-56494\" id=\"menu-item-56494\"><a href=\"http://community.biddytarot.com/login-page/\"><span class=\"menu-title-text\">Login</span></a></li></ul></li><li class=\"menu-item menu-item-type-custom menu-item-object-custom nectar-regular-menu-item menu-item-56491\" id=\"menu-item-56491\"><a href=\"/blog\"><span class=\"menu-title-text\">Blog</span></a></li><li class=\"menu-item menu-item-type-custom menu-item-object-custom nectar-regular-menu-item menu-item-56492\" id=\"menu-item-56492\"><a href=\"/category/podcast\"><span class=\"menu-title-text\">Podcast</span></a></li></ul></li><li class=\"menu-item menu-item-type-custom menu-item-object-custom nectar-regular-menu-item menu-item-56480\" id=\"menu-item-56480\"><a href=\"/shop\"><span class=\"menu-title-text\">Shop</span></a></li><li class=\"menu-item menu-item-type-custom menu-item-object-custom nectar-regular-menu-item menu-item-56481\" id=\"menu-item-56481\"><a href=\"/business\"><span class=\"menu-title-text\">Grow Your Biz</span></a></li><li class=\"menu-item menu-item-type-custom menu-item-object-custom menu-item-has-children nectar-regular-menu-item menu-item-56482\" id=\"menu-item-56482\"><a href=\"/about\"><span class=\"menu-title-text\">About</span></a><ul class=\"sub-menu\"><li class=\"menu-item menu-item-type-custom menu-item-object-custom nectar-regular-menu-item menu-item-56483\" id=\"menu-item-56483\"><a href=\"/about\"><span class=\"menu-title-text\">Meet Brigit</span></a></li><li class=\"menu-item menu-item-type-post_type menu-item-object-page nectar-regular-menu-item menu-item-57606\" id=\"menu-item-57606\"><a href=\"https://www.biddytarot.com/careers/\"><span class=\"menu-title-text\">Careers</span></a></li><li class=\"menu-item menu-item-type-custom menu-item-object-custom nectar-regular-menu-item menu-item-67488\" id=\"menu-item-67488\"><a href=\"https://www.biddytarot.com/what-to-expect/\"><span class=\"menu-title-text\">Stories</span></a></li><li class=\"menu-item menu-item-type-custom menu-item-object-custom nectar-regular-menu-item menu-item-56484\" id=\"menu-item-56484\"><a href=\"/contact-faq\"><span class=\"menu-title-text\">Contact &amp; FAQ</span></a></li><li class=\"menu-item menu-item-type-post_type menu-item-object-page nectar-regular-menu-item menu-item-58750\" id=\"menu-item-58750\"><a href=\"https://www.biddytarot.com/diversity/\"><span class=\"menu-title-text\">Diversity Policy</span></a></li></ul></li><li class=\"menu-item menu-item-type-custom menu-item-object-custom button_bordered menu-item-56497\" id=\"menu-item-56497\"><a href=\"/login\"><span class=\"menu-title-text\">Login</span></a></li></ul><ul class=\"buttons sf-menu\" data-user-set-ocm=\"off\"><li id=\"search-btn\"><div><a href=\"#searchbox\"><span aria-hidden=\"true\" class=\"icon-salient-search\"></span><span class=\"screen-reader-text\">search</span></a></div></li></ul></nav></div></div></div></header></div><div id=\"ajax-content-wrap\"><div class=\"container-wrap\"><div class=\"container main-content\"><div class=\"row\"><div class=\"wpb_row vc_row-fluid vc_row full-width-section vc_row-o-equal-height vc_row-flex\" data-bg-mobile-hidden=\"true\" data-column-margin=\"default\" data-midnight=\"dark\" id=\"fws_6204de602f271\" style=\"padding-top: 35px; padding-bottom: 75px; \"><div class=\"row-bg-wrap\" data-bg-animation=\"none\" data-bg-overlay=\"false\"><div class=\"inner-wrap using-image\"><div class=\"row-bg viewport-desktop using-image\" data-nectar-img-src=\"https://www.biddytarot.com/wp-content/uploads/2018/04/BG-intro-major-arcana-3.jpg\" style=\"background-position: right center; background-repeat: no-repeat; \"></div></div></div><div class=\"row_col_wrap_12 col span_12 dark left\"><div class=\"vc_col-sm-7 vc_col-md-8 wpb_column column_container vc_column_container col no-extra-padding inherit_tablet inherit_phone \" data-animation=\"\" data-bg-color=\"\" data-bg-opacity=\"1\" data-delay=\"0\" data-has-bg-color=\"false\" data-padding-pos=\"left\"><div class=\"vc_column-inner\"><div class=\"wpb_wrapper\"><div class=\"wpb_raw_code wpb_content_element wpb_raw_html\"><div class=\"wpb_wrapper\"><div class=\"breadcrumbs\"><a href=\"/tarot-card-meanings/\">HOME</a> &gt; <span class=\"purple\">MAJOR ARCANA TAROT CARD MEANINGS</span></div></div></div><div class=\"wpb_text_column wpb_content_element \"><div class=\"wpb_wrapper\"><h1 style=\"text-align: center;\"><strong><span class=\"green\">The Meanings of the Major Arcana Tarot Cards</span></strong></h1></div></div><div class=\"divider-wrap\" data-alignment=\"default\"><div class=\"divider\" style=\"height: 15px;\"></div></div><div class=\"wpb_text_column wpb_content_element \"><div class=\"wpb_wrapper\"><p>The Major Arcana Tarot cards represent the life lessons, karmic influences and the big archetypal themes that are influencing your life and your soul\\'s journey to enlightenment. The Major Arcana card meanings are deep and complex \\xe2\\x80\\x93in beautiful ways! Theses Tarot cards truly represent the structure of human consciousness and hold the keys to life lessons passed down through the ages.</p><p>Also known as the Trump Cards, the Major Arcana cards include 21 numbered cards and 1 unnumbered card (the Fool). The Fool is the main character of the Major Arcana and makes his journey through each of the cards, meeting new teachers and learning new life lessons along the way, and eventually reaching the completion of his journey with the World card. This is known as the Fool\\'s Journey and is a helpful way of understanding the story line of the Major Arcana Tarot card meanings.</p></div></div><div class=\"img-with-aniamtion-wrap center\" data-animation=\"none\" data-max-width=\"100%\" data-max-width-mobile=\"default\" data-shadow=\"none\"><div class=\"inner\"><div class=\"hover-wrap\"><div class=\"hover-wrap-inner\"> <img alt=\"\" class=\"img-with-animation skip-lazy mobileshow nectar-lazy\" data-animation=\"none\" data-delay=\"0\" data-nectar-img-src=\"https://www.biddytarot.com/wp-content/uploads/2018/04/BG-intro-major-arcana-mobile.png\" data-nectar-img-srcset=\"https://www.biddytarot.com/wp-content/uploads/2018/04/BG-intro-major-arcana-mobile.png 398w, https://www.biddytarot.com/wp-content/uploads/2018/04/BG-intro-major-arcana-mobile-396x480.png 396w\" height=\"483\" sizes=\"(max-width: 398px) 100vw, 398px\" src=\"data:image/svg+xml;charset=utf-8,%3Csvg%20xmlns%3D\\'http%3A%2F%2Fwww.w3.org%2F2000%2Fsvg\\'%20viewBox%3D\\'0%200%20398%20483\\'%2F%3E\" width=\"398\"/></div></div></div></div><div class=\"wpb_text_column wpb_content_element \"><div class=\"wpb_wrapper\"><h3 style=\"text-align: center;\"><span class=\"green fs24 bold\">What Does a Major Arcana Card Mean in a Tarot Reading?</span></h3></div></div><div class=\"divider-wrap\" data-alignment=\"default\"><div class=\"divider\" style=\"height: 15px;\"></div></div><div class=\"wpb_text_column wpb_content_element \"><div class=\"wpb_wrapper\"><p>When you see a Major Arcana card in a Tarot reading, you are being called to reflect on the life lessons and themes that are currently being experienced at this time. A Major Arcana card will often set the scene for the entire Tarot reading, with the other cards relating back to that core Major Arcana meaning.</p></div></div><div class=\"wpb_text_column wpb_content_element \"><div class=\"wpb_wrapper\"><h3 style=\"text-align: center;\"><span class=\"green fs24 bold\">What Does it Mean When a Tarot Reading is Mostly Major Arcana Tarot Cards?</span></h3></div></div><div class=\"divider-wrap\" data-alignment=\"default\"><div class=\"divider\" style=\"height: 15px;\"></div></div><div class=\"wpb_text_column wpb_content_element \"><div class=\"wpb_wrapper\"><p>When a Tarot reading is predominantly made up of Major Arcana cards, you are experiencing life-changing events that will have long-term effects. There are important lessons that you must pay attention to in order to progress further in your spiritual and personal quest.</p><p>If many of the Major Arcana Tarot cards are reversed, however, it may be a sign that you are not paying enough attention to these important life lessons and you need to first master the lesson before being able to move forward.</p></div></div></div></div></div><div class=\"vc_col-sm-5 vc_col-md-4 wpb_column column_container vc_column_container col no-extra-padding inherit_tablet inherit_phone \" data-animation=\"\" data-bg-color=\"\" data-bg-opacity=\"1\" data-delay=\"0\" data-has-bg-color=\"false\" data-padding-pos=\"all\"><div class=\"vc_column-inner\"><div class=\"wpb_wrapper\"></div></div></div></div></div><div class=\"wpb_row vc_row-fluid vc_row\" data-column-margin=\"default\" data-midnight=\"dark\" id=\"fws_6204de6030490\" style=\"padding-top: 0px; padding-bottom: 0px; \"><div class=\"row-bg-wrap\" data-bg-animation=\"none\" data-bg-overlay=\"false\"><div class=\"inner-wrap\"><div class=\"row-bg viewport-desktop\" style=\"\"></div></div></div><div class=\"row_col_wrap_12 col span_12 dark left\"><div class=\"vc_col-sm-12 wpb_column column_container vc_column_container col no-extra-padding inherit_tablet inherit_phone \" data-animation=\"\" data-bg-color=\"\" data-bg-opacity=\"1\" data-delay=\"0\" data-has-bg-color=\"false\" data-padding-pos=\"all\"><div class=\"vc_column-inner\"><div class=\"wpb_wrapper\"><div class=\"wpb_text_column wpb_content_element \"><div class=\"wpb_wrapper\"><div class=\"biddy-target\" data-advadstrackbid=\"1\" data-advadstrackid=\"71807\" id=\"biddy-1845676387\"><div class=\"wpb_row vc_row-fluid vc_row full-width-content vc_row-o-equal-height vc_row-flex vc_row-o-content-middle mobilehide desktopbannerpromo btcpbannera\" data-column-margin=\"default\" data-midnight=\"dark\" id=\"fws_6204de6031090\" style=\"padding-top: 0px; padding-bottom: 0px; \"><div class=\"row-bg-wrap\" data-bg-animation=\"none\" data-bg-overlay=\"false\"><div class=\"inner-wrap using-image\"><div class=\"row-bg viewport-desktop using-image\" data-nectar-img-src=\"https://www.biddytarot.com/wp-content/uploads/2021/09/BannerDesktop01.jpg\" style=\"background-position: right center; background-repeat: no-repeat; \"></div></div></div><div class=\"row_col_wrap_12 col span_12 dark left\"><div class=\"vc_col-sm-4 wpb_column column_container vc_column_container col padding-2-percent inherit_tablet inherit_phone \" data-animation=\"\" data-bg-color=\"\" data-bg-cover=\"true\" data-bg-opacity=\"1\" data-delay=\"0\" data-has-bg-color=\"false\" data-padding-pos=\"left-right\" data-using-bg=\"true\" style=\"\"><div class=\"vc_column-inner\"><a class=\"column-link\" href=\"https://www.biddytarot.com/webinar-mtcm/\" target=\"_self\"></a><div class=\"column-image-bg-wrap viewport-desktop\" data-bg-animation=\"none\" data-bg-overlay=\"false\" data-bg-pos=\"left top\"><div class=\"inner-wrap\"><div class=\"column-image-bg\" data-nectar-img-src=\"https://www.biddytarot.com/wp-content/uploads/2021/09/Brigit-01.png\" style=\"\"></div></div></div><div class=\"wpb_wrapper\"></div></div></div><div class=\"vc_col-sm-8 vc_col-lg-offset-0 vc_col-lg-8 vc_col-md-offset-0 vc_col-md-8 vc_col-sm-offset-0 vc_col-xs-6 wpb_column column_container vc_column_container col no-extra-padding inherit_tablet inherit_phone \" data-animation=\"\" data-bg-color=\"\" data-bg-opacity=\"1\" data-delay=\"0\" data-has-bg-color=\"false\" data-padding-pos=\"all\" data-t-w-inherits=\"small_desktop\" style=\"margin-top: 3%; margin-bottom: 3%; \"><div class=\"vc_column-inner\"><a class=\"column-link\" href=\"https://www.biddytarot.com/webinar-mtcm/\" target=\"_blank\"></a><div class=\"wpb_wrapper\"><div class=\"wpb_text_column wpb_content_element centercol darkgreen upper extrabold ls2 center fs28 mfs22\"><div class=\"wpb_wrapper\"><p style=\"text-align: center;\">Free Training</p></div></div><div class=\"divider-wrap\" data-alignment=\"default\"><div class=\"divider\" style=\"height: 15px;\"></div></div><div class=\"wpb_text_column wpb_content_element purple extrabold fs34 mfs28 ls2 marginbottom0\"><div class=\"wpb_wrapper\"><p style=\"text-align: center;\">Give Accurate Tarot Readings Every Time</p></div></div><div class=\"wpb_text_column wpb_content_element centercol fs24 mfs20 darkgreen ls1 center extrabold\"><div class=\"wpb_wrapper\"><p style=\"text-align: center;\">A Proven System to Unlock Your Intuition</p></div></div><div class=\"divider-wrap\" data-alignment=\"default\"><div class=\"divider\" style=\"height: 25px;\"></div></div><a class=\"nectar-button jumbo regular extra-color-1 regular-button center-col promobutton\" data-color-override=\"false\" data-hover-color-override=\"false\" data-hover-text-color-override=\"#fff\" href=\"https://www.biddytarot.com/webinar-mtcm/\" style=\"\" target=\"_blank\"><span>REGISTER TODAY</span></a><div class=\"wpb_raw_code wpb_content_element wpb_raw_html\"><div class=\"wpb_wrapper\"><style>.promobutton {max-width: 300px !important;}\\n.image400 {max-width: 400px !important;}</style></div></div></div></div></div></div></div><div class=\"wpb_row vc_row-fluid vc_row full-width-content vc_row-o-equal-height vc_row-flex vc_row-o-content-middle mobileshow mobilebannerpromo btcpbannera\" data-column-margin=\"default\" data-midnight=\"dark\" id=\"fws_6204de6031ac7\" style=\"padding-top: 0px; padding-bottom: 0px; \"><div class=\"row-bg-wrap\" data-bg-animation=\"none\" data-bg-overlay=\"false\"><div class=\"inner-wrap using-image\"><div class=\"row-bg viewport-desktop using-image\" data-nectar-img-src=\"https://www.biddytarot.com/wp-content/uploads/2021/06/Banner-Insta-Mobile-BG-Dark.jpg\" style=\"background-position: center center; background-repeat: no-repeat; \"></div></div></div><div class=\"row_col_wrap_12 col span_12 dark left\"><div class=\"vc_col-sm-12 vc_col-lg-offset-0 vc_col-lg-12 vc_col-md-offset-0 vc_col-md-12 vc_col-sm-offset-0 vc_col-xs-12 wpb_column column_container vc_column_container col no-extra-padding inherit_tablet inherit_phone \" data-animation=\"\" data-bg-color=\"\" data-bg-opacity=\"1\" data-delay=\"0\" data-has-bg-color=\"false\" data-padding-pos=\"left-right\"><div class=\"vc_column-inner\"><a class=\"column-link\" href=\"https://www.biddytarot.com/webinar-mtcm/\" target=\"_blank\"></a><div class=\"wpb_wrapper\"><div class=\"img-with-aniamtion-wrap center\" data-animation=\"none\" data-max-width=\"100%\" data-max-width-mobile=\"default\" data-shadow=\"none\"><div class=\"inner\"><div class=\"hover-wrap\"><div class=\"hover-wrap-inner\"> <a class=\"center\" href=\"https://www.biddytarot.com/webinar-mtcm/\" target=\"_self\"> <img alt=\"\" class=\"img-with-animation skip-lazy mobilebanner nectar-lazy\" data-animation=\"none\" data-delay=\"0\" data-nectar-img-src=\"https://www.biddytarot.com/wp-content/uploads/2022/01/MTCM-Webinar-Popup-C-1.jpg\" data-nectar-img-srcset=\"https://www.biddytarot.com/wp-content/uploads/2022/01/MTCM-Webinar-Popup-C-1.jpg 1200w, https://www.biddytarot.com/wp-content/uploads/2022/01/MTCM-Webinar-Popup-C-1-480x288.jpg 480w, https://www.biddytarot.com/wp-content/uploads/2022/01/MTCM-Webinar-Popup-C-1-300x180.jpg 300w\" height=\"720\" sizes=\"(max-width: 1200px) 100vw, 1200px\" src=\"data:image/svg+xml;charset=utf-8,%3Csvg%20xmlns%3D\\'http%3A%2F%2Fwww.w3.org%2F2000%2Fsvg\\'%20viewBox%3D\\'0%200%201200%20720\\'%2F%3E\" width=\"1200\"/> </a></div></div></div></div><div class=\"wpb_raw_code wpb_content_element wpb_raw_html\"><div class=\"wpb_wrapper\"><style>img.mobilebanner {width: 100% !important; height: auto !important;}</style></div></div></div></div></div></div></div></div></div></div></div></div></div></div></div><div class=\"wpb_row vc_row-fluid vc_row\" data-column-margin=\"default\" data-midnight=\"dark\" id=\"fws_6204de6032427\" style=\"padding-top: 50px; padding-bottom: 0px; \"><div class=\"row-bg-wrap\" data-bg-animation=\"none\" data-bg-overlay=\"false\"><div class=\"inner-wrap\"><div class=\"row-bg viewport-desktop\" style=\"\"></div></div></div><div class=\"row_col_wrap_12 col span_12 dark left\"><div class=\"vc_col-sm-12 wpb_column column_container vc_column_container col no-extra-padding inherit_tablet inherit_phone \" data-animation=\"\" data-bg-color=\"\" data-bg-opacity=\"1\" data-delay=\"0\" data-has-bg-color=\"false\" data-padding-pos=\"all\"><div class=\"vc_column-inner\"><div class=\"wpb_wrapper\"><div class=\"wpb_row vc_row-fluid vc_row inner_row\" data-column-margin=\"default\" data-midnight=\"\" id=\"fws_6204de6037029\" style=\"\"><div class=\"row-bg-wrap\"><div class=\"row-bg\"></div></div><div class=\"row_col_wrap_12_inner col span_12 left\"><div class=\"vc_col-sm-12 wpb_column column_container vc_column_container col child_column no-extra-padding inherit_tablet inherit_phone \" data-animation=\"\" data-bg-color=\"\" data-bg-opacity=\"1\" data-delay=\"0\" data-has-bg-color=\"false\" data-padding-pos=\"all\"><div class=\"vc_column-inner\"><div class=\"wpb_wrapper\"><div class=\"wpb_text_column wpb_content_element \"><div class=\"wpb_wrapper\"><h2 style=\"text-align: center;\"><strong><span class=\"purple\">Major Arcana Tarot Card Meanings</span></strong></h2></div></div></div></div></div></div></div><div class=\"wpb_text_column wpb_content_element \"><div class=\"wpb_wrapper\"><div id=\"biddy_card_list\"><div class=\"card_item\"> <a href=\"/tarot-card-meanings/major-arcana/fool/\"> <span class=\"card-item-wrap\"> <img src=\"https://www.biddytarot.com/wp-content/uploads/2018/06/ET-MA-00-the-Fool.jpg\"/> <span class=\"card-item-content\"><h2 class=\"small purple upper center centered\">Upright</h2><p>Beginnings, innocence, spontaneity, a free spirit</p><h2 class=\"small purple upper center centered\">Reversed</h2><p>Holding back, recklessness, risk-taking</p><h4 class=\"gold centered center upper\">The Fool</h4> </span> </span> </a></div><div class=\"card_item\"> <a href=\"/tarot-card-meanings/major-arcana/magician/\"> <span class=\"card-item-wrap\"> <img src=\"https://www.biddytarot.com/wp-content/uploads/2018/06/ET-MA-01-Magician.jpg\"/> <span class=\"card-item-content\"><h2 class=\"small purple upper center centered\">Upright</h2><p>Manifestation, resourcefulness, power, inspired action</p><h2 class=\"small purple upper center centered\">Reversed</h2><p>Manipulation, poor planning, untapped talents</p><h4 class=\"gold centered center upper\">The Magician</h4> </span> </span> </a></div><div class=\"card_item\"> <a href=\"/tarot-card-meanings/major-arcana/high-priestess/\"> <span class=\"card-item-wrap\"> <img src=\"https://www.biddytarot.com/wp-content/uploads/2018/06/ET-MA-02-High-Priestess.jpg\"/> <span class=\"card-item-content\"><h2 class=\"small purple upper center centered\">Upright</h2><p>Intuition, sacred knowledge, divine feminine, the subconscious mind</p><h2 class=\"small purple upper center centered\">Reversed</h2><p>Secrets, disconnected from intuition, withdrawal and silence</p><h4 class=\"gold centered center upper\">The High Priestess</h4> </span> </span> </a></div><div class=\"card_item\"> <a href=\"/tarot-card-meanings/major-arcana/empress/\"> <span class=\"card-item-wrap\"> <img src=\"https://www.biddytarot.com/wp-content/uploads/2018/06/ET-MA-03-The-Empress.jpg\"/> <span class=\"card-item-content\"><h2 class=\"small purple upper center centered\">Upright</h2><p>Femininity, beauty, nature, nurturing, abundance</p><h2 class=\"small purple upper center centered\">Reversed</h2><p>Creative block, dependence on others</p><h4 class=\"gold centered center upper\">The Empress</h4> </span> </span> </a></div><div class=\"card_item\"> <a href=\"/tarot-card-meanings/major-arcana/emperor/\"> <span class=\"card-item-wrap\"> <img src=\"https://www.biddytarot.com/wp-content/uploads/2018/06/ET-MA-04-Emperor.jpg\"/> <span class=\"card-item-content\"><h2 class=\"small purple upper center centered\">Upright</h2><p>Authority, establishment, structure, a father figure</p><h2 class=\"small purple upper center centered\">Reversed</h2><p>Domination, excessive control, lack of discipline, inflexibility</p><h4 class=\"gold centered center upper\">The Emperor</h4> </span> </span> </a></div><div class=\"card_item\"> <a href=\"/tarot-card-meanings/major-arcana/hierophant/\"> <span class=\"card-item-wrap\"> <img src=\"https://www.biddytarot.com/wp-content/uploads/2018/04/MA-05-the-hierophant.png\"/> <span class=\"card-item-content\"><h2 class=\"small purple upper center centered\">Upright</h2><p>Spiritual wisdom, religious beliefs, conformity, tradition,institutions</p><h2 class=\"small purple upper center centered\">Reversed</h2><p>Personal beliefs, freedom, challenging the status quo</p><h4 class=\"gold centered center upper\">The Hierophant</h4> </span> </span> </a></div><div class=\"card_item\"> <a href=\"/tarot-card-meanings/major-arcana/lovers/\"> <span class=\"card-item-wrap\"> <img src=\"https://www.biddytarot.com/wp-content/uploads/2018/06/ET-MA-06-the-lovers.jpg\"/> <span class=\"card-item-content\"><h2 class=\"small purple upper center centered\">Upright</h2><p>Love, harmony, relationships, values alignment, choices</p><h2 class=\"small purple upper center centered\">Reversed</h2><p>Self-love, disharmony, imbalance, misalignment of values</p><h4 class=\"gold centered center upper\">The Lovers</h4> </span> </span> </a></div><div class=\"card_item\"> <a href=\"/tarot-card-meanings/major-arcana/chariot/\"> <span class=\"card-item-wrap\"> <img src=\"https://www.biddytarot.com/wp-content/uploads/2018/06/ET-MA-07-the-chariot.jpg\"/> <span class=\"card-item-content\"><h2 class=\"small purple upper center centered\">Upright</h2><p>Control, willpower, success, action, determination</p><h2 class=\"small purple upper center centered\">Reversed</h2><p>Self-discipline, opposition, lack of direction</p><h4 class=\"gold centered center upper\">The Chariot</h4> </span> </span> </a></div><div class=\"card_item\"> <a href=\"/tarot-card-meanings/major-arcana/strength/\"> <span class=\"card-item-wrap\"> <img src=\"https://www.biddytarot.com/wp-content/uploads/2018/04/ET-MA-08-strength.jpg\"/> <span class=\"card-item-content\"><h2 class=\"small purple upper center centered\">Upright</h2><p>Strength, courage, persuasion, influence, compassion</p><h2 class=\"small purple upper center centered\">Reversed</h2><p>Inner strength, self-doubt, low energy, raw emotion</p><h4 class=\"gold centered center upper\">Strength</h4> </span> </span> </a></div><div class=\"card_item\"> <a href=\"/tarot-card-meanings/major-arcana/hermit/\"> <span class=\"card-item-wrap\"> <img src=\"https://www.biddytarot.com/wp-content/uploads/2018/06/ET-MA-09-the-hermit.jpg\"/> <span class=\"card-item-content\"><h2 class=\"small purple upper center centered\">Upright</h2><p>Soul-searching, introspection, being alone, inner guidance</p><h2 class=\"small purple upper center centered\">Reversed</h2><p>Isolation, loneliness, withdrawal</p><h4 class=\"gold centered center upper\">The Hermit</h4> </span> </span> </a></div><div class=\"card_item\"> <a href=\"/tarot-card-meanings/major-arcana/wheel-of-fortune/\"> <span class=\"card-item-wrap\"> <img src=\"https://www.biddytarot.com/wp-content/uploads/2018/06/ET-MA-10-wheel-of-fortune.jpg\"/> <span class=\"card-item-content\"><h2 class=\"small purple upper center centered\">Upright</h2><p>Good luck, karma, life cycles, destiny, a turning point</p><h2 class=\"small purple upper center centered\">Reversed</h2><p>Bad luck, resistance to change, breaking cycles</p><h4 class=\"gold centered center upper\">Wheel of Fortune</h4> </span> </span> </a></div><div class=\"card_item\"> <a href=\"/tarot-card-meanings/major-arcana/justice/\"> <span class=\"card-item-wrap\"> <img src=\"https://www.biddytarot.com/wp-content/uploads/2018/04/MA-11-justice.png\"/> <span class=\"card-item-content\"><h2 class=\"small purple upper center centered\">Upright</h2><p>Justice, fairness, truth, cause and effect, law</p><h2 class=\"small purple upper center centered\">Reversed</h2><p>Unfairness, lack of accountability, dishonesty</p><h4 class=\"gold centered center upper\">Justice</h4> </span> </span> </a></div><div class=\"card_item\"> <a href=\"/tarot-card-meanings/major-arcana/hanged-man/\"> <span class=\"card-item-wrap\"> <img src=\"https://www.biddytarot.com/wp-content/uploads/2018/04/MA-12-the-hanged-man.png\"/> <span class=\"card-item-content\"><h2 class=\"small purple upper center centered\">Upright</h2><p>Pause, surrender, letting go, new perspectives</p><h2 class=\"small purple upper center centered\">Reversed</h2><p>Delays, resistance, stalling, indecision</p><h4 class=\"gold centered center upper\">The Hanged Man</h4> </span> </span> </a></div><div class=\"card_item\"> <a href=\"/tarot-card-meanings/major-arcana/death/\"> <span class=\"card-item-wrap\"> <img src=\"https://www.biddytarot.com/wp-content/uploads/2018/06/ET-MA-13-Death.jpg\"/> <span class=\"card-item-content\"><h2 class=\"small purple upper center centered\">Upright</h2><p>Endings, change, transformation, transition</p><h2 class=\"small purple upper center centered\">Reversed</h2><p>Resistance to change, personal transformation, inner purging</p><h4 class=\"gold centered center upper\">Death</h4> </span> </span> </a></div><div class=\"card_item\"> <a href=\"/tarot-card-meanings/major-arcana/temperance/\"> <span class=\"card-item-wrap\"> <img src=\"https://www.biddytarot.com/wp-content/uploads/2018/06/ET-MA-14-Temperance.jpg\"/> <span class=\"card-item-content\"><h2 class=\"small purple upper center centered\">Upright</h2><p>Balance, moderation, patience, purpose</p><h2 class=\"small purple upper center centered\">Reversed</h2><p>Imbalance, excess, self-healing, re-alignment</p><h4 class=\"gold centered center upper\">Temperance</h4> </span> </span> </a></div><div class=\"card_item\"> <a href=\"/tarot-card-meanings/major-arcana/devil/\"> <span class=\"card-item-wrap\"> <img src=\"https://www.biddytarot.com/wp-content/uploads/2018/06/ET-MA-15-The-Devil.jpg\"/> <span class=\"card-item-content\"><h2 class=\"small purple upper center centered\">Upright</h2><p>Shadow self, attachment, addiction, restriction, sexuality</p><h2 class=\"small purple upper center centered\">Reversed</h2><p>Releasing limiting beliefs, exploring dark thoughts, detachment</p><h4 class=\"gold centered center upper\">The Devil</h4> </span> </span> </a></div><div class=\"card_item\"> <a href=\"/tarot-card-meanings/major-arcana/tower/\"> <span class=\"card-item-wrap\"> <img src=\"https://www.biddytarot.com/wp-content/uploads/2018/06/ET-MA-16-The-Tower.jpg\"/> <span class=\"card-item-content\"><h2 class=\"small purple upper center centered\">Upright</h2><p>Sudden change, upheaval, chaos, revelation, awakening</p><h2 class=\"small purple upper center centered\">Reversed</h2><p>Personal transformation, fear of change, averting disaster</p><h4 class=\"gold centered center upper\">The Tower</h4> </span> </span> </a></div><div class=\"card_item\"> <a href=\"/tarot-card-meanings/major-arcana/star/\"> <span class=\"card-item-wrap\"> <img src=\"https://www.biddytarot.com/wp-content/uploads/2018/06/ET-MA-17-The-Star.jpg\"/> <span class=\"card-item-content\"><h2 class=\"small purple upper center centered\">Upright</h2><p>Hope, faith, purpose, renewal, spirituality</p><h2 class=\"small purple upper center centered\">Reversed</h2><p>Lack of faith, despair, self-trust, disconnection</p><h4 class=\"gold centered center upper\">The Star</h4> </span> </span> </a></div><div class=\"card_item\"> <a href=\"/tarot-card-meanings/major-arcana/moon/\"> <span class=\"card-item-wrap\"> <img src=\"https://www.biddytarot.com/wp-content/uploads/2018/06/ET-MA-18-The-Moon.jpg\"/> <span class=\"card-item-content\"><h2 class=\"small purple upper center centered\">Upright</h2><p>Illusion, fear, anxiety, subconscious, intuition</p><h2 class=\"small purple upper center centered\">Reversed</h2><p>Release of fear, repressed emotion, inner confusion</p><h4 class=\"gold centered center upper\">The Moon</h4> </span> </span> </a></div><div class=\"card_item\"> <a href=\"/tarot-card-meanings/major-arcana/sun/\"> <span class=\"card-item-wrap\"> <img src=\"https://www.biddytarot.com/wp-content/uploads/2018/06/ET-MA-19-The-Sun.jpg\"/> <span class=\"card-item-content\"><h2 class=\"small purple upper center centered\">Upright</h2><p>Positivity, fun, warmth, success, vitality</p><h2 class=\"small purple upper center centered\">Reversed</h2><p>Inner child, feeling down, overly optimistic</p><h4 class=\"gold centered center upper\">The Sun</h4> </span> </span> </a></div><div class=\"card_item\"> <a href=\"/tarot-card-meanings/major-arcana/judgement/\"> <span class=\"card-item-wrap\"> <img src=\"https://www.biddytarot.com/wp-content/uploads/2018/06/ET-MA-20-Judgement.jpg\"/> <span class=\"card-item-content\"><h2 class=\"small purple upper center centered\">Upright</h2><p>Judgement, rebirth, inner calling, absolution</p><h2 class=\"small purple upper center centered\">Reversed</h2><p>Self-doubt, inner critic, ignoring the call</p><h4 class=\"gold centered center upper\">Judgement</h4> </span> </span> </a></div><div class=\"card_item\"> <a href=\"/tarot-card-meanings/major-arcana/world/\"> <span class=\"card-item-wrap\"> <img src=\"https://www.biddytarot.com/wp-content/uploads/2018/06/ET-MA-21-The-World.jpg\"/> <span class=\"card-item-content\"><h2 class=\"small purple upper center centered\">Upright</h2><p>Completion, integration, accomplishment, travel</p><h2 class=\"small purple upper center centered\">Reversed</h2><p>Seeking personal closure, short-cuts, delays</p><h4 class=\"gold centered center upper\">The World</h4> </span> </span> </a></div></div></div></div></div></div></div></div></div><div class=\"wpb_row vc_row-fluid vc_row full-width-content vc_row-o-equal-height vc_row-flex vc_row-o-content-top\" data-column-margin=\"default\" data-midnight=\"dark\" id=\"fws_6204de6040378\" style=\"padding-top: 0px; padding-bottom: 0px; \"><div class=\"row-bg-wrap\" data-bg-animation=\"none\" data-bg-overlay=\"false\"><div class=\"inner-wrap\"><div class=\"row-bg viewport-desktop\" style=\"\"></div></div></div><div class=\"row_col_wrap_12 col span_12 dark left\"><div class=\"vc_col-sm-12 wpb_column column_container vc_column_container col no-extra-padding inherit_tablet inherit_phone \" data-animation=\"\" data-bg-color=\"\" data-bg-opacity=\"1\" data-delay=\"0\" data-has-bg-color=\"false\" data-padding-pos=\"all\"><div class=\"vc_column-inner\"><div class=\"wpb_wrapper\"><div class=\"wpb_text_column wpb_content_element \"><div class=\"wpb_wrapper\"><div class=\"biddy-target\" data-advadstrackbid=\"1\" data-advadstrackid=\"71551\" id=\"biddy-666359941\" style=\"margin-left: auto; margin-right: auto; text-align: center; \"><iframe align=\"middle\" allowtransparency=\"true\" frameborder=\"no\" height=\"350px\" id=\"awe-matchmaker-container\" marginheight=\"0\" marginwidth=\"0\" scrolling=\"no\" src=\"//pt.potwmora.com/match?psid=BiddyTarot&amp;psprogram=pps&amp;pstool=610_1&amp;cobrandid=&amp;campaign_id=118792&amp;subaffid={SUBAFFID}\" style=\"background:transparent;\" width=\"100%\"></iframe></div></div></div></div></div></div></div></div></div></div></div><div data-bg-img-overlay=\"0.8\" data-cols=\"4\" data-copyright-line=\"false\" data-custom-color=\"true\" data-disable-copyright=\"false\" data-full-width=\"false\" data-link-hover=\"default\" data-matching-section-color=\"false\" data-midnight=\"light\" data-using-bg-img=\"false\" data-using-widget-area=\"true\" id=\"footer-outer\"><div id=\"call-to-action\"><div class=\"container\"><div class=\"triangle\"></div> <span> Got questions? Or can\\'t find what you\\xe2\\x80\\x99re looking for? </span> <a class=\"nectar-button regular-button accent-color\" data-color-override=\"false\" href=\"/contact-faq/\"> Contact Us </a></div></div><div data-cols=\"4\" id=\"footer-widgets\"><div class=\"container\"><div class=\"row\"><div class=\"col span_3\"><div class=\"widget widget_nav_menu\" id=\"nav_menu-3\"><h4>EBOOKS + PRODUCTS</h4><div class=\"menu-2018-footer-1-container\"><ul class=\"menu\" id=\"menu-2018-footer-1\"><li class=\"menu-item menu-item-type-custom menu-item-object-custom menu-item-43168\" id=\"menu-item-43168\"><a href=\"/tarot-guides/ultimate-guide-to-tarot-card-meanings/\">The Ultimate Guide to Tarot Card Meanings</a></li><li class=\"menu-item menu-item-type-custom menu-item-object-custom menu-item-43169\" id=\"menu-item-43169\"><a href=\"/tarot-guides/intuitive-tarot/\">Intuitive Tarot: 31 Days to Learn to Read Tarot Cards and Develop Your Intuition</a></li><li class=\"menu-item menu-item-type-custom menu-item-object-custom menu-item-69882\" id=\"menu-item-69882\"><a href=\"/planner\">Biddy Tarot Planner</a></li><li class=\"menu-item menu-item-type-custom menu-item-object-custom menu-item-43170\" id=\"menu-item-43170\"><a href=\"http://community.biddytarot.com/join/\">Biddy Tarot Community</a></li><li class=\"menu-item menu-item-type-custom menu-item-object-custom menu-item-43171\" id=\"menu-item-43171\"><a href=\"/work-with-me\">Business Coaching</a></li></ul></div></div></div><div class=\"col span_3\"><div class=\"widget widget_nav_menu\" id=\"nav_menu-4\"><h4>COURSES + TRAINING</h4><div class=\"menu-2018-footer-2-container\"><ul class=\"menu\" id=\"menu-2018-footer-2\"><li class=\"menu-item menu-item-type-custom menu-item-object-custom menu-item-50668\" id=\"menu-item-50668\"><a href=\"/tarot-101/\">Tarot 101</a></li><li class=\"menu-item menu-item-type-custom menu-item-object-custom menu-item-43173\" id=\"menu-item-43173\"><a href=\"/courses/master-the-tarot-card-meanings\">Master the Tarot Card Meanings</a></li><li class=\"menu-item menu-item-type-custom menu-item-object-custom menu-item-43174\" id=\"menu-item-43174\"><a href=\"/courses/read-tarot-with-confidence/\">Read Tarot With Confidence</a></li><li class=\"menu-item menu-item-type-custom menu-item-object-custom menu-item-43175\" id=\"menu-item-43175\"><a href=\"/courses/certification-program/\">Biddy Tarot Certification Program</a></li><li class=\"menu-item menu-item-type-custom menu-item-object-custom menu-item-67333\" id=\"menu-item-67333\"><a href=\"https://www.biddytarot.com/courses/blueprint-for-attracting-clients/\">The Tarot Reader\\xe2\\x80\\x99s Blueprint for Attracting Clients</a></li><li class=\"menu-item menu-item-type-custom menu-item-object-custom menu-item-43176\" id=\"menu-item-43176\"><a href=\"/courses/grow-your-tarot-business-online/\">Grow Your Tarot Business Online</a></li></ul></div></div></div><div class=\"col span_3\"><div class=\"widget widget_nav_menu\" id=\"nav_menu-5\"><h4>RESOURCES</h4><div class=\"menu-2018-footer-3-container\"><ul class=\"menu\" id=\"menu-2018-footer-3\"><li class=\"menu-item menu-item-type-custom menu-item-object-custom menu-item-43177\" id=\"menu-item-43177\"><a href=\"/learn-tarot\">Tarot Basics</a></li><li class=\"menu-item menu-item-type-custom menu-item-object-custom menu-item-43178\" id=\"menu-item-43178\"><a href=\"/tarot-card-meanings/\">Tarot Card Meanings</a></li><li class=\"menu-item menu-item-type-custom menu-item-object-custom menu-item-43179\" id=\"menu-item-43179\"><a href=\"/blog\">Blog</a></li><li class=\"menu-item menu-item-type-custom menu-item-object-custom menu-item-43180\" id=\"menu-item-43180\"><a href=\"/category/podcast\">Podcast</a></li><li class=\"menu-item menu-item-type-custom menu-item-object-custom menu-item-45445\" id=\"menu-item-45445\"><a href=\"https://community.biddytarot.com/free-tarot-readings/\" rel=\"noopener\" target=\"_blank\">Free Tarot Readings</a></li><li class=\"menu-item menu-item-type-custom menu-item-object-custom menu-item-50213\" id=\"menu-item-50213\"><a href=\"https://www.biddytarot.com/certified-tarot-readers/\">Biddy Tarot Certified Tarot Readers</a></li></ul></div></div></div><div class=\"col span_3\"><div class=\"widget widget_nav_menu\" id=\"nav_menu-6\"><h4>BIDDY TAROT</h4><div class=\"menu-2018-footer-4-container\"><ul class=\"menu\" id=\"menu-2018-footer-4\"><li class=\"menu-item menu-item-type-custom menu-item-object-custom menu-item-43181\" id=\"menu-item-43181\"><a href=\"/about\">About</a></li><li class=\"menu-item menu-item-type-post_type menu-item-object-page menu-item-57607\" id=\"menu-item-57607\"><a href=\"https://www.biddytarot.com/careers/\">Careers</a></li><li class=\"menu-item menu-item-type-custom menu-item-object-custom menu-item-60511\" id=\"menu-item-60511\"><a href=\"https://support.biddytarot.com/hc/en-us\" rel=\"noopener\" target=\"_blank\">Help Center</a></li><li class=\"menu-item menu-item-type-custom menu-item-object-custom menu-item-67487\" id=\"menu-item-67487\"><a href=\"https://www.biddytarot.com/what-to-expect/\">Biddy Tarot Reviews</a></li><li class=\"menu-item menu-item-type-custom menu-item-object-custom menu-item-51647\" id=\"menu-item-51647\"><a href=\"/one-girl\">One Girl Partnership</a></li><li class=\"menu-item menu-item-type-post_type menu-item-object-page menu-item-58751\" id=\"menu-item-58751\"><a href=\"https://www.biddytarot.com/diversity/\">Diversity Policy</a></li></ul></div></div><div class=\"widget_text widget widget_custom_html\" id=\"custom_html-2\"><h4>FOLLOW US</h4><div class=\"textwidget custom-html-widget\"><div id=\"follow-us\"> <a href=\"https://www.facebook.com/biddytarot\" rel=\"noopener\" target=\"_blank\"><i aria-hidden=\"true\" class=\"fa fa-facebook\"></i></a> <a href=\"https://www.pinterest.com/biddytarot\" rel=\"noopener\" target=\"_blank\"><i aria-hidden=\"true\" class=\"fa fa-pinterest\"></i></a> <a href=\"https://www.instagram.com/biddytarot\" rel=\"noopener\" target=\"_blank\"><i aria-hidden=\"true\" class=\"fa fa-instagram\"></i></a> <a href=\"https://www.youtube.com/user/biddytarot\" rel=\"noopener\" target=\"_blank\"><i aria-hidden=\"true\" class=\"fa fa-youtube-play\"></i></a></div></div></div></div></div></div></div><div class=\"row\" data-layout=\"default\" id=\"copyright\"><div class=\"container\"><div class=\"col span_5\"><p><a href=\"https://www.biddytarot.com/privacy-policy/\">Privacy and Terms</a>.\\xc2\\xa0 \\xc2\\xa9 2022 Biddy Tarot. All Rights Reserved. All prices in USD. <br/>Tarot card images courtesy of the <a href=\"https://www.everydaytarot.com/#deck\">Everyday Tarot</a>, The Wild Unknown and Lumina Tarot.</p></div><div class=\"col span_7 col_last\"><ul class=\"social\"></ul></div></div></div></div><div class=\"slide-out-from-right dark\" id=\"slide-out-widget-area-bg\"></div><div class=\"slide-out-from-right\" data-back-txt=\"Back\" data-dropdown-func=\"default\" id=\"slide-out-widget-area\"><div class=\"inner-wrap\"><div class=\"inner\" data-prepend-menu-mobile=\"false\"> <a class=\"slide_out_area_close\" href=\"#\"> <span class=\"close-wrap\"> <span class=\"close-line close-line1\"></span> <span class=\"close-line close-line2\"></span> </span> </a><div class=\"off-canvas-menu-container mobile-only\"><ul class=\"menu\"><li class=\"menu-item menu-item-type-custom menu-item-object-custom menu-item-56478\"><a href=\"https://www.biddytarot.com/freeresources\" rel=\"noopener\" target=\"_blank\">Free Training</a></li><li class=\"menu-item menu-item-type-custom menu-item-object-custom menu-item-56514\"><a href=\"https://community.biddytarot.com/free-tarot-readings/\">Free Readings</a></li><li class=\"menu-item menu-item-type-custom menu-item-object-custom menu-item-has-children menu-item-56479\"><a href=\"/learn-tarot\">Learn</a><ul class=\"sub-menu\"><li class=\"menu-item menu-item-type-custom menu-item-object-custom menu-item-56488\"><a href=\"/learn-tarot\">Start Here</a></li><li class=\"menu-item menu-item-type-custom menu-item-object-custom menu-item-56489\"><a href=\"/tarot-card-meanings\">Tarot Card Meanings</a></li><li class=\"menu-item menu-item-type-custom menu-item-object-custom menu-item-56490\"><a href=\"/tarot-101/\">Tarot 101</a></li><li class=\"menu-item menu-item-type-custom menu-item-object-custom menu-item-68059\"><a href=\"/shop/#guides\">Books &amp; Guides</a></li><li class=\"menu-item menu-item-type-custom menu-item-object-custom menu-item-68058\"><a href=\"/shop/#courses\">Courses</a></li><li class=\"menu-item menu-item-type-custom menu-item-object-custom menu-item-has-children menu-item-56493\"><a href=\"/community\">Community</a><ul class=\"sub-menu\"><li class=\"menu-item menu-item-type-custom menu-item-object-custom menu-item-56495\"><a href=\"/community\">Join</a></li><li class=\"menu-item menu-item-type-custom menu-item-object-custom menu-item-56494\"><a href=\"http://community.biddytarot.com/login-page/\">Login</a></li></ul></li><li class=\"menu-item menu-item-type-custom menu-item-object-custom menu-item-56491\"><a href=\"/blog\">Blog</a></li><li class=\"menu-item menu-item-type-custom menu-item-object-custom menu-item-56492\"><a href=\"/category/podcast\">Podcast</a></li></ul></li><li class=\"menu-item menu-item-type-custom menu-item-object-custom menu-item-56480\"><a href=\"/shop\">Shop</a></li><li class=\"menu-item menu-item-type-custom menu-item-object-custom menu-item-56481\"><a href=\"/business\">Grow Your Biz</a></li><li class=\"menu-item menu-item-type-custom menu-item-object-custom menu-item-has-children menu-item-56482\"><a href=\"/about\">About</a><ul class=\"sub-menu\"><li class=\"menu-item menu-item-type-custom menu-item-object-custom menu-item-56483\"><a href=\"/about\">Meet Brigit</a></li><li class=\"menu-item menu-item-type-post_type menu-item-object-page menu-item-57606\"><a href=\"https://www.biddytarot.com/careers/\">Careers</a></li><li class=\"menu-item menu-item-type-custom menu-item-object-custom menu-item-67488\"><a href=\"https://www.biddytarot.com/what-to-expect/\">Stories</a></li><li class=\"menu-item menu-item-type-custom menu-item-object-custom menu-item-56484\"><a href=\"/contact-faq\">Contact &amp; FAQ</a></li><li class=\"menu-item menu-item-type-post_type menu-item-object-page menu-item-58750\"><a href=\"https://www.biddytarot.com/diversity/\">Diversity Policy</a></li></ul></li><li class=\"menu-item menu-item-type-custom menu-item-object-custom menu-item-56497\"><a href=\"/login\">Login</a></li></ul><ul class=\"menu secondary-header-items\"></ul></div><div style=\"align-self: flex-end;\"><h2 class=\"center bold gold\">FREE TRAINING</h2><p class=\"center bold white\">Give Accurate Tarot Readings Every Time</p> <a class=\"center-col button green-bg\" href=\"https://www.biddytarot.com/webinar-mtcm/\" target=\"_blank\">REGISTER TODAY</a></div></div><div class=\"bottom-meta-wrap\"></div></div></div></div><a class=\" mobile-enabled \" href=\"#\" id=\"to-top\"><i class=\"fa fa-angle-up\"></i></a></div></div><style>/* POP-UP */\\n        #age_button_area\\n        {\\n    \\tpadding-top:10px;\\n    \\tposition: relative;\\n    \\twidth: 100%;\\n    \\tbottom: 5px;\\n    \\tpadding-top:5px;\\n        }\\n\\n        #ageEnterButton\\n        {\\n    \\tborder-color:;\\n    \\tbackground:;\\n    \\tcolor: ;\\n        }\\n\\n        #ageLeaveButton\\n        {\\n    \\tborder-color:;\\n    \\tbackground:;\\n    \\tcolor: ;\\n        }\\n\\n        #popup_content\\n        {\\n\\t    overflow-y:hidden;    \\toverflow-x: auto;\\n    \\theight: 100%;\\n    \\twidth:100%;\\n        }\\n\\n        #itro_popup\\n        {\\n    \\tvisibility: hidden;\\n    \\topacity: 0;\\n    \\tposition: fixed;\\n    \\tbackground-image: ;\\n    \\tbackground-repeat: no-repeat;\\n    \\tbackground-position: center center;\\n    \\tmargin: 0 auto;\\n    \\tleft:1px;\\n    \\tright:1px;\\n    \\tz-index: 2147483647 !important;\\n\\t    \\t    top:40px;border: solid;border-color:#FFFFFF;    \\tborder-radius: 8px;\\n    \\tborder-width: 3px;\\n    \\twidth: 480px;\\n    \\theight: auto;\\n    \\tbackground-color: #FFFFFF;\\n\\t            }\\n\\n        #close_cross\\n        {\\n    \\tcursor:pointer; \\n    \\twidth:20px; \\n    \\tposition:absolute; \\n    \\ttop:-22px; \\n    \\tright:-22px;\\n        }\\n\\n        #popup_countdown \\n        {\\n    \\tcolor: #582564;\\n    \\twidth: 100%;\\n    \\tpadding-top: 0px ;\\n    \\tpadding-bottom:0px ;\\n    \\tbackground-color: #FFFFFF;\\n    \\theight: 0px ;\\n    \\toverflow: hidden;\\n    \\tposition:absolute;\\n    \\tbottom:0px;\\n    \\tleft:0px;\\n    \\tborder-bottom-left:8px;\\n    \\tborder-bottom-right:8px;\\n        }\\n\\n        #itro_opaco{\\n    \\tdisplay: none;\\n    \\tposition:fixed;\\n    \\tbackground-color:  #FFFFFF;\\n    \\tfont-size: 10px;\\n    \\tfont-family: Verdana;\\n    \\ttop: 100px;    \\n    \\twidth: 100%;\\n    \\theight: 100%;\\n    \\tz-index: 2147483646 !important;\\n    \\tleft: 0px ;\\n    \\tright: 0px;\\n    \\ttop: 0px;\\n    \\tbottom: 0px;\\n    \\topacity: 0.80 ;\\n    \\tfilter:alpha(opacity = 80); /* For IE8 and earlier */\\n        }\\n\\n        /* label under the popup used to close it for mobile devices */\\n        #ipp_mobile_close_tab{\\n    \\tdisplay: none;\\n    \\tborder:none;\\n    \\tposition: absolute;\\n    \\tpadding: 5px;\\n    \\twidth: 80px;\\n    \\ttext-align: center;\\n    \\tleft: 1px;\\n    \\tright: 1px;\\n    \\tmargin: auto;\\n    \\tbackground-color: #FFFFFF        }\\n        #ipp_mobile_close_txt{\\n    \\tfont-weight: bold;\\n    \\tcursor: pointer;\\n        }\\n\\n        /* RESPONSIVE CSS */\\n        @media screen and (max-width: 780px)\\n        {\\n    \\t#itro_popup{\\n    \\t    max-width: 470px;\\n\\t\\t    \\t}\\n    \\t#close_cross{\\n    \\t    display: none;\\n    \\t}\\n    \\t#ipp_mobile_close_tab{\\n    \\t    display: block;\\n    \\t}\\n        }\\n        @media screen and (max-width: 480px){\\n    \\t#itro_popup{\\n    \\t    max-width: 300px\\n    \\t}\\n        }</style><div id=\"itro_popup\"> <img alt=\"CLOSE\" id=\"close_cross\" onclick=\"itro_exit_anim();\" src=\"https://www.biddytarot.com/wp-content/plugins/itro-popup/images/close-icon-white-border.png\" title=\"CLOSE\"/><div id=\"popup_content\"><p></p><div class=\"biddy-target\" data-advadstrackbid=\"1\" data-advadstrackid=\"71805\" id=\"biddy-731404225\"> <a href=\"https://www.biddytarot.com/webinar-mtcm/\" target=\"_blank\"> <img alt=\"\" class=\"phonehide alignnone size-full\" height=\"475\" loading=\"lazy\" src=\"https://www.biddytarot.com/wp-content/uploads/2022/01/MTCM-Webinar-Popup-C-1.jpg\" width=\"800\"/> <img alt=\"\" class=\"phoneshow alignnone size-full\" height=\"auto\" loading=\"lazy\" src=\"https://www.biddytarot.com/wp-content/uploads/2022/01/MTCM-Webinar-Mobile-C-1.jpg\" width=\"100%\"/> </a></div></div><div id=\"ipp_mobile_close_tab\"> <span id=\"ipp_mobile_close_txt\" onclick=\"itro_exit_anim();\">CLOSE</span></div></div><div id=\"itro_opaco\" onclick=\"itro_exit_anim();\"></div> <script type=\"text/javascript\">/* init var */\\n\\titro_cookie_expiration = 120;\\n\\titro_is_preview = false;/* pass true if is the preview page. used for cookie control via js due W3 total cache or similar */\\n\\tauto_margin = \"\";\\n\\t\\n\\t/* invert the color of the mobile close tab label text */\\n\\tjQuery(\\'#ipp_mobile_close_txt\\').css({color: itro_invert_color(itro_rgb2hex(jQuery(\\'#itro_popup\\').css(\\'border-bottom-color\\'))) });\\n\\titro_age_restriction = false;\\t\\t\\t\\tdocument.onkeydown = function(event) \\n\\t\\t\\t\\t{\\n\\t\\t\\t\\t\\tevent = event || window.event;\\n\\t\\t\\t\\t\\tvar key = event.keyCode;\\n\\t\\t\\t\\t\\tif(key==27)\\n\\t\\t\\t\\t\\t{\\n\\t\\t\\t\\t\\t\\tjQuery(\"#itro_popup\").fadeOut(function() {jQuery(\"#itro_opaco\").fadeOut();});\\n\\t\\t\\t\\t\\t} \\n\\t\\t\\t\\t}; \\t\\t\\t\\tvar delay = 10+1 ;\\n\\t\\t\\t\\tinterval_id_delay = setInterval(function(){popup_delay(auto_margin);},1000);</script> <div aria-hidden=\"true\" class=\"pum pum-overlay pum-theme-62027 pum-theme-default-theme popmake-overlay click_open\" data-popmake=\\'{\"id\":64588,\"slug\":\"workshop-coming-soon\",\"theme_id\":62027,\"cookies\":[],\"triggers\":[{\"type\":\"click_open\",\"settings\":{\"extra_selectors\":\"\",\"cookie_name\":null}}],\"mobile_disabled\":null,\"tablet_disabled\":null,\"meta\":{\"display\":{\"stackable\":false,\"overlay_disabled\":false,\"scrollable_content\":false,\"disable_reposition\":false,\"size\":false,\"responsive_min_width\":false,\"responsive_min_width_unit\":false,\"responsive_max_width\":false,\"responsive_max_width_unit\":false,\"custom_width\":false,\"custom_width_unit\":false,\"custom_height\":false,\"custom_height_unit\":false,\"custom_height_auto\":false,\"location\":false,\"position_from_trigger\":false,\"position_top\":false,\"position_left\":false,\"position_bottom\":false,\"position_right\":false,\"position_fixed\":false,\"animation_type\":false,\"animation_speed\":false,\"animation_origin\":false,\"overlay_zindex\":false,\"zindex\":false},\"close\":{\"text\":false,\"button_delay\":false,\"overlay_click\":false,\"esc_press\":false,\"f4_press\":false},\"click_open\":[]}}\\' id=\"pum-64588\" role=\"dialog\"><div class=\"pum-container popmake theme-62027 pum-responsive pum-responsive-medium responsive size-medium\" id=\"popmake-64588\"><div class=\"pum-content popmake-content\" tabindex=\"0\"><p></p><div class=\"wpb_row vc_row-fluid vc_row vc_row-o-equal-height vc_row-flex vc_row-o-content-middle marginbottom0\" data-column-margin=\"default\" data-midnight=\"dark\" id=\"fws_6204de60223d2\" style=\"padding-top: 0px; padding-bottom: 0px; -webkit-transform:  translateY(-50px); transform:  translateY(-50px);\"><div class=\"row-bg-wrap\" data-bg-animation=\"none\" data-bg-overlay=\"false\"><div class=\"inner-wrap\"><div class=\"row-bg viewport-desktop\" style=\"\"></div></div></div><div class=\"row_col_wrap_12 col span_12 dark left\"><div class=\"vc_col-sm-10 vc_col-lg-offset-1 vc_col-lg-10 vc_col-md-offset-1 vc_col-md-10 vc_col-sm-offset-1 vc_col-xs-offset-1 vc_col-xs-10 marginbottom0 wpb_column column_container vc_column_container col centered-text no-extra-padding inherit_tablet inherit_phone \" data-animation=\"\" data-bg-color=\"\" data-bg-opacity=\"1\" data-delay=\"0\" data-has-bg-color=\"false\" data-padding-pos=\"left-right\" style=\"margin-top: 25px; \"><div class=\"vc_column-inner\"><div class=\"wpb_wrapper\"><div class=\"divider-wrap\" data-alignment=\"default\"><div class=\"divider\" style=\"height: 50px;\"></div></div><div class=\"wpb_text_column wpb_content_element \"><div class=\"wpb_wrapper\"><h2 class=\"extrabold gold\" style=\"text-align: center;\">Sacred Workshop Coming Soon</h2></div></div><div class=\"wpb_text_column wpb_content_element purple\"><div class=\"wpb_wrapper\"><h4 class=\"extrabold\" style=\"text-align: center;\">Free Registration Opens on April 29</h4></div></div><a class=\"nectar-button large regular accent-color regular-button\" data-color-override=\"false\" data-hover-color-override=\"false\" data-hover-text-color-override=\"#fff\" href=\"/\" style=\"\" target=\"_blank\"><span>Back to BiddyTarot.com</span></a></div></div></div></div></div></div><button aria-label=\"Close\" class=\"pum-close popmake-close\" type=\"button\"> \\xc3\\x97 </button></div></div> <script id=\"wpb-modifications\" type=\"text/html\"></script><svg focusable=\"false\" height=\"0\" role=\"none\" style=\"visibility: hidden; position: absolute; left: -9999px; overflow: hidden;\" viewbox=\"0 0 0 0\" width=\"0\" xmlns=\"http://www.w3.org/2000/svg\"><defs><filter id=\"wp-duotone-dark-grayscale\"><fecolormatrix color-interpolation-filters=\"sRGB\" type=\"matrix\" values=\" .299 .587 .114 0 0 .299 .587 .114 0 0 .299 .587 .114 0 0 .299 .587 .114 0 0 \"></fecolormatrix><fecomponenttransfer color-interpolation-filters=\"sRGB\"><fefuncr tablevalues=\"0 0.49803921568627\" type=\"table\"></fefuncr><fefuncg tablevalues=\"0 0.49803921568627\" type=\"table\"></fefuncg><fefuncb tablevalues=\"0 0.49803921568627\" type=\"table\"></fefuncb><fefunca tablevalues=\"1 1\" type=\"table\"></fefunca></fecomponenttransfer><fecomposite in2=\"SourceGraphic\" operator=\"in\"></fecomposite></filter></defs></svg><svg focusable=\"false\" height=\"0\" role=\"none\" style=\"visibility: hidden; position: absolute; left: -9999px; overflow: hidden;\" viewbox=\"0 0 0 0\" width=\"0\" xmlns=\"http://www.w3.org/2000/svg\"><defs><filter id=\"wp-duotone-grayscale\"><fecolormatrix color-interpolation-filters=\"sRGB\" type=\"matrix\" values=\" .299 .587 .114 0 0 .299 .587 .114 0 0 .299 .587 .114 0 0 .299 .587 .114 0 0 \"></fecolormatrix><fecomponenttransfer color-interpolation-filters=\"sRGB\"><fefuncr tablevalues=\"0 1\" type=\"table\"></fefuncr><fefuncg tablevalues=\"0 1\" type=\"table\"></fefuncg><fefuncb tablevalues=\"0 1\" type=\"table\"></fefuncb><fefunca tablevalues=\"1 1\" type=\"table\"></fefunca></fecomponenttransfer><fecomposite in2=\"SourceGraphic\" operator=\"in\"></fecomposite></filter></defs></svg><svg focusable=\"false\" height=\"0\" role=\"none\" style=\"visibility: hidden; position: absolute; left: -9999px; overflow: hidden;\" viewbox=\"0 0 0 0\" width=\"0\" xmlns=\"http://www.w3.org/2000/svg\"><defs><filter id=\"wp-duotone-purple-yellow\"><fecolormatrix color-interpolation-filters=\"sRGB\" type=\"matrix\" values=\" .299 .587 .114 0 0 .299 .587 .114 0 0 .299 .587 .114 0 0 .299 .587 .114 0 0 \"></fecolormatrix><fecomponenttransfer color-interpolation-filters=\"sRGB\"><fefuncr tablevalues=\"0.54901960784314 0.98823529411765\" type=\"table\"></fefuncr><fefuncg tablevalues=\"0 1\" type=\"table\"></fefuncg><fefuncb tablevalues=\"0.71764705882353 0.25490196078431\" type=\"table\"></fefuncb><fefunca tablevalues=\"1 1\" type=\"table\"></fefunca></fecomponenttransfer><fecomposite in2=\"SourceGraphic\" operator=\"in\"></fecomposite></filter></defs></svg><svg focusable=\"false\" height=\"0\" role=\"none\" style=\"visibility: hidden; position: absolute; left: -9999px; overflow: hidden;\" viewbox=\"0 0 0 0\" width=\"0\" xmlns=\"http://www.w3.org/2000/svg\"><defs><filter id=\"wp-duotone-blue-red\"><fecolormatrix color-interpolation-filters=\"sRGB\" type=\"matrix\" values=\" .299 .587 .114 0 0 .299 .587 .114 0 0 .299 .587 .114 0 0 .299 .587 .114 0 0 \"></fecolormatrix><fecomponenttransfer color-interpolation-filters=\"sRGB\"><fefuncr tablevalues=\"0 1\" type=\"table\"></fefuncr><fefuncg tablevalues=\"0 0.27843137254902\" type=\"table\"></fefuncg><fefuncb tablevalues=\"0.5921568627451 0.27843137254902\" type=\"table\"></fefuncb><fefunca tablevalues=\"1 1\" type=\"table\"></fefunca></fecomponenttransfer><fecomposite in2=\"SourceGraphic\" operator=\"in\"></fecomposite></filter></defs></svg><svg focusable=\"false\" height=\"0\" role=\"none\" style=\"visibility: hidden; position: absolute; left: -9999px; overflow: hidden;\" viewbox=\"0 0 0 0\" width=\"0\" xmlns=\"http://www.w3.org/2000/svg\"><defs><filter id=\"wp-duotone-midnight\"><fecolormatrix color-interpolation-filters=\"sRGB\" type=\"matrix\" values=\" .299 .587 .114 0 0 .299 .587 .114 0 0 .299 .587 .114 0 0 .299 .587 .114 0 0 \"></fecolormatrix><fecomponenttransfer color-interpolation-filters=\"sRGB\"><fefuncr tablevalues=\"0 0\" type=\"table\"></fefuncr><fefuncg tablevalues=\"0 0.64705882352941\" type=\"table\"></fefuncg><fefuncb tablevalues=\"0 1\" type=\"table\"></fefuncb><fefunca tablevalues=\"1 1\" type=\"table\"></fefunca></fecomponenttransfer><fecomposite in2=\"SourceGraphic\" operator=\"in\"></fecomposite></filter></defs></svg><svg focusable=\"false\" height=\"0\" role=\"none\" style=\"visibility: hidden; position: absolute; left: -9999px; overflow: hidden;\" viewbox=\"0 0 0 0\" width=\"0\" xmlns=\"http://www.w3.org/2000/svg\"><defs><filter id=\"wp-duotone-magenta-yellow\"><fecolormatrix color-interpolation-filters=\"sRGB\" type=\"matrix\" values=\" .299 .587 .114 0 0 .299 .587 .114 0 0 .299 .587 .114 0 0 .299 .587 .114 0 0 \"></fecolormatrix><fecomponenttransfer color-interpolation-filters=\"sRGB\"><fefuncr tablevalues=\"0.78039215686275 1\" type=\"table\"></fefuncr><fefuncg tablevalues=\"0 0.94901960784314\" type=\"table\"></fefuncg><fefuncb tablevalues=\"0.35294117647059 0.47058823529412\" type=\"table\"></fefuncb><fefunca tablevalues=\"1 1\" type=\"table\"></fefunca></fecomponenttransfer><fecomposite in2=\"SourceGraphic\" operator=\"in\"></fecomposite></filter></defs></svg><svg focusable=\"false\" height=\"0\" role=\"none\" style=\"visibility: hidden; position: absolute; left: -9999px; overflow: hidden;\" viewbox=\"0 0 0 0\" width=\"0\" xmlns=\"http://www.w3.org/2000/svg\"><defs><filter id=\"wp-duotone-purple-green\"><fecolormatrix color-interpolation-filters=\"sRGB\" type=\"matrix\" values=\" .299 .587 .114 0 0 .299 .587 .114 0 0 .299 .587 .114 0 0 .299 .587 .114 0 0 \"></fecolormatrix><fecomponenttransfer color-interpolation-filters=\"sRGB\"><fefuncr tablevalues=\"0.65098039215686 0.40392156862745\" type=\"table\"></fefuncr><fefuncg tablevalues=\"0 1\" type=\"table\"></fefuncg><fefuncb tablevalues=\"0.44705882352941 0.4\" type=\"table\"></fefuncb><fefunca tablevalues=\"1 1\" type=\"table\"></fefunca></fecomponenttransfer><fecomposite in2=\"SourceGraphic\" operator=\"in\"></fecomposite></filter></defs></svg><svg focusable=\"false\" height=\"0\" role=\"none\" style=\"visibility: hidden; position: absolute; left: -9999px; overflow: hidden;\" viewbox=\"0 0 0 0\" width=\"0\" xmlns=\"http://www.w3.org/2000/svg\"><defs><filter id=\"wp-duotone-blue-orange\"><fecolormatrix color-interpolation-filters=\"sRGB\" type=\"matrix\" values=\" .299 .587 .114 0 0 .299 .587 .114 0 0 .299 .587 .114 0 0 .299 .587 .114 0 0 \"></fecolormatrix><fecomponenttransfer color-interpolation-filters=\"sRGB\"><fefuncr tablevalues=\"0.098039215686275 1\" type=\"table\"></fefuncr><fefuncg tablevalues=\"0 0.66274509803922\" type=\"table\"></fefuncg><fefuncb tablevalues=\"0.84705882352941 0.41960784313725\" type=\"table\"></fefuncb><fefunca tablevalues=\"1 1\" type=\"table\"></fefunca></fecomponenttransfer><fecomposite in2=\"SourceGraphic\" operator=\"in\"></fecomposite></filter></defs></svg><link href=\"https://www.biddytarot.com/wp-content/themes/salient/css/build/plugins/jquery.fancybox.css?ver=3.3.1\" id=\"fancyBox-css\" media=\"all\" rel=\"stylesheet\" type=\"text/css\"/><link href=\"https://www.biddytarot.com/wp-content/themes/salient/css/build/off-canvas/core.css?ver=14.0.3\" id=\"nectar-ocm-core-css\" media=\"all\" rel=\"stylesheet\" type=\"text/css\"/><link href=\"https://www.biddytarot.com/wp-content/themes/salient/css/build/off-canvas/slide-out-right-material.css?ver=14.0.3\" id=\"nectar-ocm-slide-out-right-material-css\" media=\"all\" rel=\"stylesheet\" type=\"text/css\"/> <script id=\"advanced-ads-pro/front-js\" src=\"https://www.biddytarot.com/wp-content/plugins/advanced-ads-pro/assets/js/advanced-ads-pro.min.js?ver=2.15.0\" type=\"text/javascript\"></script> <script id=\"jquery-easing-js\" src=\"https://www.biddytarot.com/wp-content/themes/salient/js/build/third-party/jquery.easing.min.js?ver=1.3\" type=\"text/javascript\"></script> <script id=\"jquery-mousewheel-js\" src=\"https://www.biddytarot.com/wp-content/themes/salient/js/build/third-party/jquery.mousewheel.min.js?ver=3.1.13\" type=\"text/javascript\"></script> <script id=\"nectar_priority-js\" src=\"https://www.biddytarot.com/wp-content/themes/salient/js/build/priority.js?ver=14.0.3\" type=\"text/javascript\"></script> <script id=\"nectar-transit-js\" src=\"https://www.biddytarot.com/wp-content/themes/salient/js/build/third-party/transit.min.js?ver=0.9.9\" type=\"text/javascript\"></script> <script id=\"nectar-waypoints-js\" src=\"https://www.biddytarot.com/wp-content/themes/salient/js/build/third-party/waypoints.js?ver=4.0.2\" type=\"text/javascript\"></script> <script id=\"imagesLoaded-js\" src=\"https://www.biddytarot.com/wp-content/themes/salient/js/build/third-party/imagesLoaded.min.js?ver=4.1.4\" type=\"text/javascript\"></script> <script id=\"hoverintent-js\" src=\"https://www.biddytarot.com/wp-content/themes/salient/js/build/third-party/hoverintent.min.js?ver=1.9\" type=\"text/javascript\"></script> <script id=\"fancyBox-js\" src=\"https://www.biddytarot.com/wp-content/themes/salient/js/build/third-party/jquery.fancybox.min.js?ver=3.3.8\" type=\"text/javascript\"></script> <script id=\"anime-js\" src=\"https://www.biddytarot.com/wp-content/themes/salient/js/build/third-party/anime.min.js?ver=4.5.1\" type=\"text/javascript\"></script> <script id=\"superfish-js\" src=\"https://www.biddytarot.com/wp-content/themes/salient/js/build/third-party/superfish.js?ver=1.5.8\" type=\"text/javascript\"></script> <script id=\"nectar-frontend-js-extra\" type=\"text/javascript\">/*  */\\nvar nectarLove = {\"ajaxurl\":\"https:\\\\/\\\\/www.biddytarot.com\\\\/wp-admin\\\\/admin-ajax.php\",\"postID\":\"2278\",\"rooturl\":\"https:\\\\/\\\\/www.biddytarot.com\",\"disqusComments\":\"false\",\"loveNonce\":\"f60fceeff8\",\"mapApiKey\":\"\"};\\nvar nectarOptions = {\"quick_search\":\"true\",\"header_entrance\":\"false\",\"mobile_header_format\":\"default\",\"ocm_btn_position\":\"default\",\"left_header_dropdown_func\":\"default\",\"ajax_add_to_cart\":\"0\",\"ocm_remove_ext_menu_items\":\"remove_images\",\"woo_product_filter_toggle\":\"0\",\"woo_sidebar_toggles\":\"true\",\"woo_sticky_sidebar\":\"0\",\"woo_minimal_product_hover\":\"default\",\"woo_minimal_product_effect\":\"default\",\"woo_related_upsell_carousel\":\"false\",\"woo_product_variable_select\":\"default\"};\\nvar nectar_front_i18n = {\"next\":\"Next\",\"previous\":\"Previous\"};\\n/*  */</script> <script id=\"nectar-frontend-js\" src=\"https://www.biddytarot.com/wp-content/themes/salient/js/build/init.js?ver=14.0.3\" type=\"text/javascript\"></script> <script id=\"touchswipe-js\" src=\"https://www.biddytarot.com/wp-content/plugins/salient-core/js/third-party/touchswipe.min.js?ver=1.0\" type=\"text/javascript\"></script> <script id=\"select2-js\" src=\"https://www.biddytarot.com/wp-content/themes/salient/js/build/third-party/select2.min.js?ver=4.0.1\" type=\"text/javascript\"></script> <script id=\"advanced-ads-pro/cache_busting-js-extra\" type=\"text/javascript\">/*  */\\nvar advanced_ads_pro_ajax_object = {\"ajax_url\":\"https:\\\\/\\\\/www.biddytarot.com\\\\/wp-admin\\\\/admin-ajax.php\",\"lazy_load_module_enabled\":\"\",\"lazy_load\":{\"default_offset\":0,\"offsets\":[]},\"moveintohidden\":\"\",\"wp_timezone_offset\":\"-28800\"};\\n/*  */</script> <script id=\"advanced-ads-pro/cache_busting-js\" src=\"https://www.biddytarot.com/wp-content/plugins/advanced-ads-pro/assets/js/base.min.js?ver=2.15.0\" type=\"text/javascript\"></script> <script id=\"wpb_composer_front_js-js\" src=\"https://www.biddytarot.com/wp-content/plugins/js_composer_salient/assets/js/dist/js_composer_front.min.js?ver=6.7\" type=\"text/javascript\"></script> <script id=\"jquery-ui-core-js\" src=\"https://www.biddytarot.com/wp-includes/js/jquery/ui/core.min.js?ver=1.13.0\" type=\"text/javascript\"></script> <script id=\"popup-maker-site-js-extra\" type=\"text/javascript\">/*  */\\nvar pum_vars = {\"version\":\"1.16.4\",\"pm_dir_url\":\"https:\\\\/\\\\/www.biddytarot.com\\\\/wp-content\\\\/plugins\\\\/popup-maker\\\\/\",\"ajaxurl\":\"https:\\\\/\\\\/www.biddytarot.com\\\\/wp-admin\\\\/admin-ajax.php\",\"restapi\":\"https:\\\\/\\\\/www.biddytarot.com\\\\/wp-json\\\\/pum\\\\/v1\",\"rest_nonce\":null,\"default_theme\":\"62027\",\"debug_mode\":\"\",\"disable_tracking\":\"\",\"home_url\":\"\\\\/\",\"message_position\":\"top\",\"core_sub_forms_enabled\":\"1\",\"popups\":[],\"analytics_route\":\"analytics\",\"analytics_api\":\"https:\\\\/\\\\/www.biddytarot.com\\\\/wp-json\\\\/pum\\\\/v1\"};\\nvar pum_sub_vars = {\"ajaxurl\":\"https:\\\\/\\\\/www.biddytarot.com\\\\/wp-admin\\\\/admin-ajax.php\",\"message_position\":\"top\"};\\nvar pum_popups = {\"pum-64588\":{\"triggers\":[],\"cookies\":[],\"disable_on_mobile\":false,\"disable_on_tablet\":false,\"atc_promotion\":null,\"explain\":null,\"type_section\":null,\"theme_id\":62027,\"size\":\"medium\",\"responsive_min_width\":\"0%\",\"responsive_max_width\":\"100%\",\"custom_width\":\"640px\",\"custom_height_auto\":false,\"custom_height\":\"380px\",\"scrollable_content\":false,\"animation_type\":\"fade\",\"animation_speed\":350,\"animation_origin\":\"center top\",\"open_sound\":\"none\",\"custom_sound\":\"\",\"location\":\"center top\",\"position_top\":100,\"position_bottom\":0,\"position_left\":0,\"position_right\":0,\"position_from_trigger\":false,\"position_fixed\":false,\"overlay_disabled\":false,\"stackable\":false,\"disable_reposition\":false,\"zindex\":1999999999,\"close_button_delay\":0,\"fi_promotion\":null,\"close_on_form_submission\":false,\"close_on_form_submission_delay\":0,\"close_on_overlay_click\":false,\"close_on_esc_press\":false,\"close_on_f4_press\":false,\"disable_form_reopen\":false,\"disable_accessibility\":false,\"theme_slug\":\"default-theme\",\"id\":64588,\"slug\":\"workshop-coming-soon\"}};\\n/*  */</script> <script id=\"popup-maker-site-js\" src=\"//www.biddytarot.com/wp-content/uploads/pum/pum-site-scripts.js?defer&amp;generated=1643492273&amp;ver=1.16.4\" type=\"text/javascript\"></script> <script id=\"advadsTrackingScript-js-extra\" type=\"text/javascript\">/*  */\\nvar advadsTracking = {\"impressionActionName\":\"aatrack-records\",\"clickActionName\":\"aatrack-click\",\"targetClass\":\"biddy-target\",\"blogId\":\"1\"};\\n/*  */</script> <script id=\"advadsTrackingScript-js\" src=\"https://www.biddytarot.com/wp-content/plugins/advanced-ads-tracking/public/assets/js/dist/tracking.min.js?ver=2.1.3\" type=\"text/javascript\"></script> <script id=\"advadsTrackingGAFront-js-extra\" type=\"text/javascript\">/*  */\\nvar advadsGALocale = {\"Impressions\":\"Impressions\",\"Clicks\":\"Clicks\"};\\n/*  */</script> <script id=\"advadsTrackingGAFront-js\" src=\"https://www.biddytarot.com/wp-content/plugins/advanced-ads-tracking/public/assets/js/dist/ga-tracking.min.js?ver=2.1.3\" type=\"text/javascript\"></script> <script>window.advads_admin_bar_items = [{\"title\":\"MTCM Webinar - Optin Bar - C\",\"type\":\"ad\"},{\"title\":\"Optin Bar\",\"type\":\"group\"},{\"title\":\"MTCM Webinar - TCM Banner - C-1\",\"type\":\"ad\"},{\"title\":\"TCM Banner\",\"type\":\"group\"},{\"title\":\"STATIC: Oranum - Desktop - B\",\"type\":\"ad\"},{\"title\":\"TCM Bottom Banner\",\"type\":\"group\"},{\"title\":\"Blog - Content Middle\",\"type\":\"placement\"},{\"title\":\"Blog - Content\",\"type\":\"group\"},{\"title\":\"Blog - Middle - Promo\",\"type\":\"placement\"},{\"title\":\"Blog - Middle - Promo\",\"type\":\"group\"},{\"title\":\"MTCM Webinar - Popup - C-1\",\"type\":\"ad\"},{\"title\":\"Popup\",\"type\":\"group\"}];</script><script>window.advads_has_ads = [[\"69240\",\"ad\",\"MTCM Webinar - Optin Bar - C\",\"off\"],[\"71807\",\"ad\",\"MTCM Webinar - TCM Banner - C-1\",\"off\"],[\"71551\",\"ad\",\"STATIC: Oranum - Desktop - B\",\"off\"],[\"71805\",\"ad\",\"MTCM Webinar - Popup - C-1\",\"off\"]];\\n( window.advanced_ads_ready || jQuery( document ).ready ).call( null, function() {if ( !window.advanced_ads_pro ) {console.log(\"Advanced Ads Pro: cache-busting can not be initialized\");} });</script> <script async=\"async\" src=\"//platform-api.sharethis.com/js/sharethis.js#property=5afa0dc58ee14d0011069a72&amp;product=inline-share-buttons\" type=\"text/javascript\"></script> <script>!function(f,b,e,v,n,t,s){if(f.fbq)return;n=f.fbq=function(){n.callMethod?\\n\\tn.callMethod.apply(n,arguments):n.queue.push(arguments)};if(!f._fbq)f._fbq=n;\\n\\tn.push=n;n.loaded=!0;n.version=\\'2.0\\';n.queue=[];t=b.createElement(e);t.async=!0;\\n\\tt.src=v;s=b.getElementsByTagName(e)[0];s.parentNode.insertBefore(t,s)}(window,\\n\\tdocument,\\'script\\',\\'https://connect.facebook.net/en_US/fbevents.js\\');\\n\\n\\tfbq(\\'init\\', \\'342033679332480\\');\\n\\tfbq(\\'track\\', \"PageView\");</script> <noscript><img height=\"1\" src=\"https://www.facebook.com/tr?id=342033679332480&amp;ev=PageView&amp;noscript=1\" style=\"display:none\" width=\"1\"/></noscript> <script type=\"text/javascript\">window.$zopim||(function(d,s){var z=$zopim=function(c){z._.push(c)},$=z.s=\\n\\td.createElement(s),e=d.getElementsByTagName(s)[0];z.set=function(o){z.set.\\n\\t_.push(o)};z._=[];z.set._=[];$.async=!0;$.setAttribute(\"charset\",\"utf-8\");\\n\\t$.src=\"//v2.zopim.com/?3cB87JzwwMni6cuEdMRTdgWTUMr8qz0u\";z.t=+new Date;$.\\n\\ttype=\"text/javascript\";e.parentNode.insertBefore($,e)})(document,\"script\");</script> <script async=\"true\" data-cfasync=\"false\" onload=\\'_mri=\"23279\",_mr_domain=\"biddytarot.ontraport.com\",mrtracking();\\' src=\"https://optassets.ontraport.com/tracking.js\" type=\"text/javascript\"></script> <script defer=\"defer\" src=\"https://extend.vimeocdn.com/ga/72277431.js\" type=\"text/javascript\"></script> <script type=\"text/javascript\">var _segq = _segq || [];\\n\\t\\tvar _segs = _segs || {};\\n\\t\\t(function () {var dc = document.createElement(\\'script\\');dc.type = \\'text/javascript\\';dc.async = true;dc.src = \\'//tag.segmetrics.io/a1vV2d.js\\';var s = document.getElementsByTagName(\\'script\\')[0];s.parentNode.insertBefore(dc,s);})();</script> <link href=\"//cdnjs.cloudflare.com/ajax/libs/cookieconsent2/3.0.3/cookieconsent.min.css\" rel=\"stylesheet\" type=\"text/css\"/> <script src=\"//cdnjs.cloudflare.com/ajax/libs/cookieconsent2/3.0.3/cookieconsent.min.js\"></script> <script>window.addEventListener(\"load\", function(){\\n\\twindow.cookieconsent.initialise({\\n\\t  \"palette\": {\\n\\t    \"popup\": {\\n\\t      \"background\": \"#4d4d4d\",\\n\\t      \"text\": \"#fff\"\\n\\t    },\\n\\t    \"button\": {\\n\\t      \"background\": \"#287c7e\",\\n\\t      \"text\": \"#ffffff\"\\n\\t    }\\n\\t  },\\n\\t  \"content\": {\\n\\t    \"message\": \"This website uses cookies and Facebook pixel data to allow us to track our traffic and marketing efforts so that we may better serve you.\",\\n\\t    \"dismiss\": \"Got it!\",\\n\\t    \"href\": \"https://www.biddytarot.com/privacy-policy/\"\\n\\t  }\\n\\t})});</script> <script>!function(){window.advanced_ads_ready_queue=window.advanced_ads_ready_queue||[],advanced_ads_ready_queue.push=window.advanced_ads_ready;for(var d=0,a=advanced_ads_ready_queue.length;d<a;d++)advanced_ads_ready(advanced_ads_ready_queue[d])}();</script><script id=\"biddy-tracking\">var advads_tracking_ads = {\"1\":[69240,71807,71551,71805]};var advads_tracking_urls = {\"1\":\"https:\\\\/\\\\/www.biddytarot.com\\\\/wp-admin\\\\/admin-ajax.php\"};var advads_tracking_methods = {\"1\":\"ga\"};var advads_tracking_parallel = {\"1\":false};var advads_tracking_linkbases = {\"1\":\"https:\\\\/\\\\/www.biddytarot.com\\\\/linkout\\\\/\"};var advads_gatracking_uids = {\"1\":\"UA-12507634-1\"};var advads_gatracking_allads = {\"1\":{\"72691\":{\"title\":\"MTCM Webinar - Blog - C-1\",\"target\":\"https:\\\\/\\\\/www.biddytarot.com\\\\/webinar-mtcm\\\\/\",\"impression\":true,\"click\":true},\"72690\":{\"title\":\"MTCM Webinar - Blog - C\",\"target\":\"https:\\\\/\\\\/www.biddytarot.com\\\\/webinar-mtcm\",\"impression\":true,\"click\":true},\"71809\":{\"title\":\"MTCM Webinar - TCM Banner - C-2\",\"target\":\"https:\\\\/\\\\/www.biddytarot.com\\\\/webinar-mtcm\\\\/\",\"impression\":true,\"click\":true},\"71804\":{\"title\":\"MTCM Webinar - Optin Bar - C-2\",\"target\":\"https:\\\\/\\\\/www.biddytarot.com\\\\/webinar-mtcm\\\\/\",\"impression\":true,\"click\":true},\"71807\":{\"title\":\"MTCM Webinar - TCM Banner - C-1\",\"target\":\"https:\\\\/\\\\/www.biddytarot.com\\\\/webinar-mtcm\\\\/\",\"impression\":true,\"click\":true},\"71799\":{\"title\":\"MTCM Webinar - Home Banner - C-1\",\"target\":\"https:\\\\/\\\\/www.biddytarot.com\\\\/webinar-mtcm\\\\/\",\"impression\":true,\"click\":true},\"71805\":{\"title\":\"MTCM Webinar - Popup - C-1\",\"target\":\"https:\\\\/\\\\/www.biddytarot.com\\\\/webinar-mtcm\\\\/\",\"impression\":true,\"click\":true},\"71806\":{\"title\":\"MTCM Webinar - Popup - C-2\",\"target\":\"https:\\\\/\\\\/www.biddytarot.com\\\\/webinar-mtcm\\\\/\",\"impression\":true,\"click\":true},\"71801\":{\"title\":\"MTCM Webinar - Home Banner - C-2\",\"target\":\"https:\\\\/\\\\/www.biddytarot.com\\\\/webinar-mtcm\\\\/\",\"impression\":true,\"click\":true},\"71802\":{\"title\":\"MTCM Webinar - Optin Bar - C-1\",\"target\":\"https:\\\\/\\\\/www.biddytarot.com\\\\/webinar-mtcm\\\\/\",\"impression\":true,\"click\":true},\"71551\":{\"title\":\"STATIC: Oranum - Desktop - B\",\"target\":\"\",\"impression\":true,\"click\":true},\"71518\":{\"title\":\"STATIC - GYTBO Quiz 2022 - Blog Content (Mobile)\",\"target\":\"https:\\\\/\\\\/www.biddytarot.com\\\\/reading-quiz\\\\/\",\"impression\":true,\"click\":true},\"71516\":{\"title\":\"STATIC - GYTBO Quiz 2022 - Blog Content (Desktop)\",\"target\":\"https:\\\\/\\\\/www.biddytarot.com\\\\/reading-quiz\\\\/\",\"impression\":true,\"click\":true},\"71519\":{\"title\":\"STATIC - GYTBO Quiz 2022 - Blog Banner\",\"target\":\"https:\\\\/\\\\/www.biddytarot.com\\\\/reading-quiz\\\\/\",\"impression\":true,\"click\":true},\"71515\":{\"title\":\"STATIC - GYTBO Money Moon - Blog Content (Mobile)\",\"target\":\"https:\\\\/\\\\/www.biddytarot.com\\\\/manifesting-with-the-moon\\\\/\",\"impression\":true,\"click\":true},\"71512\":{\"title\":\"STATIC - GYTBO Money Moon - Blog Content (Desktop)\",\"target\":\"https:\\\\/\\\\/www.biddytarot.com\\\\/manifesting-with-the-moon\\\\/\",\"impression\":true,\"click\":true},\"71509\":{\"title\":\"STATIC \\\\u2013 GYTBO Webinar \\\\u2013 Blog Banner\",\"target\":\"https:\\\\/\\\\/www.biddytarot.com\\\\/webinar-gytbo\\\\/\",\"impression\":true,\"click\":true},\"71508\":{\"title\":\"STATIC - GYTBO Webinar - Blog Content (Mobile)\",\"target\":\"https:\\\\/\\\\/www.biddytarot.com\\\\/webinar-gytbo\\\\/\",\"impression\":true,\"click\":true},\"71505\":{\"title\":\"STATIC - GYTBO Webinar - Blog Content (Desktop)\",\"target\":\"https:\\\\/\\\\/www.biddytarot.com\\\\/webinar-gytbo\\\\/\",\"impression\":true,\"click\":true},\"69237\":{\"title\":\"MTCM Webinar - Home Banner - C\",\"target\":\"https:\\\\/\\\\/www.biddytarot.com\\\\/webinar-mtcm\",\"impression\":true,\"click\":true},\"69240\":{\"title\":\"MTCM Webinar - Optin Bar - C\",\"target\":\"https:\\\\/\\\\/www.biddytarot.com\\\\/webinar-mtcm\",\"impression\":true,\"click\":true},\"69242\":{\"title\":\"MTCM Webinar - Popup - C\",\"target\":\"https:\\\\/\\\\/www.biddytarot.com\\\\/webinar-mtcm\",\"impression\":true,\"click\":true},\"69244\":{\"title\":\"MTCM Webinar - TCM Banner - C\",\"target\":\"https:\\\\/\\\\/www.biddytarot.com\\\\/webinar-mtcm\",\"impression\":true,\"click\":true},\"71292\":{\"title\":\"STATIC - Money Mindset - Blog Banner\",\"target\":\"https:\\\\/\\\\/www.biddytarot.com\\\\/money-mindset-meditation\\\\/\",\"impression\":true,\"click\":true},\"71287\":{\"title\":\"STATIC - Money Meditation - Blog Content (Mobile)\",\"target\":\"https:\\\\/\\\\/www.biddytarot.com\\\\/money-mindset-meditation\\\\/\",\"impression\":true,\"click\":true},\"71291\":{\"title\":\"STATIC - Money Meditation - Blog Content (Desktop)\",\"target\":\"https:\\\\/\\\\/www.biddytarot.com\\\\/money-mindset-meditation\\\\/\",\"impression\":true,\"click\":true},\"71005\":{\"title\":\"STATIC - Goal Setting - Blog Content (Mobile)\",\"target\":\"https:\\\\/\\\\/www.biddytarot.com\\\\/masterclass\\\\/goal-setting\\\\/\",\"impression\":true,\"click\":true},\"71002\":{\"title\":\"STATIC - Goal Setting - Blog Content (Desktop)\",\"target\":\"https:\\\\/\\\\/www.biddytarot.com\\\\/masterclass\\\\/goal-setting\\\\/\",\"impression\":true,\"click\":true},\"71006\":{\"title\":\"STATIC - Goal Setting - Blog Banner\",\"target\":\"https:\\\\/\\\\/www.biddytarot.com\\\\/masterclass\\\\/goal-setting\\\\/\",\"impression\":true,\"click\":true},\"70619\":{\"title\":\"STATIC: Oranum - Mobile\",\"target\":\"\",\"impression\":true,\"click\":true},\"70618\":{\"title\":\"STATIC: Oranum - Desktop\",\"target\":\"\",\"impression\":true,\"click\":true},\"70620\":{\"title\":\"STATIC - Celtic Cross - Blog Content (Desktop)\",\"target\":\"https:\\\\/\\\\/www.biddytarot.com\\\\/masterclass\\\\/celtic-cross\\\\/\",\"impression\":true,\"click\":true},\"70623\":{\"title\":\"STATIC - Celtic Cross - Blog Content (Mobile)\",\"target\":\"https:\\\\/\\\\/www.biddytarot.com\\\\/masterclass\\\\/celtic-cross\\\\/\",\"impression\":true,\"click\":true},\"70625\":{\"title\":\"STATIC - Celtic Cross - Blog Banner\",\"target\":\"https:\\\\/\\\\/www.biddytarot.com\\\\/masterclass\\\\/celtic-cross\\\\/\",\"impression\":true,\"click\":true},\"69877\":{\"title\":\"STATIC - Planner - Blog Banner\",\"target\":\"https:\\\\/\\\\/www.biddytarot.com\\\\/planner\\\\/\",\"impression\":true,\"click\":true},\"69876\":{\"title\":\"STATIC - Planner - Blog Content (Mobile)\",\"target\":\"https:\\\\/\\\\/www.biddytarot.com\\\\/planner\\\\/\",\"impression\":true,\"click\":true},\"69872\":{\"title\":\"STATIC - Planner - Blog Content (Desktop)\",\"target\":\"https:\\\\/\\\\/www.biddytarot.com\\\\/planner\\\\/\",\"impression\":true,\"click\":true},\"69835\":{\"title\":\"STATIC - Intuitive Tarot - Blog Banner\",\"target\":\"https:\\\\/\\\\/www.biddytarot.com\\\\/tarot-guides\\\\/intuitive-tarot\\\\/\",\"impression\":true,\"click\":true},\"69833\":{\"title\":\"STATIC - Intuitive Tarot - Blog Content (Mobile)\",\"target\":\"https:\\\\/\\\\/www.biddytarot.com\\\\/tarot-guides\\\\/intuitive-tarot\\\\/\",\"impression\":true,\"click\":true},\"69830\":{\"title\":\"STATIC - Intuitive Tarot - Blog Content (Desktop)\",\"target\":\"https:\\\\/\\\\/www.biddytarot.com\\\\/tarot-guides\\\\/intuitive-tarot\\\\/\",\"impression\":true,\"click\":true},\"69796\":{\"title\":\"STATIC - Tarot Card Combinations - Blog Banner\",\"target\":\"https:\\\\/\\\\/www.biddytarot.com\\\\/free-pdf-tarot-card-combinations\\\\/\",\"impression\":true,\"click\":true},\"69758\":{\"title\":\"STATIC - Reference Guide - Blog Banner\",\"target\":\"https:\\\\/\\\\/www.biddytarot.com\\\\/reference-guide\\\\/\",\"impression\":true,\"click\":true},\"69756\":{\"title\":\"STATIC - Reference Guide - Blog Content (Desktop)\",\"target\":\"https:\\\\/\\\\/www.biddytarot.com\\\\/reference-guide\\\\/\",\"impression\":true,\"click\":true},\"69753\":{\"title\":\"STATIC - Reference Guide - Blog Content (Mobile)\",\"target\":\"https:\\\\/\\\\/www.biddytarot.com\\\\/reference-guide\\\\/\",\"impression\":true,\"click\":true},\"69746\":{\"title\":\"STATIC - Soul-Aligned - Blog Banner\",\"target\":\"https:\\\\/\\\\/www.biddytarot.com\\\\/soul-aligned-business\\\\/\",\"impression\":true,\"click\":true},\"69743\":{\"title\":\"STATIC - Soul-Aligned - Blog Content (Mobile)\",\"target\":\"https:\\\\/\\\\/www.biddytarot.com\\\\/soul-aligned-business\\\\/\",\"impression\":true,\"click\":true},\"69739\":{\"title\":\"STATIC - Soul-Aligned - Blog Content (Desktop)\",\"target\":\"https:\\\\/\\\\/www.biddytarot.com\\\\/soul-aligned-business\\\\/\",\"impression\":true,\"click\":true},\"69685\":{\"title\":\"STATIC - Tarot 101 - Blog Banner\",\"target\":\"https:\\\\/\\\\/biddytarot.com\\\\/eg-tarot-101\",\"impression\":true,\"click\":true},\"69677\":{\"title\":\"STATIC - Tarot 101 - Blog Content (Mobile)\",\"target\":\"https:\\\\/\\\\/biddytarot.com\\\\/eg-tarot-101\",\"impression\":true,\"click\":true},\"69674\":{\"title\":\"STATIC - Tarot 101 - Blog Content (Desktop)\",\"target\":\"http:\\\\/\\\\/biddytarot.com\\\\/eg-tarot-101\",\"impression\":true,\"click\":true},\"69543\":{\"title\":\"Reference Guide - TCM Banner\",\"target\":\"https:\\\\/\\\\/www.biddytarot.com\\\\/tarot-card-keywords-printable\\\\/\",\"impression\":true,\"click\":true},\"69542\":{\"title\":\"Reference Guide - Popup\",\"target\":\"https:\\\\/\\\\/www.biddytarot.com\\\\/tarot-card-keywords-printable\\\\/\",\"impression\":true,\"click\":true},\"69540\":{\"title\":\"Reference Guide - Optin Bar\",\"target\":\"https:\\\\/\\\\/www.biddytarot.com\\\\/tarot-card-keywords-printable\\\\/\",\"impression\":true,\"click\":true},\"69538\":{\"title\":\"Reference Guide - Home Banner\",\"target\":\"https:\\\\/\\\\/www.biddytarot.com\\\\/tarot-card-keywords-printable\\\\/\",\"impression\":true,\"click\":true},\"69419\":{\"title\":\"STATIC - GYTBO Money Moon - Full Banner\",\"target\":\"\",\"impression\":true,\"click\":true},\"69417\":{\"title\":\"STATIC - GYTBO Quiz - Full Banner\",\"target\":\"\",\"impression\":true,\"click\":true},\"69415\":{\"title\":\"STATIC - FREE TAROT READINGS - Banner\",\"target\":\"\",\"impression\":true,\"click\":true},\"68543\":{\"title\":\"MTCM Webinar - Suit of Swords Banner\",\"target\":\"https:\\\\/\\\\/www.biddytarot.com\\\\/webinar-mtcm\",\"impression\":true,\"click\":true},\"68542\":{\"title\":\"MTCM Webinar - The Fool Banner\",\"target\":\"https:\\\\/\\\\/www.biddytarot.com\\\\/webinar-mtcm\",\"impression\":true,\"click\":true},\"68541\":{\"title\":\"MTCM Webinar - Major Arcana Banner\",\"target\":\"https:\\\\/\\\\/www.biddytarot.com\\\\/webinar-mtcm\",\"impression\":true,\"click\":true},\"68000\":{\"title\":\"MTCM Webinar - Optin Bar - B\",\"target\":\"https:\\\\/\\\\/www.biddytarot.com\\\\/webinar-mtcm\",\"impression\":true,\"click\":true},\"65804\":{\"title\":\"MTCM Webinar - Optin Bar\",\"target\":\"https:\\\\/\\\\/www.biddytarot.com\\\\/webinar-mtcm\",\"impression\":true,\"click\":true},\"67998\":{\"title\":\"MTCM Webinar - TCM Banner - B\",\"target\":\"https:\\\\/\\\\/www.biddytarot.com\\\\/webinar-mtcm\",\"impression\":true,\"click\":true},\"65803\":{\"title\":\"MTCM Webinar - Home Banner\",\"target\":\"https:\\\\/\\\\/www.biddytarot.com\\\\/webinar-mtcm\",\"impression\":true,\"click\":true},\"67999\":{\"title\":\"MTCM Webinar - Popup - B\",\"target\":\"https:\\\\/\\\\/www.biddytarot.com\\\\/webinar-mtcm\",\"impression\":true,\"click\":true},\"68001\":{\"title\":\"MTCM Webinar - Home Banner - B\",\"target\":\"https:\\\\/\\\\/www.biddytarot.com\\\\/webinar-mtcm\",\"impression\":true,\"click\":true},\"65806\":{\"title\":\"MTCM Webinar - TCM Banner\",\"target\":\"https:\\\\/\\\\/www.biddytarot.com\\\\/webinar-mtcm\",\"impression\":true,\"click\":true},\"65805\":{\"title\":\"MTCM Webinar - Popup\",\"target\":\"https:\\\\/\\\\/www.biddytarot.com\\\\/webinar-mtcm\",\"impression\":true,\"click\":true},\"65386\":{\"title\":\"Intuitive Tarot - TCM Banner - A\",\"target\":\"https:\\\\/\\\\/www.biddytarot.com\\\\/tarot-guides\\\\/intuitive-tarot\\\\/\",\"impression\":true,\"click\":true},\"65243\":{\"title\":\"Community Quiz - Popup - 2A\",\"target\":\"https:\\\\/\\\\/www.biddytarot.com\\\\/style-quiz\\\\/\",\"impression\":true,\"click\":true},\"65247\":{\"title\":\"Community Quiz - TCM Banner - 2A\",\"target\":\"https:\\\\/\\\\/www.biddytarot.com\\\\/style-quiz\\\\/\",\"impression\":true,\"click\":true},\"65245\":{\"title\":\"Communit Quiz - Home Banner - 2A\",\"target\":\"https:\\\\/\\\\/www.biddytarot.com\\\\/style-quiz\\\\/\",\"impression\":true,\"click\":true},\"65241\":{\"title\":\"Community Quiz - Optin Bar - 2A\",\"target\":\"https:\\\\/\\\\/www.biddytarot.com\\\\/style-quiz\\\\/\",\"impression\":true,\"click\":true},\"64807\":{\"title\":\"BTCP 2021 - Early Bird - TCM Banner A\",\"target\":\"https:\\\\/\\\\/www.biddytarot.com\\\\/btcpearlytcma\",\"impression\":true,\"click\":true},\"64979\":{\"title\":\"BTCP 2021 - Early Bird - Optin Bar - A\",\"target\":\"https:\\\\/\\\\/www.biddytarot.com\\\\/btcpearlyoptina\",\"impression\":true,\"click\":true},\"64967\":{\"title\":\"BTCP 2021 - Early Bird - Home Banner - A\",\"target\":\"https:\\\\/\\\\/www.biddytarot.com\\\\/btcpearlyhomea\",\"impression\":true,\"click\":true},\"64969\":{\"title\":\"BTCP 2021 - Early Bird - Home Banner - B\",\"target\":\"https:\\\\/\\\\/www.biddytarot.com\\\\/btcpearlyhomeb\",\"impression\":true,\"click\":true},\"64982\":{\"title\":\"BTCP 2021 - Early Bird - Popup - A\",\"target\":\"https:\\\\/\\\\/www.biddytarot.com\\\\/btcpearlypopupa\",\"impression\":true,\"click\":true},\"64983\":{\"title\":\"BTCP 2021 - Early Bird - Popup - B\",\"target\":\"https:\\\\/\\\\/www.biddytarot.com\\\\/btcpearlypopupb\",\"impression\":true,\"click\":true},\"64810\":{\"title\":\"BTCP 2021 - Early Bird - TCM Banner B\",\"target\":\"https:\\\\/\\\\/www.biddytarot.com\\\\/btcpearlytcmb\",\"impression\":true,\"click\":true},\"64981\":{\"title\":\"BTCP 2021 - Early Bird - Optin Bar - B\",\"target\":\"https:\\\\/\\\\/www.biddytarot.com\\\\/btcpearlyoptinb\",\"impression\":true,\"click\":true}}};var advads_gatracking_anonym = false;var advads_gatracking_transmitpageqs = {};</script> <script type=\"text/javascript\">if ( typeof window.advadsGATracking === \\'undefined\\' ) {\\n\\t\\t\\t\\t\\twindow.advadsGATracking = {};\\n\\t\\t\\t\\t}\\n\\t\\t\\t\\t\\t\\t\\t\\tadvadsGATracking.postContext = {\"postID\":2278,\"postSlug\":\"major-arcana\",\"cats\":\"\"};</script> <script crossorigin=\"anonymous\" data-cf-beacon=\\'{\"rayId\":\"6db4fc34bab14c92\",\"token\":\"e087e2207d4943dead54ee5e6ef9e00e\",\"version\":\"2021.12.0\",\"si\":100}\\' defer=\"\" integrity=\"sha512-Gi7xpJR8tSkrpF7aordPZQlW2DLtzUlZcumS8dMQjwDHEnw9I7ZLyiOj/6tZStRBGtGgN6ceN6cMH8z7etPGlw==\" src=\"https://static.cloudflareinsights.com/beacon.min.js/v652eace1692a40cfa3763df669d7439c1639079717194\"></script>\\n</body></html>\\n'\n"
          ]
        }
      ]
    },
    {
      "cell_type": "code",
      "metadata": {
        "id": "JnTV51727YZ6"
      },
      "source": [
        "major_page = requests.get('https://www.biddytarot.com/tarot-card-meanings/major-arcana/')"
      ],
      "execution_count": 21,
      "outputs": []
    },
    {
      "cell_type": "code",
      "metadata": {
        "id": "IznAV2hc7YRw"
      },
      "source": [
        "soup_major = BeautifulSoup(major_page.text, \"lxml\")"
      ],
      "execution_count": 22,
      "outputs": []
    },
    {
      "cell_type": "code",
      "metadata": {
        "id": "BOzhyVnw7YIX"
      },
      "source": [
        "items = soup_major.find_all('div', {'class' : 'card_item'})"
      ],
      "execution_count": 23,
      "outputs": []
    },
    {
      "cell_type": "code",
      "metadata": {
        "id": "1HTFoqaBlIOA"
      },
      "source": [
        "keywords = []\n",
        "for i in items:\n",
        "  keywords.append(i.getText())"
      ],
      "execution_count": 24,
      "outputs": []
    },
    {
      "cell_type": "code",
      "metadata": {
        "colab": {
          "base_uri": "https://localhost:8080/"
        },
        "id": "albkzwUwm548",
        "outputId": "74e9c799-6202-4389-c56b-840323d71a6c"
      },
      "source": [
        "keywords\n"
      ],
      "execution_count": 25,
      "outputs": [
        {
          "output_type": "execute_result",
          "data": {
            "text/plain": [
              "['    UprightBeginnings, innocence, spontaneity, a free spiritReversedHolding back, recklessness, risk-takingThe Fool   ',\n",
              " '    UprightManifestation, resourcefulness, power, inspired actionReversedManipulation, poor planning, untapped talentsThe Magician   ',\n",
              " '    UprightIntuition, sacred knowledge, divine feminine, the subconscious mindReversedSecrets, disconnected from intuition, withdrawal and silenceThe High Priestess   ',\n",
              " '    UprightFemininity, beauty, nature, nurturing, abundanceReversedCreative block, dependence on othersThe Empress   ',\n",
              " '    UprightAuthority, establishment, structure, a father figureReversedDomination, excessive control, lack of discipline, inflexibilityThe Emperor   ',\n",
              " '    UprightSpiritual wisdom, religious beliefs, conformity, tradition,institutionsReversedPersonal beliefs, freedom, challenging the status quoThe Hierophant   ',\n",
              " '    UprightLove, harmony, relationships, values alignment, choicesReversedSelf-love, disharmony, imbalance, misalignment of valuesThe Lovers   ',\n",
              " '    UprightControl, willpower, success, action, determinationReversedSelf-discipline, opposition, lack of directionThe Chariot   ',\n",
              " '    UprightStrength, courage, persuasion, influence, compassionReversedInner strength, self-doubt, low energy, raw emotionStrength   ',\n",
              " '    UprightSoul-searching, introspection, being alone, inner guidanceReversedIsolation, loneliness, withdrawalThe Hermit   ',\n",
              " '    UprightGood luck, karma, life cycles, destiny, a turning pointReversedBad luck, resistance to change, breaking cyclesWheel of Fortune   ',\n",
              " '    UprightJustice, fairness, truth, cause and effect, lawReversedUnfairness, lack of accountability, dishonestyJustice   ',\n",
              " '    UprightPause, surrender, letting go, new perspectivesReversedDelays, resistance, stalling, indecisionThe Hanged Man   ',\n",
              " '    UprightEndings, change, transformation, transitionReversedResistance to change, personal transformation, inner purgingDeath   ',\n",
              " '    UprightBalance, moderation, patience, purposeReversedImbalance, excess, self-healing, re-alignmentTemperance   ',\n",
              " '    UprightShadow self, attachment, addiction, restriction, sexualityReversedReleasing limiting beliefs, exploring dark thoughts, detachmentThe Devil   ',\n",
              " '    UprightSudden change, upheaval, chaos, revelation, awakeningReversedPersonal transformation, fear of change, averting disasterThe Tower   ',\n",
              " '    UprightHope, faith, purpose, renewal, spiritualityReversedLack of faith, despair, self-trust, disconnectionThe Star   ',\n",
              " '    UprightIllusion, fear, anxiety, subconscious, intuitionReversedRelease of fear, repressed emotion, inner confusionThe Moon   ',\n",
              " '    UprightPositivity, fun, warmth, success, vitalityReversedInner child, feeling down, overly optimisticThe Sun   ',\n",
              " '    UprightJudgement, rebirth, inner calling, absolutionReversedSelf-doubt, inner critic, ignoring the callJudgement   ',\n",
              " '    UprightCompletion, integration, accomplishment, travelReversedSeeking personal closure, short-cuts, delaysThe World   ']"
            ]
          },
          "metadata": {},
          "execution_count": 25
        }
      ]
    },
    {
      "cell_type": "code",
      "metadata": {
        "id": "pk2WC5n1nQJC"
      },
      "source": [
        "keywords_test = [i.split('Reversed') for i in keywords] "
      ],
      "execution_count": 26,
      "outputs": []
    },
    {
      "cell_type": "code",
      "metadata": {
        "colab": {
          "base_uri": "https://localhost:8080/"
        },
        "id": "mugIDudaoQvC",
        "outputId": "bde8ce7b-9613-45ba-d6d4-ada391dbc6d5"
      },
      "source": [
        "keywords_test"
      ],
      "execution_count": 27,
      "outputs": [
        {
          "output_type": "execute_result",
          "data": {
            "text/plain": [
              "[['    UprightBeginnings, innocence, spontaneity, a free spirit',\n",
              "  'Holding back, recklessness, risk-takingThe Fool   '],\n",
              " ['    UprightManifestation, resourcefulness, power, inspired action',\n",
              "  'Manipulation, poor planning, untapped talentsThe Magician   '],\n",
              " ['    UprightIntuition, sacred knowledge, divine feminine, the subconscious mind',\n",
              "  'Secrets, disconnected from intuition, withdrawal and silenceThe High Priestess   '],\n",
              " ['    UprightFemininity, beauty, nature, nurturing, abundance',\n",
              "  'Creative block, dependence on othersThe Empress   '],\n",
              " ['    UprightAuthority, establishment, structure, a father figure',\n",
              "  'Domination, excessive control, lack of discipline, inflexibilityThe Emperor   '],\n",
              " ['    UprightSpiritual wisdom, religious beliefs, conformity, tradition,institutions',\n",
              "  'Personal beliefs, freedom, challenging the status quoThe Hierophant   '],\n",
              " ['    UprightLove, harmony, relationships, values alignment, choices',\n",
              "  'Self-love, disharmony, imbalance, misalignment of valuesThe Lovers   '],\n",
              " ['    UprightControl, willpower, success, action, determination',\n",
              "  'Self-discipline, opposition, lack of directionThe Chariot   '],\n",
              " ['    UprightStrength, courage, persuasion, influence, compassion',\n",
              "  'Inner strength, self-doubt, low energy, raw emotionStrength   '],\n",
              " ['    UprightSoul-searching, introspection, being alone, inner guidance',\n",
              "  'Isolation, loneliness, withdrawalThe Hermit   '],\n",
              " ['    UprightGood luck, karma, life cycles, destiny, a turning point',\n",
              "  'Bad luck, resistance to change, breaking cyclesWheel of Fortune   '],\n",
              " ['    UprightJustice, fairness, truth, cause and effect, law',\n",
              "  'Unfairness, lack of accountability, dishonestyJustice   '],\n",
              " ['    UprightPause, surrender, letting go, new perspectives',\n",
              "  'Delays, resistance, stalling, indecisionThe Hanged Man   '],\n",
              " ['    UprightEndings, change, transformation, transition',\n",
              "  'Resistance to change, personal transformation, inner purgingDeath   '],\n",
              " ['    UprightBalance, moderation, patience, purpose',\n",
              "  'Imbalance, excess, self-healing, re-alignmentTemperance   '],\n",
              " ['    UprightShadow self, attachment, addiction, restriction, sexuality',\n",
              "  'Releasing limiting beliefs, exploring dark thoughts, detachmentThe Devil   '],\n",
              " ['    UprightSudden change, upheaval, chaos, revelation, awakening',\n",
              "  'Personal transformation, fear of change, averting disasterThe Tower   '],\n",
              " ['    UprightHope, faith, purpose, renewal, spirituality',\n",
              "  'Lack of faith, despair, self-trust, disconnectionThe Star   '],\n",
              " ['    UprightIllusion, fear, anxiety, subconscious, intuition',\n",
              "  'Release of fear, repressed emotion, inner confusionThe Moon   '],\n",
              " ['    UprightPositivity, fun, warmth, success, vitality',\n",
              "  'Inner child, feeling down, overly optimisticThe Sun   '],\n",
              " ['    UprightJudgement, rebirth, inner calling, absolution',\n",
              "  'Self-doubt, inner critic, ignoring the callJudgement   '],\n",
              " ['    UprightCompletion, integration, accomplishment, travel',\n",
              "  'Seeking personal closure, short-cuts, delaysThe World   ']]"
            ]
          },
          "metadata": {},
          "execution_count": 27
        }
      ]
    },
    {
      "cell_type": "code",
      "metadata": {
        "id": "lHcZnXKjnaoD"
      },
      "source": [
        "# keywords3"
      ],
      "execution_count": 29,
      "outputs": []
    },
    {
      "cell_type": "code",
      "metadata": {
        "id": "YYjvmn0sUjV5",
        "colab": {
          "base_uri": "https://localhost:8080/"
        },
        "outputId": "00d459e0-cd43-45b8-ace0-b69096269115"
      },
      "source": [
        "print(items[0].getText())"
      ],
      "execution_count": 30,
      "outputs": [
        {
          "output_type": "stream",
          "name": "stdout",
          "text": [
            "    UprightBeginnings, innocence, spontaneity, a free spiritReversedHolding back, recklessness, risk-takingThe Fool   \n"
          ]
        }
      ]
    }
  ]
}